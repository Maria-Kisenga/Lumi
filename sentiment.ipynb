{
  "nbformat": 4,
  "nbformat_minor": 0,
  "metadata": {
    "colab": {
      "name": "sentiment.ipynb",
      "provenance": []
    },
    "kernelspec": {
      "name": "python3",
      "display_name": "Python 3"
    },
    "accelerator": "GPU"
  },
  "cells": [
    {
      "cell_type": "code",
      "metadata": {
        "id": "C_val0jvY_C8",
        "colab_type": "code",
        "outputId": "e2fe719e-03b5-4089-b4eb-647411813587",
        "colab": {
          "base_uri": "https://localhost:8080/",
          "height": 80
        }
      },
      "source": [
        "#imports\n",
        "import pandas as pd\n",
        "\n",
        "import matplotlib.pyplot as plt\n",
        "%matplotlib inline\n",
        "\n",
        "from sklearn.model_selection import train_test_split\n",
        "from sklearn.preprocessing import LabelEncoder\n",
        "from sklearn.metrics import confusion_matrix, classification_report, accuracy_score\n",
        "from sklearn.manifold import TSNE\n",
        "from sklearn.feature_extraction.text import TfidfVectorizer\n",
        "\n",
        "from keras.preprocessing.text import Tokenizer\n",
        "from keras.preprocessing.sequence import pad_sequences\n",
        "from keras.models import Sequential\n",
        "from keras.layers import Activation, Dense, Dropout, Embedding, Flatten, Conv1D, MaxPooling1D, LSTM\n",
        "from keras import utils\n",
        "from keras.callbacks import ReduceLROnPlateau, EarlyStopping\n",
        "\n",
        "import nltk\n",
        "from nltk.corpus import stopwords\n",
        "from  nltk.stem import SnowballStemmer\n",
        "\n",
        "import gensim\n",
        "\n",
        "import re\n",
        "import numpy as np\n",
        "import os\n",
        "from collections import Counter\n",
        "import logging\n",
        "import time\n",
        "import pickle\n",
        "import itertools\n",
        "\n",
        "from google.colab import files\n",
        "import io"
      ],
      "execution_count": 1,
      "outputs": [
        {
          "output_type": "stream",
          "text": [
            "Using TensorFlow backend.\n"
          ],
          "name": "stderr"
        },
        {
          "output_type": "display_data",
          "data": {
            "text/html": [
              "<p style=\"color: red;\">\n",
              "The default version of TensorFlow in Colab will soon switch to TensorFlow 2.x.<br>\n",
              "We recommend you <a href=\"https://www.tensorflow.org/guide/migrate\" target=\"_blank\">upgrade</a> now \n",
              "or ensure your notebook will continue to use TensorFlow 1.x via the <code>%tensorflow_version 1.x</code> magic:\n",
              "<a href=\"https://colab.research.google.com/notebooks/tensorflow_version.ipynb\" target=\"_blank\">more info</a>.</p>\n"
            ],
            "text/plain": [
              "<IPython.core.display.HTML object>"
            ]
          },
          "metadata": {
            "tags": []
          }
        }
      ]
    },
    {
      "cell_type": "code",
      "metadata": {
        "id": "7NBphyXcgr41",
        "colab_type": "code",
        "colab": {}
      },
      "source": [
        "logging.basicConfig(format='%(asctime)s : %(levelname)s : %(message)s', level=logging.INFO)"
      ],
      "execution_count": 0,
      "outputs": []
    },
    {
      "cell_type": "code",
      "metadata": {
        "id": "00AoUZ9BhWIT",
        "colab_type": "code",
        "outputId": "811ae823-44b2-4cd4-ecdd-85b2bae9778e",
        "colab": {
          "base_uri": "https://localhost:8080/",
          "height": 68
        }
      },
      "source": [
        "nltk.download('stopwords')"
      ],
      "execution_count": 3,
      "outputs": [
        {
          "output_type": "stream",
          "text": [
            "[nltk_data] Downloading package stopwords to /root/nltk_data...\n",
            "[nltk_data]   Package stopwords is already up-to-date!\n"
          ],
          "name": "stdout"
        },
        {
          "output_type": "execute_result",
          "data": {
            "text/plain": [
              "True"
            ]
          },
          "metadata": {
            "tags": []
          },
          "execution_count": 3
        }
      ]
    },
    {
      "cell_type": "code",
      "metadata": {
        "id": "pbxOvrskgOTb",
        "colab_type": "code",
        "colab": {}
      },
      "source": [
        "columns = [\"target\", \"ids\", \"date\", \"flag\", \"user\", \"text\"]\n",
        "encoding = \"ISO-8859-1\"\n",
        "train_size = 0.8\n",
        "\n",
        "text_cleaning = \"@\\S+|https?:\\S+|http?:\\S|[^A-Za-z0-9]+\"\n",
        "\n",
        "#word2vec \n",
        "w2v_size = 300\n",
        "w2v_window = 7\n",
        "w2v_epoch = 32\n",
        "w2v_min_count = 10\n",
        "\n",
        "#keras\n",
        "sequence_length = 300\n",
        "epochs = 8\n",
        "batch_size = 1024\n",
        "\n",
        "#sentiments\n",
        "positive = \"positive\"\n",
        "negative = \"negative\"\n",
        "neutral = \"neutral\"\n",
        "thresholds = (0.4, 0.7)\n",
        "\n",
        "#exports\n",
        "keras_model = \"sentiment.h5\"\n",
        "tokenizer_model = \"tokenizer.pkl\""
      ],
      "execution_count": 0,
      "outputs": []
    },
    {
      "cell_type": "code",
      "metadata": {
        "id": "jpbVck7xy4vv",
        "colab_type": "code",
        "colab": {
          "resources": {
            "http://localhost:8080/nbextensions/google.colab/files.js": {
              "data": "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",
              "ok": true,
              "headers": [
                [
                  "content-type",
                  "application/javascript"
                ]
              ],
              "status": 200,
              "status_text": ""
            }
          },
          "base_uri": "https://localhost:8080/",
          "height": 74
        },
        "outputId": "9bf1909f-7b5f-4814-d27c-17c0fec7ee66"
      },
      "source": [
        "uploaded = files.upload()"
      ],
      "execution_count": 6,
      "outputs": [
        {
          "output_type": "display_data",
          "data": {
            "text/html": [
              "\n",
              "     <input type=\"file\" id=\"files-ab30877c-99de-4519-b60a-a01aa1724694\" name=\"files[]\" multiple disabled />\n",
              "     <output id=\"result-ab30877c-99de-4519-b60a-a01aa1724694\">\n",
              "      Upload widget is only available when the cell has been executed in the\n",
              "      current browser session. Please rerun this cell to enable.\n",
              "      </output>\n",
              "      <script src=\"/nbextensions/google.colab/files.js\"></script> "
            ],
            "text/plain": [
              "<IPython.core.display.HTML object>"
            ]
          },
          "metadata": {
            "tags": []
          }
        },
        {
          "output_type": "stream",
          "text": [
            "Saving reviews.csv to reviews.csv\n"
          ],
          "name": "stdout"
        }
      ]
    },
    {
      "cell_type": "code",
      "metadata": {
        "id": "KBfJnsQ4Bhkl",
        "colab_type": "code",
        "colab": {}
      },
      "source": [
        "df = pd.read_csv(io.BytesIO(uploaded['reviews.csv']), encoding =encoding , names=columns)"
      ],
      "execution_count": 0,
      "outputs": []
    },
    {
      "cell_type": "code",
      "metadata": {
        "id": "_EYV4NV1CN0u",
        "colab_type": "code",
        "colab": {}
      },
      "source": [
        "decode_map = {0: \"negative\", 2: \"neutral\", 4: \"positive\"}\n",
        "def decode_sentiment(label):\n",
        "    return decode_map[int(label)]"
      ],
      "execution_count": 0,
      "outputs": []
    },
    {
      "cell_type": "code",
      "metadata": {
        "id": "5VPk_GMtCm3h",
        "colab_type": "code",
        "colab": {
          "base_uri": "https://localhost:8080/",
          "height": 51
        },
        "outputId": "16f49d96-1c8b-4b46-a2bb-3f10b1abe0ab"
      },
      "source": [
        "%%time\n",
        "df.target = df.target.apply(lambda x: decode_sentiment(x))"
      ],
      "execution_count": 9,
      "outputs": [
        {
          "output_type": "stream",
          "text": [
            "CPU times: user 570 ms, sys: 2 ms, total: 572 ms\n",
            "Wall time: 586 ms\n"
          ],
          "name": "stdout"
        }
      ]
    },
    {
      "cell_type": "code",
      "metadata": {
        "id": "ZptZHNCtC_7X",
        "colab_type": "code",
        "colab": {
          "base_uri": "https://localhost:8080/",
          "height": 516
        },
        "outputId": "1f17f29c-0960-4af6-ef7c-0bd91ad08bfc"
      },
      "source": [
        "target_cnt = Counter(df.target)\n",
        "\n",
        "plt.figure(figsize=(16,8))\n",
        "plt.bar(target_cnt.keys(), target_cnt.values())\n",
        "plt.title(\"Dataset labels distribution\")"
      ],
      "execution_count": 10,
      "outputs": [
        {
          "output_type": "execute_result",
          "data": {
            "text/plain": [
              "Text(0.5, 1.0, 'Dataset labels distribution')"
            ]
          },
          "metadata": {
            "tags": []
          },
          "execution_count": 10
        },
        {
          "output_type": "display_data",
          "data": {
            "image/png": "[encoded data removed]",
            "text/plain": [
              "<Figure size 1152x576 with 1 Axes>"
            ]
          },
          "metadata": {
            "tags": []
          }
        }
      ]
    },
    {
      "cell_type": "code",
      "metadata": {
        "id": "SZgWq39VDS_Z",
        "colab_type": "code",
        "colab": {}
      },
      "source": [
        "#pre-processing\n",
        "stop_words = stopwords.words(\"english\")\n",
        "stemmer = SnowballStemmer(\"english\")"
      ],
      "execution_count": 0,
      "outputs": []
    },
    {
      "cell_type": "code",
      "metadata": {
        "id": "OH0mMsGUDeUp",
        "colab_type": "code",
        "colab": {}
      },
      "source": [
        "def preprocess(text, stem=False):\n",
        "    text = re.sub(text_cleaning, ' ', str(text).lower()).strip()\n",
        "    tokens = []\n",
        "    for token in text.split():\n",
        "        if token not in stop_words:\n",
        "            if stem:\n",
        "                tokens.append(stemmer.stem(token))\n",
        "            else:\n",
        "                tokens.append(token)\n",
        "    return \" \".join(tokens)"
      ],
      "execution_count": 0,
      "outputs": []
    },
    {
      "cell_type": "code",
      "metadata": {
        "id": "0AwAdp6wed5z",
        "colab_type": "code",
        "colab": {
          "base_uri": "https://localhost:8080/",
          "height": 51
        },
        "outputId": "ad20fe5e-8018-4371-d75a-861c211ee19e"
      },
      "source": [
        "%%time\n",
        "df.text = df.text.apply(lambda x: preprocess(x))"
      ],
      "execution_count": 13,
      "outputs": [
        {
          "output_type": "stream",
          "text": [
            "CPU times: user 43.2 s, sys: 162 ms, total: 43.4 s\n",
            "Wall time: 43.4 s\n"
          ],
          "name": "stdout"
        }
      ]
    },
    {
      "cell_type": "code",
      "metadata": {
        "id": "OSvYL4bcD-FN",
        "colab_type": "code",
        "colab": {
          "base_uri": "https://localhost:8080/",
          "height": 51
        },
        "outputId": "41d41ea4-8478-4ec6-d557-27bde7abdd3d"
      },
      "source": [
        "df_train, df_test = train_test_split(df, test_size=1-train_size, random_state=42)\n",
        "print(\"train size:\", len(df_train))\n",
        "print(\"test size:\", len(df_test))"
      ],
      "execution_count": 14,
      "outputs": [
        {
          "output_type": "stream",
          "text": [
            "train size: 1280000\n",
            "test size: 320000\n"
          ],
          "name": "stdout"
        }
      ]
    },
    {
      "cell_type": "code",
      "metadata": {
        "id": "RhxM7H2ZYO_h",
        "colab_type": "code",
        "colab": {
          "base_uri": "https://localhost:8080/",
          "height": 51
        },
        "outputId": "c12b92ef-4e02-4b48-ccb5-d6058a2855a0"
      },
      "source": [
        "#word2vec\n",
        "%%time\n",
        "documents = [_text.split() for _text in df_train.text] "
      ],
      "execution_count": 15,
      "outputs": [
        {
          "output_type": "stream",
          "text": [
            "CPU times: user 2.89 s, sys: 289 ms, total: 3.18 s\n",
            "Wall time: 3.18 s\n"
          ],
          "name": "stdout"
        }
      ]
    },
    {
      "cell_type": "code",
      "metadata": {
        "id": "2Ugdb4sTZOmh",
        "colab_type": "code",
        "colab": {}
      },
      "source": [
        "w2v_model = gensim.models.word2vec.Word2Vec(size=w2v_size, \n",
        "                                            window=w2v_window, \n",
        "                                            min_count=w2v_min_count, \n",
        "                                            workers=8)"
      ],
      "execution_count": 0,
      "outputs": []
    },
    {
      "cell_type": "code",
      "metadata": {
        "id": "1ejdlVctZhsJ",
        "colab_type": "code",
        "colab": {
          "base_uri": "https://localhost:8080/",
          "height": 1000
        },
        "outputId": "c985af0d-4974-4022-e14f-4f244bf2dbc8"
      },
      "source": [
        "w2v_model.build_vocab(documents)"
      ],
      "execution_count": 17,
      "outputs": [
        {
          "output_type": "stream",
          "text": [
            "2019-11-02 15:47:15,980 : INFO : collecting all words and their counts\n",
            "2019-11-02 15:47:15,983 : INFO : PROGRESS: at sentence #0, processed 0 words, keeping 0 word types\n",
            "2019-11-02 15:47:16,016 : INFO : PROGRESS: at sentence #10000, processed 72565 words, keeping 14005 word types\n",
            "2019-11-02 15:47:16,039 : INFO : PROGRESS: at sentence #20000, processed 144393 words, keeping 21587 word types\n",
            "2019-11-02 15:47:16,066 : INFO : PROGRESS: at sentence #30000, processed 215826 words, keeping 27541 word types\n",
            "2019-11-02 15:47:16,090 : INFO : PROGRESS: at sentence #40000, processed 288271 words, keeping 32764 word types\n",
            "2019-11-02 15:47:16,113 : INFO : PROGRESS: at sentence #50000, processed 359772 words, keeping 37587 word types\n",
            "2019-11-02 15:47:16,137 : INFO : PROGRESS: at sentence #60000, processed 431431 words, keeping 42198 word types\n",
            "2019-11-02 15:47:16,161 : INFO : PROGRESS: at sentence #70000, processed 503103 words, keeping 46458 word types\n",
            "2019-11-02 15:47:16,185 : INFO : PROGRESS: at sentence #80000, processed 575709 words, keeping 50476 word types\n",
            "2019-11-02 15:47:16,207 : INFO : PROGRESS: at sentence #90000, processed 647100 words, keeping 54140 word types\n",
            "2019-11-02 15:47:16,229 : INFO : PROGRESS: at sentence #100000, processed 718681 words, keeping 57777 word types\n",
            "2019-11-02 15:47:16,252 : INFO : PROGRESS: at sentence #110000, processed 790696 words, keeping 61207 word types\n",
            "2019-11-02 15:47:16,278 : INFO : PROGRESS: at sentence #120000, processed 863134 words, keeping 64583 word types\n",
            "2019-11-02 15:47:16,303 : INFO : PROGRESS: at sentence #130000, processed 935111 words, keeping 67865 word types\n",
            "2019-11-02 15:47:16,325 : INFO : PROGRESS: at sentence #140000, processed 1006668 words, keeping 70966 word types\n",
            "2019-11-02 15:47:16,348 : INFO : PROGRESS: at sentence #150000, processed 1078512 words, keeping 74119 word types\n",
            "2019-11-02 15:47:16,370 : INFO : PROGRESS: at sentence #160000, processed 1149914 words, keeping 77187 word types\n",
            "2019-11-02 15:47:16,394 : INFO : PROGRESS: at sentence #170000, processed 1222145 words, keeping 80267 word types\n",
            "2019-11-02 15:47:16,416 : INFO : PROGRESS: at sentence #180000, processed 1294708 words, keeping 83393 word types\n",
            "2019-11-02 15:47:16,439 : INFO : PROGRESS: at sentence #190000, processed 1367608 words, keeping 86329 word types\n",
            "2019-11-02 15:47:16,465 : INFO : PROGRESS: at sentence #200000, processed 1439469 words, keeping 89103 word types\n",
            "2019-11-02 15:47:16,488 : INFO : PROGRESS: at sentence #210000, processed 1512099 words, keeping 91840 word types\n",
            "2019-11-02 15:47:16,511 : INFO : PROGRESS: at sentence #220000, processed 1584149 words, keeping 94636 word types\n",
            "2019-11-02 15:47:16,535 : INFO : PROGRESS: at sentence #230000, processed 1656354 words, keeping 97353 word types\n",
            "2019-11-02 15:47:16,559 : INFO : PROGRESS: at sentence #240000, processed 1728573 words, keeping 99975 word types\n",
            "2019-11-02 15:47:16,582 : INFO : PROGRESS: at sentence #250000, processed 1801102 words, keeping 102594 word types\n",
            "2019-11-02 15:47:16,606 : INFO : PROGRESS: at sentence #260000, processed 1873103 words, keeping 105162 word types\n",
            "2019-11-02 15:47:16,629 : INFO : PROGRESS: at sentence #270000, processed 1945245 words, keeping 107626 word types\n",
            "2019-11-02 15:47:16,652 : INFO : PROGRESS: at sentence #280000, processed 2017163 words, keeping 110141 word types\n",
            "2019-11-02 15:47:16,675 : INFO : PROGRESS: at sentence #290000, processed 2089574 words, keeping 112539 word types\n",
            "2019-11-02 15:47:16,699 : INFO : PROGRESS: at sentence #300000, processed 2160996 words, keeping 114893 word types\n",
            "2019-11-02 15:47:16,724 : INFO : PROGRESS: at sentence #310000, processed 2232913 words, keeping 117298 word types\n",
            "2019-11-02 15:47:16,747 : INFO : PROGRESS: at sentence #320000, processed 2305039 words, keeping 119693 word types\n",
            "2019-11-02 15:47:16,772 : INFO : PROGRESS: at sentence #330000, processed 2377119 words, keeping 122131 word types\n",
            "2019-11-02 15:47:16,796 : INFO : PROGRESS: at sentence #340000, processed 2449370 words, keeping 124416 word types\n",
            "2019-11-02 15:47:16,822 : INFO : PROGRESS: at sentence #350000, processed 2521564 words, keeping 126669 word types\n",
            "2019-11-02 15:47:16,845 : INFO : PROGRESS: at sentence #360000, processed 2593681 words, keeping 128912 word types\n",
            "2019-11-02 15:47:16,869 : INFO : PROGRESS: at sentence #370000, processed 2665692 words, keeping 131135 word types\n",
            "2019-11-02 15:47:16,893 : INFO : PROGRESS: at sentence #380000, processed 2737859 words, keeping 133403 word types\n",
            "2019-11-02 15:47:16,919 : INFO : PROGRESS: at sentence #390000, processed 2809848 words, keeping 135551 word types\n",
            "2019-11-02 15:47:16,943 : INFO : PROGRESS: at sentence #400000, processed 2882438 words, keeping 137742 word types\n",
            "2019-11-02 15:47:16,968 : INFO : PROGRESS: at sentence #410000, processed 2954075 words, keeping 139909 word types\n",
            "2019-11-02 15:47:16,993 : INFO : PROGRESS: at sentence #420000, processed 3026247 words, keeping 142144 word types\n",
            "2019-11-02 15:47:17,018 : INFO : PROGRESS: at sentence #430000, processed 3098659 words, keeping 144364 word types\n",
            "2019-11-02 15:47:17,041 : INFO : PROGRESS: at sentence #440000, processed 3170663 words, keeping 146439 word types\n",
            "2019-11-02 15:47:17,067 : INFO : PROGRESS: at sentence #450000, processed 3243344 words, keeping 148526 word types\n",
            "2019-11-02 15:47:17,090 : INFO : PROGRESS: at sentence #460000, processed 3315466 words, keeping 150610 word types\n",
            "2019-11-02 15:47:17,116 : INFO : PROGRESS: at sentence #470000, processed 3388295 words, keeping 152737 word types\n",
            "2019-11-02 15:47:17,138 : INFO : PROGRESS: at sentence #480000, processed 3460120 words, keeping 154757 word types\n",
            "2019-11-02 15:47:17,163 : INFO : PROGRESS: at sentence #490000, processed 3531883 words, keeping 156825 word types\n",
            "2019-11-02 15:47:17,187 : INFO : PROGRESS: at sentence #500000, processed 3604217 words, keeping 158859 word types\n",
            "2019-11-02 15:47:17,211 : INFO : PROGRESS: at sentence #510000, processed 3676427 words, keeping 160852 word types\n",
            "2019-11-02 15:47:17,235 : INFO : PROGRESS: at sentence #520000, processed 3749045 words, keeping 162863 word types\n",
            "2019-11-02 15:47:17,259 : INFO : PROGRESS: at sentence #530000, processed 3821622 words, keeping 164929 word types\n",
            "2019-11-02 15:47:17,282 : INFO : PROGRESS: at sentence #540000, processed 3893627 words, keeping 166840 word types\n",
            "2019-11-02 15:47:17,311 : INFO : PROGRESS: at sentence #550000, processed 3965477 words, keeping 168799 word types\n",
            "2019-11-02 15:47:17,337 : INFO : PROGRESS: at sentence #560000, processed 4038050 words, keeping 170802 word types\n",
            "2019-11-02 15:47:17,360 : INFO : PROGRESS: at sentence #570000, processed 4110296 words, keeping 172760 word types\n",
            "2019-11-02 15:47:17,385 : INFO : PROGRESS: at sentence #580000, processed 4182385 words, keeping 174635 word types\n",
            "2019-11-02 15:47:17,413 : INFO : PROGRESS: at sentence #590000, processed 4254632 words, keeping 176470 word types\n",
            "2019-11-02 15:47:17,436 : INFO : PROGRESS: at sentence #600000, processed 4326859 words, keeping 178350 word types\n",
            "2019-11-02 15:47:17,460 : INFO : PROGRESS: at sentence #610000, processed 4399183 words, keeping 180290 word types\n",
            "2019-11-02 15:47:17,485 : INFO : PROGRESS: at sentence #620000, processed 4471343 words, keeping 182129 word types\n",
            "2019-11-02 15:47:17,507 : INFO : PROGRESS: at sentence #630000, processed 4543286 words, keeping 184005 word types\n",
            "2019-11-02 15:47:17,530 : INFO : PROGRESS: at sentence #640000, processed 4615780 words, keeping 185835 word types\n",
            "2019-11-02 15:47:17,553 : INFO : PROGRESS: at sentence #650000, processed 4688481 words, keeping 187705 word types\n",
            "2019-11-02 15:47:17,575 : INFO : PROGRESS: at sentence #660000, processed 4760481 words, keeping 189439 word types\n",
            "2019-11-02 15:47:17,600 : INFO : PROGRESS: at sentence #670000, processed 4833024 words, keeping 191232 word types\n",
            "2019-11-02 15:47:17,624 : INFO : PROGRESS: at sentence #680000, processed 4904516 words, keeping 193177 word types\n",
            "2019-11-02 15:47:17,647 : INFO : PROGRESS: at sentence #690000, processed 4976968 words, keeping 194960 word types\n",
            "2019-11-02 15:47:17,671 : INFO : PROGRESS: at sentence #700000, processed 5049412 words, keeping 196725 word types\n",
            "2019-11-02 15:47:17,695 : INFO : PROGRESS: at sentence #710000, processed 5121976 words, keeping 198516 word types\n",
            "2019-11-02 15:47:17,719 : INFO : PROGRESS: at sentence #720000, processed 5193881 words, keeping 200325 word types\n",
            "2019-11-02 15:47:17,742 : INFO : PROGRESS: at sentence #730000, processed 5265467 words, keeping 202133 word types\n",
            "2019-11-02 15:47:17,766 : INFO : PROGRESS: at sentence #740000, processed 5337518 words, keeping 203818 word types\n",
            "2019-11-02 15:47:17,788 : INFO : PROGRESS: at sentence #750000, processed 5409321 words, keeping 205535 word types\n",
            "2019-11-02 15:47:17,813 : INFO : PROGRESS: at sentence #760000, processed 5481512 words, keeping 207282 word types\n",
            "2019-11-02 15:47:17,836 : INFO : PROGRESS: at sentence #770000, processed 5554093 words, keeping 209076 word types\n",
            "2019-11-02 15:47:17,860 : INFO : PROGRESS: at sentence #780000, processed 5625382 words, keeping 210805 word types\n",
            "2019-11-02 15:47:17,886 : INFO : PROGRESS: at sentence #790000, processed 5698066 words, keeping 212618 word types\n",
            "2019-11-02 15:47:17,910 : INFO : PROGRESS: at sentence #800000, processed 5770880 words, keeping 214374 word types\n",
            "2019-11-02 15:47:17,937 : INFO : PROGRESS: at sentence #810000, processed 5843418 words, keeping 216009 word types\n",
            "2019-11-02 15:47:17,961 : INFO : PROGRESS: at sentence #820000, processed 5915628 words, keeping 217804 word types\n",
            "2019-11-02 15:47:17,987 : INFO : PROGRESS: at sentence #830000, processed 5987499 words, keeping 219585 word types\n",
            "2019-11-02 15:47:18,011 : INFO : PROGRESS: at sentence #840000, processed 6058973 words, keeping 221344 word types\n",
            "2019-11-02 15:47:18,036 : INFO : PROGRESS: at sentence #850000, processed 6131125 words, keeping 223002 word types\n",
            "2019-11-02 15:47:18,060 : INFO : PROGRESS: at sentence #860000, processed 6202951 words, keeping 224643 word types\n",
            "2019-11-02 15:47:18,086 : INFO : PROGRESS: at sentence #870000, processed 6275461 words, keeping 226362 word types\n",
            "2019-11-02 15:47:18,112 : INFO : PROGRESS: at sentence #880000, processed 6347661 words, keeping 227986 word types\n",
            "2019-11-02 15:47:18,137 : INFO : PROGRESS: at sentence #890000, processed 6419806 words, keeping 229634 word types\n",
            "2019-11-02 15:47:18,164 : INFO : PROGRESS: at sentence #900000, processed 6491644 words, keeping 231389 word types\n",
            "2019-11-02 15:47:18,187 : INFO : PROGRESS: at sentence #910000, processed 6564022 words, keeping 233050 word types\n",
            "2019-11-02 15:47:18,214 : INFO : PROGRESS: at sentence #920000, processed 6636228 words, keeping 234686 word types\n",
            "2019-11-02 15:47:18,238 : INFO : PROGRESS: at sentence #930000, processed 6708573 words, keeping 236393 word types\n",
            "2019-11-02 15:47:18,262 : INFO : PROGRESS: at sentence #940000, processed 6779956 words, keeping 238052 word types\n",
            "2019-11-02 15:47:18,286 : INFO : PROGRESS: at sentence #950000, processed 6852599 words, keeping 239716 word types\n",
            "2019-11-02 15:47:18,313 : INFO : PROGRESS: at sentence #960000, processed 6924717 words, keeping 241354 word types\n",
            "2019-11-02 15:47:18,346 : INFO : PROGRESS: at sentence #970000, processed 6996992 words, keeping 242980 word types\n",
            "2019-11-02 15:47:18,375 : INFO : PROGRESS: at sentence #980000, processed 7068402 words, keeping 244646 word types\n",
            "2019-11-02 15:47:18,401 : INFO : PROGRESS: at sentence #990000, processed 7140346 words, keeping 246186 word types\n",
            "2019-11-02 15:47:18,427 : INFO : PROGRESS: at sentence #1000000, processed 7211757 words, keeping 247726 word types\n",
            "2019-11-02 15:47:18,453 : INFO : PROGRESS: at sentence #1010000, processed 7283267 words, keeping 249288 word types\n",
            "2019-11-02 15:47:18,478 : INFO : PROGRESS: at sentence #1020000, processed 7355299 words, keeping 250860 word types\n",
            "2019-11-02 15:47:18,503 : INFO : PROGRESS: at sentence #1030000, processed 7426918 words, keeping 252366 word types\n",
            "2019-11-02 15:47:18,528 : INFO : PROGRESS: at sentence #1040000, processed 7498815 words, keeping 253930 word types\n",
            "2019-11-02 15:47:18,552 : INFO : PROGRESS: at sentence #1050000, processed 7570499 words, keeping 255471 word types\n",
            "2019-11-02 15:47:18,578 : INFO : PROGRESS: at sentence #1060000, processed 7643251 words, keeping 257035 word types\n",
            "2019-11-02 15:47:18,602 : INFO : PROGRESS: at sentence #1070000, processed 7714721 words, keeping 258509 word types\n",
            "2019-11-02 15:47:18,629 : INFO : PROGRESS: at sentence #1080000, processed 7787371 words, keeping 260071 word types\n",
            "2019-11-02 15:47:18,653 : INFO : PROGRESS: at sentence #1090000, processed 7859336 words, keeping 261683 word types\n",
            "2019-11-02 15:47:18,680 : INFO : PROGRESS: at sentence #1100000, processed 7932029 words, keeping 263278 word types\n",
            "2019-11-02 15:47:18,704 : INFO : PROGRESS: at sentence #1110000, processed 8004146 words, keeping 264800 word types\n",
            "2019-11-02 15:47:18,729 : INFO : PROGRESS: at sentence #1120000, processed 8075880 words, keeping 266309 word types\n",
            "2019-11-02 15:47:18,754 : INFO : PROGRESS: at sentence #1130000, processed 8148163 words, keeping 267826 word types\n",
            "2019-11-02 15:47:18,778 : INFO : PROGRESS: at sentence #1140000, processed 8220487 words, keeping 269391 word types\n",
            "2019-11-02 15:47:18,804 : INFO : PROGRESS: at sentence #1150000, processed 8292498 words, keeping 270894 word types\n",
            "2019-11-02 15:47:18,829 : INFO : PROGRESS: at sentence #1160000, processed 8363838 words, keeping 272400 word types\n",
            "2019-11-02 15:47:18,856 : INFO : PROGRESS: at sentence #1170000, processed 8435510 words, keeping 273970 word types\n",
            "2019-11-02 15:47:18,883 : INFO : PROGRESS: at sentence #1180000, processed 8507795 words, keeping 275521 word types\n",
            "2019-11-02 15:47:18,907 : INFO : PROGRESS: at sentence #1190000, processed 8579080 words, keeping 277007 word types\n",
            "2019-11-02 15:47:18,933 : INFO : PROGRESS: at sentence #1200000, processed 8650606 words, keeping 278457 word types\n",
            "2019-11-02 15:47:18,956 : INFO : PROGRESS: at sentence #1210000, processed 8721893 words, keeping 279959 word types\n",
            "2019-11-02 15:47:18,982 : INFO : PROGRESS: at sentence #1220000, processed 8793795 words, keeping 281427 word types\n",
            "2019-11-02 15:47:19,007 : INFO : PROGRESS: at sentence #1230000, processed 8865726 words, keeping 282981 word types\n",
            "2019-11-02 15:47:19,032 : INFO : PROGRESS: at sentence #1240000, processed 8938173 words, keeping 284542 word types\n",
            "2019-11-02 15:47:19,057 : INFO : PROGRESS: at sentence #1250000, processed 9010842 words, keeping 286064 word types\n",
            "2019-11-02 15:47:19,083 : INFO : PROGRESS: at sentence #1260000, processed 9083261 words, keeping 287521 word types\n",
            "2019-11-02 15:47:19,106 : INFO : PROGRESS: at sentence #1270000, processed 9155616 words, keeping 288987 word types\n",
            "2019-11-02 15:47:19,132 : INFO : collected 290418 word types from a corpus of 9227204 raw words and 1280000 sentences\n",
            "2019-11-02 15:47:19,133 : INFO : Loading a fresh vocabulary\n",
            "2019-11-02 15:47:19,306 : INFO : effective_min_count=10 retains 30369 unique words (10% of original 290418, drops 260049)\n",
            "2019-11-02 15:47:19,308 : INFO : effective_min_count=10 leaves 8780739 word corpus (95% of original 9227204, drops 446465)\n",
            "2019-11-02 15:47:19,418 : INFO : deleting the raw counts dictionary of 290418 items\n",
            "2019-11-02 15:47:19,428 : INFO : sample=0.001 downsamples 45 most-common words\n",
            "2019-11-02 15:47:19,429 : INFO : downsampling leaves estimated 8222658 word corpus (93.6% of prior 8780739)\n",
            "2019-11-02 15:47:19,509 : INFO : estimated required memory for 30369 words and 300 dimensions: 88070100 bytes\n",
            "2019-11-02 15:47:19,510 : INFO : resetting layer weights\n"
          ],
          "name": "stderr"
        }
      ]
    },
    {
      "cell_type": "code",
      "metadata": {
        "id": "wjvlivMIzSSi",
        "colab_type": "code",
        "colab": {
          "base_uri": "https://localhost:8080/",
          "height": 34
        },
        "outputId": "63090b15-d86b-4eed-a40f-7ede2641c809"
      },
      "source": [
        "words = w2v_model.wv.vocab.keys()\n",
        "vocab_size = len(words)\n",
        "print(\"vocabulary size\", vocab_size)"
      ],
      "execution_count": 19,
      "outputs": [
        {
          "output_type": "stream",
          "text": [
            "vocabulary size 30369\n"
          ],
          "name": "stdout"
        }
      ]
    },
    {
      "cell_type": "code",
      "metadata": {
        "id": "BdiWWD610AIV",
        "colab_type": "code",
        "colab": {
          "base_uri": "https://localhost:8080/",
          "height": 1000
        },
        "outputId": "794031d8-aefc-4e14-b614-ffe21cda5ab0"
      },
      "source": [
        "%%time\n",
        "w2v_model.train(documents, total_examples=len(documents), epochs=w2v_epoch)"
      ],
      "execution_count": 20,
      "outputs": [
        {
          "output_type": "stream",
          "text": [
            "2019-11-02 15:51:12,313 : INFO : training model with 8 workers on 30369 vocabulary and 300 features, using sg=0 hs=0 sample=0.001 negative=5 window=7\n",
            "2019-11-02 15:51:13,422 : INFO : EPOCH 1 - PROGRESS: at 4.24% examples, 318735 words/s, in_qsize 15, out_qsize 0\n",
            "2019-11-02 15:51:14,455 : INFO : EPOCH 1 - PROGRESS: at 8.80% examples, 339970 words/s, in_qsize 14, out_qsize 1\n",
            "2019-11-02 15:51:15,466 : INFO : EPOCH 1 - PROGRESS: at 13.25% examples, 346935 words/s, in_qsize 14, out_qsize 1\n",
            "2019-11-02 15:51:16,513 : INFO : EPOCH 1 - PROGRESS: at 17.78% examples, 349468 words/s, in_qsize 16, out_qsize 1\n",
            "2019-11-02 15:51:17,518 : INFO : EPOCH 1 - PROGRESS: at 22.22% examples, 352149 words/s, in_qsize 16, out_qsize 2\n",
            "2019-11-02 15:51:18,569 : INFO : EPOCH 1 - PROGRESS: at 26.99% examples, 355648 words/s, in_qsize 15, out_qsize 0\n",
            "2019-11-02 15:51:19,616 : INFO : EPOCH 1 - PROGRESS: at 31.43% examples, 354683 words/s, in_qsize 11, out_qsize 4\n",
            "2019-11-02 15:51:20,649 : INFO : EPOCH 1 - PROGRESS: at 36.18% examples, 357747 words/s, in_qsize 14, out_qsize 1\n",
            "2019-11-02 15:51:21,654 : INFO : EPOCH 1 - PROGRESS: at 40.62% examples, 358346 words/s, in_qsize 15, out_qsize 0\n",
            "2019-11-02 15:51:22,656 : INFO : EPOCH 1 - PROGRESS: at 45.16% examples, 359791 words/s, in_qsize 14, out_qsize 1\n",
            "2019-11-02 15:51:23,658 : INFO : EPOCH 1 - PROGRESS: at 49.70% examples, 361041 words/s, in_qsize 15, out_qsize 0\n",
            "2019-11-02 15:51:24,673 : INFO : EPOCH 1 - PROGRESS: at 54.03% examples, 360196 words/s, in_qsize 15, out_qsize 0\n",
            "2019-11-02 15:51:25,679 : INFO : EPOCH 1 - PROGRESS: at 58.47% examples, 360433 words/s, in_qsize 13, out_qsize 3\n",
            "2019-11-02 15:51:26,710 : INFO : EPOCH 1 - PROGRESS: at 63.00% examples, 360622 words/s, in_qsize 16, out_qsize 2\n",
            "2019-11-02 15:51:27,753 : INFO : EPOCH 1 - PROGRESS: at 67.66% examples, 361065 words/s, in_qsize 15, out_qsize 0\n",
            "2019-11-02 15:51:28,758 : INFO : EPOCH 1 - PROGRESS: at 72.32% examples, 362303 words/s, in_qsize 15, out_qsize 1\n",
            "2019-11-02 15:51:29,784 : INFO : EPOCH 1 - PROGRESS: at 76.66% examples, 361415 words/s, in_qsize 15, out_qsize 0\n",
            "2019-11-02 15:51:30,799 : INFO : EPOCH 1 - PROGRESS: at 81.01% examples, 360846 words/s, in_qsize 13, out_qsize 5\n",
            "2019-11-02 15:51:31,809 : INFO : EPOCH 1 - PROGRESS: at 85.99% examples, 363187 words/s, in_qsize 16, out_qsize 1\n",
            "2019-11-02 15:51:32,935 : INFO : EPOCH 1 - PROGRESS: at 90.54% examples, 361501 words/s, in_qsize 15, out_qsize 0\n",
            "2019-11-02 15:51:33,991 : INFO : EPOCH 1 - PROGRESS: at 95.55% examples, 362783 words/s, in_qsize 15, out_qsize 0\n",
            "2019-11-02 15:51:34,824 : INFO : worker thread finished; awaiting finish of 7 more threads\n",
            "2019-11-02 15:51:34,831 : INFO : worker thread finished; awaiting finish of 6 more threads\n",
            "2019-11-02 15:51:34,846 : INFO : worker thread finished; awaiting finish of 5 more threads\n",
            "2019-11-02 15:51:34,873 : INFO : worker thread finished; awaiting finish of 4 more threads\n",
            "2019-11-02 15:51:34,877 : INFO : worker thread finished; awaiting finish of 3 more threads\n",
            "2019-11-02 15:51:34,901 : INFO : worker thread finished; awaiting finish of 2 more threads\n",
            "2019-11-02 15:51:34,914 : INFO : worker thread finished; awaiting finish of 1 more threads\n",
            "2019-11-02 15:51:34,916 : INFO : worker thread finished; awaiting finish of 0 more threads\n",
            "2019-11-02 15:51:34,919 : INFO : EPOCH - 1 : training on 9227204 raw words (8223563 effective words) took 22.6s, 364093 effective words/s\n",
            "2019-11-02 15:51:35,933 : INFO : EPOCH 2 - PROGRESS: at 3.91% examples, 320651 words/s, in_qsize 15, out_qsize 0\n",
            "2019-11-02 15:51:36,968 : INFO : EPOCH 2 - PROGRESS: at 8.15% examples, 328324 words/s, in_qsize 16, out_qsize 0\n",
            "2019-11-02 15:51:38,097 : INFO : EPOCH 2 - PROGRESS: at 12.93% examples, 335158 words/s, in_qsize 15, out_qsize 0\n",
            "2019-11-02 15:51:39,128 : INFO : EPOCH 2 - PROGRESS: at 17.78% examples, 348230 words/s, in_qsize 15, out_qsize 1\n",
            "2019-11-02 15:51:40,135 : INFO : EPOCH 2 - PROGRESS: at 22.00% examples, 347603 words/s, in_qsize 15, out_qsize 0\n",
            "2019-11-02 15:51:41,142 : INFO : EPOCH 2 - PROGRESS: at 26.67% examples, 352975 words/s, in_qsize 14, out_qsize 0\n",
            "2019-11-02 15:51:42,147 : INFO : EPOCH 2 - PROGRESS: at 30.67% examples, 349522 words/s, in_qsize 15, out_qsize 0\n",
            "2019-11-02 15:51:43,152 : INFO : EPOCH 2 - PROGRESS: at 35.10% examples, 351191 words/s, in_qsize 14, out_qsize 0\n",
            "2019-11-02 15:51:44,228 : INFO : EPOCH 2 - PROGRESS: at 39.54% examples, 349815 words/s, in_qsize 15, out_qsize 0\n",
            "2019-11-02 15:51:45,298 : INFO : EPOCH 2 - PROGRESS: at 44.29% examples, 351513 words/s, in_qsize 15, out_qsize 0\n",
            "2019-11-02 15:51:46,325 : INFO : EPOCH 2 - PROGRESS: at 48.62% examples, 351127 words/s, in_qsize 16, out_qsize 1\n",
            "2019-11-02 15:51:47,346 : INFO : EPOCH 2 - PROGRESS: at 53.05% examples, 352089 words/s, in_qsize 14, out_qsize 3\n",
            "2019-11-02 15:51:48,337 : INFO : EPOCH 2 - PROGRESS: at 57.71% examples, 354319 words/s, in_qsize 15, out_qsize 0\n",
            "2019-11-02 15:51:49,339 : INFO : EPOCH 2 - PROGRESS: at 61.82% examples, 353163 words/s, in_qsize 16, out_qsize 0\n",
            "2019-11-02 15:51:50,424 : INFO : EPOCH 2 - PROGRESS: at 66.58% examples, 353716 words/s, in_qsize 15, out_qsize 0\n",
            "2019-11-02 15:51:51,427 : INFO : EPOCH 2 - PROGRESS: at 71.02% examples, 354362 words/s, in_qsize 15, out_qsize 0\n",
            "2019-11-02 15:51:52,445 : INFO : EPOCH 2 - PROGRESS: at 75.67% examples, 355632 words/s, in_qsize 15, out_qsize 0\n",
            "2019-11-02 15:51:53,454 : INFO : EPOCH 2 - PROGRESS: at 80.14% examples, 355947 words/s, in_qsize 15, out_qsize 0\n",
            "2019-11-02 15:51:54,469 : INFO : EPOCH 2 - PROGRESS: at 84.16% examples, 354314 words/s, in_qsize 15, out_qsize 0\n",
            "2019-11-02 15:51:55,481 : INFO : EPOCH 2 - PROGRESS: at 88.48% examples, 354200 words/s, in_qsize 15, out_qsize 0\n",
            "2019-11-02 15:51:56,482 : INFO : EPOCH 2 - PROGRESS: at 93.05% examples, 355080 words/s, in_qsize 14, out_qsize 2\n",
            "2019-11-02 15:51:57,497 : INFO : EPOCH 2 - PROGRESS: at 97.72% examples, 356080 words/s, in_qsize 15, out_qsize 0\n",
            "2019-11-02 15:51:57,856 : INFO : worker thread finished; awaiting finish of 7 more threads\n",
            "2019-11-02 15:51:57,866 : INFO : worker thread finished; awaiting finish of 6 more threads\n",
            "2019-11-02 15:51:57,868 : INFO : worker thread finished; awaiting finish of 5 more threads\n",
            "2019-11-02 15:51:57,871 : INFO : worker thread finished; awaiting finish of 4 more threads\n",
            "2019-11-02 15:51:57,909 : INFO : worker thread finished; awaiting finish of 3 more threads\n",
            "2019-11-02 15:51:57,938 : INFO : worker thread finished; awaiting finish of 2 more threads\n",
            "2019-11-02 15:51:57,945 : INFO : worker thread finished; awaiting finish of 1 more threads\n",
            "2019-11-02 15:51:57,947 : INFO : worker thread finished; awaiting finish of 0 more threads\n",
            "2019-11-02 15:51:57,949 : INFO : EPOCH - 2 : training on 9227204 raw words (8222922 effective words) took 23.0s, 357258 effective words/s\n",
            "2019-11-02 15:51:58,976 : INFO : EPOCH 3 - PROGRESS: at 4.23% examples, 344588 words/s, in_qsize 14, out_qsize 0\n",
            "2019-11-02 15:51:59,992 : INFO : EPOCH 3 - PROGRESS: at 8.37% examples, 338768 words/s, in_qsize 16, out_qsize 1\n",
            "2019-11-02 15:52:00,993 : INFO : EPOCH 3 - PROGRESS: at 12.71% examples, 344516 words/s, in_qsize 14, out_qsize 1\n",
            "2019-11-02 15:52:02,040 : INFO : EPOCH 3 - PROGRESS: at 17.03% examples, 344671 words/s, in_qsize 15, out_qsize 2\n",
            "2019-11-02 15:52:03,045 : INFO : EPOCH 3 - PROGRESS: at 21.14% examples, 342053 words/s, in_qsize 16, out_qsize 2\n",
            "2019-11-02 15:52:04,102 : INFO : EPOCH 3 - PROGRESS: at 25.69% examples, 345418 words/s, in_qsize 15, out_qsize 2\n",
            "2019-11-02 15:52:05,086 : INFO : EPOCH 3 - PROGRESS: at 29.91% examples, 345423 words/s, in_qsize 13, out_qsize 2\n",
            "2019-11-02 15:52:06,087 : INFO : EPOCH 3 - PROGRESS: at 34.35% examples, 347839 words/s, in_qsize 13, out_qsize 2\n",
            "2019-11-02 15:52:07,151 : INFO : EPOCH 3 - PROGRESS: at 39.00% examples, 349266 words/s, in_qsize 15, out_qsize 0\n",
            "2019-11-02 15:52:08,212 : INFO : EPOCH 3 - PROGRESS: at 43.54% examples, 349590 words/s, in_qsize 15, out_qsize 0\n",
            "2019-11-02 15:52:09,322 : INFO : EPOCH 3 - PROGRESS: at 48.30% examples, 349908 words/s, in_qsize 15, out_qsize 0\n",
            "2019-11-02 15:52:10,445 : INFO : EPOCH 3 - PROGRESS: at 53.05% examples, 350244 words/s, in_qsize 15, out_qsize 2\n",
            "2019-11-02 15:52:11,466 : INFO : EPOCH 3 - PROGRESS: at 57.60% examples, 351122 words/s, in_qsize 15, out_qsize 0\n",
            "2019-11-02 15:52:12,517 : INFO : EPOCH 3 - PROGRESS: at 62.25% examples, 352110 words/s, in_qsize 15, out_qsize 0\n",
            "2019-11-02 15:52:13,566 : INFO : EPOCH 3 - PROGRESS: at 66.69% examples, 351819 words/s, in_qsize 16, out_qsize 0\n",
            "2019-11-02 15:52:14,605 : INFO : EPOCH 3 - PROGRESS: at 71.24% examples, 352342 words/s, in_qsize 15, out_qsize 0\n",
            "2019-11-02 15:52:15,616 : INFO : EPOCH 3 - PROGRESS: at 75.46% examples, 351824 words/s, in_qsize 14, out_qsize 1\n",
            "2019-11-02 15:52:16,617 : INFO : EPOCH 3 - PROGRESS: at 79.82% examples, 352051 words/s, in_qsize 15, out_qsize 0\n",
            "2019-11-02 15:52:17,645 : INFO : EPOCH 3 - PROGRESS: at 84.37% examples, 352674 words/s, in_qsize 15, out_qsize 0\n",
            "2019-11-02 15:52:18,660 : INFO : EPOCH 3 - PROGRESS: at 88.91% examples, 353439 words/s, in_qsize 15, out_qsize 0\n",
            "2019-11-02 15:52:19,675 : INFO : EPOCH 3 - PROGRESS: at 93.05% examples, 352470 words/s, in_qsize 16, out_qsize 0\n",
            "2019-11-02 15:52:20,685 : INFO : EPOCH 3 - PROGRESS: at 97.82% examples, 354039 words/s, in_qsize 15, out_qsize 0\n",
            "2019-11-02 15:52:21,046 : INFO : worker thread finished; awaiting finish of 7 more threads\n",
            "2019-11-02 15:52:21,050 : INFO : worker thread finished; awaiting finish of 6 more threads\n",
            "2019-11-02 15:52:21,056 : INFO : worker thread finished; awaiting finish of 5 more threads\n",
            "2019-11-02 15:52:21,058 : INFO : worker thread finished; awaiting finish of 4 more threads\n",
            "2019-11-02 15:52:21,060 : INFO : worker thread finished; awaiting finish of 3 more threads\n",
            "2019-11-02 15:52:21,068 : INFO : worker thread finished; awaiting finish of 2 more threads\n",
            "2019-11-02 15:52:21,106 : INFO : worker thread finished; awaiting finish of 1 more threads\n",
            "2019-11-02 15:52:21,110 : INFO : worker thread finished; awaiting finish of 0 more threads\n",
            "2019-11-02 15:52:21,111 : INFO : EPOCH - 3 : training on 9227204 raw words (8222078 effective words) took 23.1s, 355264 effective words/s\n",
            "2019-11-02 15:52:22,133 : INFO : EPOCH 4 - PROGRESS: at 3.80% examples, 309477 words/s, in_qsize 15, out_qsize 0\n",
            "2019-11-02 15:52:23,184 : INFO : EPOCH 4 - PROGRESS: at 8.36% examples, 333169 words/s, in_qsize 15, out_qsize 0\n",
            "2019-11-02 15:52:24,192 : INFO : EPOCH 4 - PROGRESS: at 12.60% examples, 337020 words/s, in_qsize 15, out_qsize 1\n",
            "2019-11-02 15:52:25,213 : INFO : EPOCH 4 - PROGRESS: at 17.35% examples, 348618 words/s, in_qsize 15, out_qsize 0\n",
            "2019-11-02 15:52:26,213 : INFO : EPOCH 4 - PROGRESS: at 21.68% examples, 350106 words/s, in_qsize 16, out_qsize 1\n",
            "2019-11-02 15:52:27,227 : INFO : EPOCH 4 - PROGRESS: at 25.91% examples, 348927 words/s, in_qsize 15, out_qsize 0\n",
            "2019-11-02 15:52:28,234 : INFO : EPOCH 4 - PROGRESS: at 30.46% examples, 352131 words/s, in_qsize 16, out_qsize 1\n",
            "2019-11-02 15:52:29,276 : INFO : EPOCH 4 - PROGRESS: at 34.89% examples, 351913 words/s, in_qsize 15, out_qsize 0\n",
            "2019-11-02 15:52:30,279 : INFO : EPOCH 4 - PROGRESS: at 39.11% examples, 351324 words/s, in_qsize 15, out_qsize 1\n",
            "2019-11-02 15:52:31,280 : INFO : EPOCH 4 - PROGRESS: at 43.32% examples, 350907 words/s, in_qsize 15, out_qsize 0\n",
            "2019-11-02 15:52:32,285 : INFO : EPOCH 4 - PROGRESS: at 47.75% examples, 352023 words/s, in_qsize 15, out_qsize 0\n",
            "2019-11-02 15:52:33,294 : INFO : EPOCH 4 - PROGRESS: at 52.18% examples, 352906 words/s, in_qsize 14, out_qsize 1\n",
            "2019-11-02 15:52:34,376 : INFO : EPOCH 4 - PROGRESS: at 56.62% examples, 351666 words/s, in_qsize 14, out_qsize 4\n",
            "2019-11-02 15:52:35,399 : INFO : EPOCH 4 - PROGRESS: at 61.18% examples, 352653 words/s, in_qsize 15, out_qsize 0\n",
            "2019-11-02 15:52:36,439 : INFO : EPOCH 4 - PROGRESS: at 65.60% examples, 352540 words/s, in_qsize 16, out_qsize 0\n",
            "2019-11-02 15:52:37,519 : INFO : EPOCH 4 - PROGRESS: at 70.16% examples, 352143 words/s, in_qsize 13, out_qsize 2\n",
            "2019-11-02 15:52:38,554 : INFO : EPOCH 4 - PROGRESS: at 74.81% examples, 353198 words/s, in_qsize 12, out_qsize 3\n",
            "2019-11-02 15:52:39,558 : INFO : EPOCH 4 - PROGRESS: at 79.38% examples, 354240 words/s, in_qsize 15, out_qsize 0\n",
            "2019-11-02 15:52:40,594 : INFO : EPOCH 4 - PROGRESS: at 84.04% examples, 355086 words/s, in_qsize 15, out_qsize 0\n",
            "2019-11-02 15:52:41,616 : INFO : EPOCH 4 - PROGRESS: at 88.48% examples, 355184 words/s, in_qsize 15, out_qsize 2\n",
            "2019-11-02 15:52:42,681 : INFO : EPOCH 4 - PROGRESS: at 93.16% examples, 355369 words/s, in_qsize 16, out_qsize 0\n",
            "2019-11-02 15:52:43,710 : INFO : EPOCH 4 - PROGRESS: at 97.61% examples, 355360 words/s, in_qsize 15, out_qsize 0\n",
            "2019-11-02 15:52:44,036 : INFO : worker thread finished; awaiting finish of 7 more threads\n",
            "2019-11-02 15:52:44,059 : INFO : worker thread finished; awaiting finish of 6 more threads\n",
            "2019-11-02 15:52:44,080 : INFO : worker thread finished; awaiting finish of 5 more threads\n",
            "2019-11-02 15:52:44,082 : INFO : worker thread finished; awaiting finish of 4 more threads\n",
            "2019-11-02 15:52:44,134 : INFO : worker thread finished; awaiting finish of 3 more threads\n",
            "2019-11-02 15:52:44,140 : INFO : worker thread finished; awaiting finish of 2 more threads\n",
            "2019-11-02 15:52:44,142 : INFO : worker thread finished; awaiting finish of 1 more threads\n",
            "2019-11-02 15:52:44,149 : INFO : worker thread finished; awaiting finish of 0 more threads\n",
            "2019-11-02 15:52:44,150 : INFO : EPOCH - 4 : training on 9227204 raw words (8222758 effective words) took 23.0s, 357120 effective words/s\n",
            "2019-11-02 15:52:45,187 : INFO : EPOCH 5 - PROGRESS: at 3.91% examples, 313279 words/s, in_qsize 15, out_qsize 0\n",
            "2019-11-02 15:52:46,269 : INFO : EPOCH 5 - PROGRESS: at 8.58% examples, 334032 words/s, in_qsize 14, out_qsize 1\n",
            "2019-11-02 15:52:47,315 : INFO : EPOCH 5 - PROGRESS: at 13.14% examples, 341911 words/s, in_qsize 15, out_qsize 0\n",
            "2019-11-02 15:52:48,323 : INFO : EPOCH 5 - PROGRESS: at 17.57% examples, 346705 words/s, in_qsize 15, out_qsize 0\n",
            "2019-11-02 15:52:49,352 : INFO : EPOCH 5 - PROGRESS: at 22.01% examples, 348298 words/s, in_qsize 15, out_qsize 0\n",
            "2019-11-02 15:52:50,376 : INFO : EPOCH 5 - PROGRESS: at 26.56% examples, 351174 words/s, in_qsize 15, out_qsize 1\n",
            "2019-11-02 15:52:51,429 : INFO : EPOCH 5 - PROGRESS: at 31.21% examples, 352972 words/s, in_qsize 15, out_qsize 0\n",
            "2019-11-02 15:52:52,462 : INFO : EPOCH 5 - PROGRESS: at 35.65% examples, 353063 words/s, in_qsize 15, out_qsize 0\n",
            "2019-11-02 15:52:53,504 : INFO : EPOCH 5 - PROGRESS: at 40.08% examples, 352749 words/s, in_qsize 15, out_qsize 0\n",
            "2019-11-02 15:52:54,584 : INFO : EPOCH 5 - PROGRESS: at 44.83% examples, 353766 words/s, in_qsize 15, out_qsize 0\n",
            "2019-11-02 15:52:55,597 : INFO : EPOCH 5 - PROGRESS: at 49.38% examples, 355181 words/s, in_qsize 15, out_qsize 0\n",
            "2019-11-02 15:52:56,639 : INFO : EPOCH 5 - PROGRESS: at 53.70% examples, 354086 words/s, in_qsize 14, out_qsize 1\n",
            "2019-11-02 15:52:57,644 : INFO : EPOCH 5 - PROGRESS: at 58.58% examples, 357434 words/s, in_qsize 16, out_qsize 0\n",
            "2019-11-02 15:52:58,646 : INFO : EPOCH 5 - PROGRESS: at 63.11% examples, 358537 words/s, in_qsize 15, out_qsize 0\n",
            "2019-11-02 15:52:59,655 : INFO : EPOCH 5 - PROGRESS: at 67.34% examples, 357613 words/s, in_qsize 15, out_qsize 0\n",
            "2019-11-02 15:53:00,747 : INFO : EPOCH 5 - PROGRESS: at 71.78% examples, 356092 words/s, in_qsize 12, out_qsize 3\n",
            "2019-11-02 15:53:01,751 : INFO : EPOCH 5 - PROGRESS: at 76.44% examples, 357523 words/s, in_qsize 15, out_qsize 0\n",
            "2019-11-02 15:53:02,774 : INFO : EPOCH 5 - PROGRESS: at 81.23% examples, 358929 words/s, in_qsize 15, out_qsize 0\n",
            "2019-11-02 15:53:03,821 : INFO : EPOCH 5 - PROGRESS: at 85.56% examples, 357949 words/s, in_qsize 13, out_qsize 2\n",
            "2019-11-02 15:53:04,849 : INFO : EPOCH 5 - PROGRESS: at 90.11% examples, 358236 words/s, in_qsize 16, out_qsize 1\n",
            "2019-11-02 15:53:05,892 : INFO : EPOCH 5 - PROGRESS: at 95.23% examples, 360302 words/s, in_qsize 15, out_qsize 0\n",
            "2019-11-02 15:53:06,846 : INFO : worker thread finished; awaiting finish of 7 more threads\n",
            "2019-11-02 15:53:06,882 : INFO : worker thread finished; awaiting finish of 6 more threads\n",
            "2019-11-02 15:53:06,887 : INFO : worker thread finished; awaiting finish of 5 more threads\n",
            "2019-11-02 15:53:06,897 : INFO : EPOCH 5 - PROGRESS: at 99.56% examples, 360080 words/s, in_qsize 4, out_qsize 1\n",
            "2019-11-02 15:53:06,899 : INFO : worker thread finished; awaiting finish of 4 more threads\n",
            "2019-11-02 15:53:06,943 : INFO : worker thread finished; awaiting finish of 3 more threads\n",
            "2019-11-02 15:53:06,951 : INFO : worker thread finished; awaiting finish of 2 more threads\n",
            "2019-11-02 15:53:06,957 : INFO : worker thread finished; awaiting finish of 1 more threads\n",
            "2019-11-02 15:53:06,959 : INFO : worker thread finished; awaiting finish of 0 more threads\n",
            "2019-11-02 15:53:06,960 : INFO : EPOCH - 5 : training on 9227204 raw words (8221660 effective words) took 22.8s, 360652 effective words/s\n",
            "2019-11-02 15:53:07,999 : INFO : EPOCH 6 - PROGRESS: at 3.69% examples, 296195 words/s, in_qsize 16, out_qsize 4\n",
            "2019-11-02 15:53:09,003 : INFO : EPOCH 6 - PROGRESS: at 8.80% examples, 355929 words/s, in_qsize 15, out_qsize 0\n",
            "2019-11-02 15:53:10,004 : INFO : EPOCH 6 - PROGRESS: at 13.14% examples, 356002 words/s, in_qsize 13, out_qsize 0\n",
            "2019-11-02 15:53:11,059 : INFO : EPOCH 6 - PROGRESS: at 17.35% examples, 349045 words/s, in_qsize 15, out_qsize 0\n",
            "2019-11-02 15:53:12,116 : INFO : EPOCH 6 - PROGRESS: at 22.00% examples, 351851 words/s, in_qsize 15, out_qsize 3\n",
            "2019-11-02 15:53:13,161 : INFO : EPOCH 6 - PROGRESS: at 26.67% examples, 354260 words/s, in_qsize 14, out_qsize 1\n",
            "2019-11-02 15:53:14,205 : INFO : EPOCH 6 - PROGRESS: at 31.32% examples, 356116 words/s, in_qsize 15, out_qsize 0\n",
            "2019-11-02 15:53:15,256 : INFO : EPOCH 6 - PROGRESS: at 35.86% examples, 356139 words/s, in_qsize 15, out_qsize 0\n",
            "2019-11-02 15:53:16,371 : INFO : EPOCH 6 - PROGRESS: at 40.51% examples, 354616 words/s, in_qsize 15, out_qsize 0\n",
            "2019-11-02 15:53:17,401 : INFO : EPOCH 6 - PROGRESS: at 44.83% examples, 353759 words/s, in_qsize 15, out_qsize 0\n",
            "2019-11-02 15:53:18,423 : INFO : EPOCH 6 - PROGRESS: at 49.27% examples, 354118 words/s, in_qsize 16, out_qsize 0\n",
            "2019-11-02 15:53:19,476 : INFO : EPOCH 6 - PROGRESS: at 53.81% examples, 354220 words/s, in_qsize 15, out_qsize 0\n",
            "2019-11-02 15:53:20,494 : INFO : EPOCH 6 - PROGRESS: at 58.25% examples, 354683 words/s, in_qsize 15, out_qsize 3\n",
            "2019-11-02 15:53:21,504 : INFO : EPOCH 6 - PROGRESS: at 62.47% examples, 353848 words/s, in_qsize 11, out_qsize 4\n",
            "2019-11-02 15:53:22,537 : INFO : EPOCH 6 - PROGRESS: at 67.02% examples, 354393 words/s, in_qsize 15, out_qsize 1\n",
            "2019-11-02 15:53:23,555 : INFO : EPOCH 6 - PROGRESS: at 71.56% examples, 355191 words/s, in_qsize 15, out_qsize 0\n",
            "2019-11-02 15:53:24,570 : INFO : EPOCH 6 - PROGRESS: at 76.00% examples, 355451 words/s, in_qsize 15, out_qsize 0\n",
            "2019-11-02 15:53:25,589 : INFO : EPOCH 6 - PROGRESS: at 80.58% examples, 356088 words/s, in_qsize 15, out_qsize 0\n",
            "2019-11-02 15:53:26,607 : INFO : EPOCH 6 - PROGRESS: at 85.02% examples, 356225 words/s, in_qsize 15, out_qsize 0\n",
            "2019-11-02 15:53:27,667 : INFO : EPOCH 6 - PROGRESS: at 89.56% examples, 356050 words/s, in_qsize 15, out_qsize 0\n",
            "2019-11-02 15:53:28,685 : INFO : EPOCH 6 - PROGRESS: at 94.36% examples, 357393 words/s, in_qsize 13, out_qsize 0\n",
            "2019-11-02 15:53:29,723 : INFO : EPOCH 6 - PROGRESS: at 98.36% examples, 355574 words/s, in_qsize 12, out_qsize 3\n",
            "2019-11-02 15:53:29,887 : INFO : worker thread finished; awaiting finish of 7 more threads\n",
            "2019-11-02 15:53:29,894 : INFO : worker thread finished; awaiting finish of 6 more threads\n",
            "2019-11-02 15:53:29,906 : INFO : worker thread finished; awaiting finish of 5 more threads\n",
            "2019-11-02 15:53:29,911 : INFO : worker thread finished; awaiting finish of 4 more threads\n",
            "2019-11-02 15:53:29,913 : INFO : worker thread finished; awaiting finish of 3 more threads\n",
            "2019-11-02 15:53:29,915 : INFO : worker thread finished; awaiting finish of 2 more threads\n",
            "2019-11-02 15:53:29,920 : INFO : worker thread finished; awaiting finish of 1 more threads\n",
            "2019-11-02 15:53:29,942 : INFO : worker thread finished; awaiting finish of 0 more threads\n",
            "2019-11-02 15:53:29,943 : INFO : EPOCH - 6 : training on 9227204 raw words (8223196 effective words) took 23.0s, 358037 effective words/s\n",
            "2019-11-02 15:53:30,974 : INFO : EPOCH 7 - PROGRESS: at 4.13% examples, 332774 words/s, in_qsize 16, out_qsize 0\n",
            "2019-11-02 15:53:32,008 : INFO : EPOCH 7 - PROGRESS: at 8.36% examples, 334383 words/s, in_qsize 15, out_qsize 0\n",
            "2019-11-02 15:53:33,015 : INFO : EPOCH 7 - PROGRESS: at 13.04% examples, 349661 words/s, in_qsize 16, out_qsize 0\n",
            "2019-11-02 15:53:34,050 : INFO : EPOCH 7 - PROGRESS: at 17.24% examples, 345960 words/s, in_qsize 15, out_qsize 0\n",
            "2019-11-02 15:53:35,065 : INFO : EPOCH 7 - PROGRESS: at 21.57% examples, 347024 words/s, in_qsize 15, out_qsize 0\n",
            "2019-11-02 15:53:36,129 : INFO : EPOCH 7 - PROGRESS: at 26.23% examples, 349234 words/s, in_qsize 15, out_qsize 0\n",
            "2019-11-02 15:53:37,201 : INFO : EPOCH 7 - PROGRESS: at 30.89% examples, 351211 words/s, in_qsize 15, out_qsize 2\n",
            "2019-11-02 15:53:38,254 : INFO : EPOCH 7 - PROGRESS: at 35.54% examples, 352189 words/s, in_qsize 16, out_qsize 0\n",
            "2019-11-02 15:53:39,300 : INFO : EPOCH 7 - PROGRESS: at 39.86% examples, 350890 words/s, in_qsize 9, out_qsize 5\n",
            "2019-11-02 15:53:40,302 : INFO : EPOCH 7 - PROGRESS: at 44.51% examples, 353918 words/s, in_qsize 14, out_qsize 0\n",
            "2019-11-02 15:53:41,312 : INFO : EPOCH 7 - PROGRESS: at 48.73% examples, 353061 words/s, in_qsize 16, out_qsize 0\n",
            "2019-11-02 15:53:42,320 : INFO : EPOCH 7 - PROGRESS: at 53.38% examples, 355273 words/s, in_qsize 16, out_qsize 0\n",
            "2019-11-02 15:53:43,376 : INFO : EPOCH 7 - PROGRESS: at 57.60% examples, 353225 words/s, in_qsize 15, out_qsize 0\n",
            "2019-11-02 15:53:44,425 : INFO : EPOCH 7 - PROGRESS: at 61.93% examples, 352269 words/s, in_qsize 12, out_qsize 3\n",
            "2019-11-02 15:53:45,448 : INFO : EPOCH 7 - PROGRESS: at 66.58% examples, 353721 words/s, in_qsize 15, out_qsize 0\n",
            "2019-11-02 15:53:46,514 : INFO : EPOCH 7 - PROGRESS: at 71.24% examples, 354065 words/s, in_qsize 16, out_qsize 0\n",
            "2019-11-02 15:53:47,519 : INFO : EPOCH 7 - PROGRESS: at 75.46% examples, 353577 words/s, in_qsize 14, out_qsize 2\n",
            "2019-11-02 15:53:48,551 : INFO : EPOCH 7 - PROGRESS: at 79.71% examples, 352614 words/s, in_qsize 16, out_qsize 1\n",
            "2019-11-02 15:53:49,574 : INFO : EPOCH 7 - PROGRESS: at 84.15% examples, 352854 words/s, in_qsize 16, out_qsize 1\n",
            "2019-11-02 15:53:50,629 : INFO : EPOCH 7 - PROGRESS: at 88.59% examples, 352511 words/s, in_qsize 14, out_qsize 1\n",
            "2019-11-02 15:53:51,672 : INFO : EPOCH 7 - PROGRESS: at 93.37% examples, 353614 words/s, in_qsize 14, out_qsize 1\n",
            "2019-11-02 15:53:52,761 : INFO : EPOCH 7 - PROGRESS: at 97.93% examples, 353123 words/s, in_qsize 15, out_qsize 0\n",
            "2019-11-02 15:53:53,026 : INFO : worker thread finished; awaiting finish of 7 more threads\n",
            "2019-11-02 15:53:53,035 : INFO : worker thread finished; awaiting finish of 6 more threads\n",
            "2019-11-02 15:53:53,040 : INFO : worker thread finished; awaiting finish of 5 more threads\n",
            "2019-11-02 15:53:53,047 : INFO : worker thread finished; awaiting finish of 4 more threads\n",
            "2019-11-02 15:53:53,090 : INFO : worker thread finished; awaiting finish of 3 more threads\n",
            "2019-11-02 15:53:53,093 : INFO : worker thread finished; awaiting finish of 2 more threads\n",
            "2019-11-02 15:53:53,105 : INFO : worker thread finished; awaiting finish of 1 more threads\n",
            "2019-11-02 15:53:53,106 : INFO : worker thread finished; awaiting finish of 0 more threads\n",
            "2019-11-02 15:53:53,107 : INFO : EPOCH - 7 : training on 9227204 raw words (8223296 effective words) took 23.2s, 355205 effective words/s\n",
            "2019-11-02 15:53:54,164 : INFO : EPOCH 8 - PROGRESS: at 3.91% examples, 306850 words/s, in_qsize 14, out_qsize 1\n",
            "2019-11-02 15:53:55,265 : INFO : EPOCH 8 - PROGRESS: at 8.47% examples, 323875 words/s, in_qsize 16, out_qsize 3\n",
            "2019-11-02 15:53:56,299 : INFO : EPOCH 8 - PROGRESS: at 12.93% examples, 333467 words/s, in_qsize 13, out_qsize 5\n",
            "2019-11-02 15:53:57,306 : INFO : EPOCH 8 - PROGRESS: at 17.68% examples, 346825 words/s, in_qsize 14, out_qsize 1\n",
            "2019-11-02 15:53:58,311 : INFO : EPOCH 8 - PROGRESS: at 22.01% examples, 348331 words/s, in_qsize 15, out_qsize 1\n",
            "2019-11-02 15:53:59,312 : INFO : EPOCH 8 - PROGRESS: at 26.23% examples, 348170 words/s, in_qsize 14, out_qsize 1\n",
            "2019-11-02 15:54:00,326 : INFO : EPOCH 8 - PROGRESS: at 30.67% examples, 349866 words/s, in_qsize 15, out_qsize 0\n",
            "2019-11-02 15:54:01,360 : INFO : EPOCH 8 - PROGRESS: at 35.00% examples, 349215 words/s, in_qsize 15, out_qsize 0\n",
            "2019-11-02 15:54:02,405 : INFO : EPOCH 8 - PROGRESS: at 39.76% examples, 352126 words/s, in_qsize 15, out_qsize 0\n",
            "2019-11-02 15:54:03,469 : INFO : EPOCH 8 - PROGRESS: at 44.18% examples, 351203 words/s, in_qsize 15, out_qsize 0\n",
            "2019-11-02 15:54:04,509 : INFO : EPOCH 8 - PROGRESS: at 48.84% examples, 352771 words/s, in_qsize 13, out_qsize 2\n",
            "2019-11-02 15:54:05,604 : INFO : EPOCH 8 - PROGRESS: at 53.38% examples, 351812 words/s, in_qsize 15, out_qsize 0\n",
            "2019-11-02 15:54:06,608 : INFO : EPOCH 8 - PROGRESS: at 57.81% examples, 352706 words/s, in_qsize 15, out_qsize 1\n",
            "2019-11-02 15:54:07,655 : INFO : EPOCH 8 - PROGRESS: at 62.68% examples, 354905 words/s, in_qsize 15, out_qsize 0\n",
            "2019-11-02 15:54:08,662 : INFO : EPOCH 8 - PROGRESS: at 67.13% examples, 355390 words/s, in_qsize 15, out_qsize 0\n",
            "2019-11-02 15:54:09,704 : INFO : EPOCH 8 - PROGRESS: at 71.45% examples, 354563 words/s, in_qsize 16, out_qsize 0\n",
            "2019-11-02 15:54:10,708 : INFO : EPOCH 8 - PROGRESS: at 75.67% examples, 354067 words/s, in_qsize 15, out_qsize 2\n",
            "2019-11-02 15:54:11,808 : INFO : EPOCH 8 - PROGRESS: at 80.58% examples, 354672 words/s, in_qsize 16, out_qsize 0\n",
            "2019-11-02 15:54:12,823 : INFO : EPOCH 8 - PROGRESS: at 85.02% examples, 354960 words/s, in_qsize 14, out_qsize 1\n",
            "2019-11-02 15:54:13,861 : INFO : EPOCH 8 - PROGRESS: at 89.34% examples, 354352 words/s, in_qsize 14, out_qsize 3\n",
            "2019-11-02 15:54:14,889 : INFO : EPOCH 8 - PROGRESS: at 94.36% examples, 356421 words/s, in_qsize 15, out_qsize 0\n",
            "2019-11-02 15:54:15,974 : INFO : EPOCH 8 - PROGRESS: at 98.58% examples, 354714 words/s, in_qsize 12, out_qsize 2\n",
            "2019-11-02 15:54:16,005 : INFO : worker thread finished; awaiting finish of 7 more threads\n",
            "2019-11-02 15:54:16,028 : INFO : worker thread finished; awaiting finish of 6 more threads\n",
            "2019-11-02 15:54:16,077 : INFO : worker thread finished; awaiting finish of 5 more threads\n",
            "2019-11-02 15:54:16,101 : INFO : worker thread finished; awaiting finish of 4 more threads\n",
            "2019-11-02 15:54:16,120 : INFO : worker thread finished; awaiting finish of 3 more threads\n",
            "2019-11-02 15:54:16,125 : INFO : worker thread finished; awaiting finish of 2 more threads\n",
            "2019-11-02 15:54:16,128 : INFO : worker thread finished; awaiting finish of 1 more threads\n",
            "2019-11-02 15:54:16,130 : INFO : worker thread finished; awaiting finish of 0 more threads\n",
            "2019-11-02 15:54:16,131 : INFO : EPOCH - 8 : training on 9227204 raw words (8223615 effective words) took 23.0s, 357363 effective words/s\n",
            "2019-11-02 15:54:17,153 : INFO : EPOCH 9 - PROGRESS: at 3.91% examples, 319385 words/s, in_qsize 14, out_qsize 1\n",
            "2019-11-02 15:54:18,170 : INFO : EPOCH 9 - PROGRESS: at 8.15% examples, 330458 words/s, in_qsize 13, out_qsize 2\n",
            "2019-11-02 15:54:19,203 : INFO : EPOCH 9 - PROGRESS: at 12.49% examples, 335362 words/s, in_qsize 14, out_qsize 5\n",
            "2019-11-02 15:54:20,207 : INFO : EPOCH 9 - PROGRESS: at 17.13% examples, 346703 words/s, in_qsize 15, out_qsize 2\n",
            "2019-11-02 15:54:21,211 : INFO : EPOCH 9 - PROGRESS: at 21.57% examples, 350119 words/s, in_qsize 15, out_qsize 0\n",
            "2019-11-02 15:54:22,214 : INFO : EPOCH 9 - PROGRESS: at 26.02% examples, 352432 words/s, in_qsize 15, out_qsize 0\n",
            "2019-11-02 15:54:23,275 : INFO : EPOCH 9 - PROGRESS: at 30.35% examples, 350000 words/s, in_qsize 14, out_qsize 1\n",
            "2019-11-02 15:54:24,280 : INFO : EPOCH 9 - PROGRESS: at 35.10% examples, 354910 words/s, in_qsize 16, out_qsize 0\n",
            "2019-11-02 15:54:25,300 : INFO : EPOCH 9 - PROGRESS: at 39.33% examples, 353331 words/s, in_qsize 16, out_qsize 0\n",
            "2019-11-02 15:54:26,337 : INFO : EPOCH 9 - PROGRESS: at 43.64% examples, 352347 words/s, in_qsize 14, out_qsize 1\n",
            "2019-11-02 15:54:27,355 : INFO : EPOCH 9 - PROGRESS: at 47.86% examples, 351341 words/s, in_qsize 12, out_qsize 3\n",
            "2019-11-02 15:54:28,358 : INFO : EPOCH 9 - PROGRESS: at 52.84% examples, 356061 words/s, in_qsize 16, out_qsize 0\n",
            "2019-11-02 15:54:29,416 : INFO : EPOCH 9 - PROGRESS: at 56.95% examples, 353191 words/s, in_qsize 14, out_qsize 3\n",
            "2019-11-02 15:54:30,480 : INFO : EPOCH 9 - PROGRESS: at 61.71% examples, 354324 words/s, in_qsize 15, out_qsize 0\n",
            "2019-11-02 15:54:31,497 : INFO : EPOCH 9 - PROGRESS: at 66.37% examples, 355793 words/s, in_qsize 15, out_qsize 0\n",
            "2019-11-02 15:54:32,519 : INFO : EPOCH 9 - PROGRESS: at 70.59% examples, 354794 words/s, in_qsize 14, out_qsize 1\n",
            "2019-11-02 15:54:33,563 : INFO : EPOCH 9 - PROGRESS: at 75.02% examples, 354497 words/s, in_qsize 15, out_qsize 0\n",
            "2019-11-02 15:54:34,595 : INFO : EPOCH 9 - PROGRESS: at 79.38% examples, 353965 words/s, in_qsize 15, out_qsize 2\n",
            "2019-11-02 15:54:35,685 : INFO : EPOCH 9 - PROGRESS: at 84.15% examples, 354277 words/s, in_qsize 15, out_qsize 0\n",
            "2019-11-02 15:54:36,709 : INFO : EPOCH 9 - PROGRESS: at 88.59% examples, 354409 words/s, in_qsize 16, out_qsize 0\n",
            "2019-11-02 15:54:37,741 : INFO : EPOCH 9 - PROGRESS: at 93.04% examples, 354350 words/s, in_qsize 14, out_qsize 1\n",
            "2019-11-02 15:54:38,785 : INFO : EPOCH 9 - PROGRESS: at 97.72% examples, 354928 words/s, in_qsize 16, out_qsize 0\n",
            "2019-11-02 15:54:39,077 : INFO : worker thread finished; awaiting finish of 7 more threads\n",
            "2019-11-02 15:54:39,083 : INFO : worker thread finished; awaiting finish of 6 more threads\n",
            "2019-11-02 15:54:39,115 : INFO : worker thread finished; awaiting finish of 5 more threads\n",
            "2019-11-02 15:54:39,135 : INFO : worker thread finished; awaiting finish of 4 more threads\n",
            "2019-11-02 15:54:39,178 : INFO : worker thread finished; awaiting finish of 3 more threads\n",
            "2019-11-02 15:54:39,191 : INFO : worker thread finished; awaiting finish of 2 more threads\n",
            "2019-11-02 15:54:39,196 : INFO : worker thread finished; awaiting finish of 1 more threads\n",
            "2019-11-02 15:54:39,198 : INFO : worker thread finished; awaiting finish of 0 more threads\n",
            "2019-11-02 15:54:39,199 : INFO : EPOCH - 9 : training on 9227204 raw words (8222595 effective words) took 23.1s, 356720 effective words/s\n",
            "2019-11-02 15:54:40,273 : INFO : EPOCH 10 - PROGRESS: at 4.23% examples, 327517 words/s, in_qsize 15, out_qsize 0\n",
            "2019-11-02 15:54:41,342 : INFO : EPOCH 10 - PROGRESS: at 8.58% examples, 330504 words/s, in_qsize 14, out_qsize 1\n",
            "2019-11-02 15:54:42,352 : INFO : EPOCH 10 - PROGRESS: at 12.93% examples, 337727 words/s, in_qsize 15, out_qsize 3\n",
            "2019-11-02 15:54:43,412 : INFO : EPOCH 10 - PROGRESS: at 17.46% examples, 341538 words/s, in_qsize 14, out_qsize 1\n",
            "2019-11-02 15:54:44,480 : INFO : EPOCH 10 - PROGRESS: at 22.33% examples, 348401 words/s, in_qsize 15, out_qsize 0\n",
            "2019-11-02 15:54:45,497 : INFO : EPOCH 10 - PROGRESS: at 26.56% examples, 347334 words/s, in_qsize 15, out_qsize 0\n",
            "2019-11-02 15:54:46,510 : INFO : EPOCH 10 - PROGRESS: at 31.10% examples, 350431 words/s, in_qsize 15, out_qsize 0\n",
            "2019-11-02 15:54:47,513 : INFO : EPOCH 10 - PROGRESS: at 35.32% examples, 349924 words/s, in_qsize 16, out_qsize 2\n",
            "2019-11-02 15:54:48,544 : INFO : EPOCH 10 - PROGRESS: at 39.97% examples, 352342 words/s, in_qsize 15, out_qsize 0\n",
            "2019-11-02 15:54:49,609 : INFO : EPOCH 10 - PROGRESS: at 44.40% examples, 351365 words/s, in_qsize 15, out_qsize 0\n",
            "2019-11-02 15:54:50,617 : INFO : EPOCH 10 - PROGRESS: at 48.73% examples, 351571 words/s, in_qsize 14, out_qsize 1\n",
            "2019-11-02 15:54:51,689 : INFO : EPOCH 10 - PROGRESS: at 53.27% examples, 351363 words/s, in_qsize 14, out_qsize 2\n",
            "2019-11-02 15:54:52,725 : INFO : EPOCH 10 - PROGRESS: at 58.14% examples, 354129 words/s, in_qsize 15, out_qsize 0\n",
            "2019-11-02 15:54:53,731 : INFO : EPOCH 10 - PROGRESS: at 62.04% examples, 351687 words/s, in_qsize 16, out_qsize 1\n",
            "2019-11-02 15:54:54,741 : INFO : EPOCH 10 - PROGRESS: at 66.58% examples, 352892 words/s, in_qsize 13, out_qsize 3\n",
            "2019-11-02 15:54:55,764 : INFO : EPOCH 10 - PROGRESS: at 70.91% examples, 352599 words/s, in_qsize 15, out_qsize 0\n",
            "2019-11-02 15:54:56,822 : INFO : EPOCH 10 - PROGRESS: at 75.67% examples, 353652 words/s, in_qsize 15, out_qsize 0\n",
            "2019-11-02 15:54:57,836 : INFO : EPOCH 10 - PROGRESS: at 79.92% examples, 353034 words/s, in_qsize 13, out_qsize 2\n",
            "2019-11-02 15:54:58,843 : INFO : EPOCH 10 - PROGRESS: at 84.48% examples, 353988 words/s, in_qsize 15, out_qsize 0\n",
            "2019-11-02 15:54:59,859 : INFO : EPOCH 10 - PROGRESS: at 88.91% examples, 354249 words/s, in_qsize 15, out_qsize 2\n",
            "2019-11-02 15:55:00,864 : INFO : EPOCH 10 - PROGRESS: at 93.26% examples, 354240 words/s, in_qsize 14, out_qsize 1\n",
            "2019-11-02 15:55:01,892 : INFO : EPOCH 10 - PROGRESS: at 97.40% examples, 353100 words/s, in_qsize 13, out_qsize 2\n",
            "2019-11-02 15:55:02,230 : INFO : worker thread finished; awaiting finish of 7 more threads\n",
            "2019-11-02 15:55:02,242 : INFO : worker thread finished; awaiting finish of 6 more threads\n",
            "2019-11-02 15:55:02,282 : INFO : worker thread finished; awaiting finish of 5 more threads\n",
            "2019-11-02 15:55:02,288 : INFO : worker thread finished; awaiting finish of 4 more threads\n",
            "2019-11-02 15:55:02,291 : INFO : worker thread finished; awaiting finish of 3 more threads\n",
            "2019-11-02 15:55:02,297 : INFO : worker thread finished; awaiting finish of 2 more threads\n",
            "2019-11-02 15:55:02,304 : INFO : worker thread finished; awaiting finish of 1 more threads\n",
            "2019-11-02 15:55:02,317 : INFO : worker thread finished; awaiting finish of 0 more threads\n",
            "2019-11-02 15:55:02,318 : INFO : EPOCH - 10 : training on 9227204 raw words (8222561 effective words) took 23.1s, 355885 effective words/s\n",
            "2019-11-02 15:55:03,336 : INFO : EPOCH 11 - PROGRESS: at 4.02% examples, 328511 words/s, in_qsize 16, out_qsize 0\n",
            "2019-11-02 15:55:04,346 : INFO : EPOCH 11 - PROGRESS: at 8.26% examples, 336415 words/s, in_qsize 15, out_qsize 2\n",
            "2019-11-02 15:55:05,347 : INFO : EPOCH 11 - PROGRESS: at 12.39% examples, 336951 words/s, in_qsize 14, out_qsize 1\n",
            "2019-11-02 15:55:06,374 : INFO : EPOCH 11 - PROGRESS: at 16.81% examples, 343359 words/s, in_qsize 15, out_qsize 4\n",
            "2019-11-02 15:55:07,413 : INFO : EPOCH 11 - PROGRESS: at 21.57% examples, 348924 words/s, in_qsize 15, out_qsize 0\n",
            "2019-11-02 15:55:08,423 : INFO : EPOCH 11 - PROGRESS: at 26.02% examples, 351037 words/s, in_qsize 15, out_qsize 0\n",
            "2019-11-02 15:55:09,460 : INFO : EPOCH 11 - PROGRESS: at 30.67% examples, 353691 words/s, in_qsize 11, out_qsize 0\n",
            "2019-11-02 15:55:10,470 : INFO : EPOCH 11 - PROGRESS: at 34.89% examples, 352464 words/s, in_qsize 16, out_qsize 0\n",
            "2019-11-02 15:55:11,498 : INFO : EPOCH 11 - PROGRESS: at 39.33% examples, 352777 words/s, in_qsize 16, out_qsize 0\n",
            "2019-11-02 15:55:12,499 : INFO : EPOCH 11 - PROGRESS: at 43.75% examples, 353947 words/s, in_qsize 13, out_qsize 2\n",
            "2019-11-02 15:55:13,510 : INFO : EPOCH 11 - PROGRESS: at 48.19% examples, 354621 words/s, in_qsize 14, out_qsize 1\n",
            "2019-11-02 15:55:14,521 : INFO : EPOCH 11 - PROGRESS: at 52.62% examples, 355193 words/s, in_qsize 15, out_qsize 0\n",
            "2019-11-02 15:55:15,525 : INFO : EPOCH 11 - PROGRESS: at 56.84% examples, 354511 words/s, in_qsize 14, out_qsize 1\n",
            "2019-11-02 15:55:16,571 : INFO : EPOCH 11 - PROGRESS: at 61.39% examples, 354740 words/s, in_qsize 15, out_qsize 0\n",
            "2019-11-02 15:55:17,605 : INFO : EPOCH 11 - PROGRESS: at 66.04% examples, 355796 words/s, in_qsize 15, out_qsize 0\n",
            "2019-11-02 15:55:18,624 : INFO : EPOCH 11 - PROGRESS: at 70.26% examples, 354880 words/s, in_qsize 16, out_qsize 1\n",
            "2019-11-02 15:55:19,671 : INFO : EPOCH 11 - PROGRESS: at 74.81% examples, 355005 words/s, in_qsize 15, out_qsize 0\n",
            "2019-11-02 15:55:20,674 : INFO : EPOCH 11 - PROGRESS: at 79.60% examples, 356967 words/s, in_qsize 15, out_qsize 0\n",
            "2019-11-02 15:55:21,681 : INFO : EPOCH 11 - PROGRESS: at 84.04% examples, 357243 words/s, in_qsize 16, out_qsize 0\n",
            "2019-11-02 15:55:22,685 : INFO : EPOCH 11 - PROGRESS: at 88.26% examples, 356698 words/s, in_qsize 15, out_qsize 0\n",
            "2019-11-02 15:55:23,709 : INFO : EPOCH 11 - PROGRESS: at 92.72% examples, 356679 words/s, in_qsize 15, out_qsize 0\n",
            "2019-11-02 15:55:24,728 : INFO : EPOCH 11 - PROGRESS: at 97.18% examples, 356962 words/s, in_qsize 16, out_qsize 2\n",
            "2019-11-02 15:55:25,142 : INFO : worker thread finished; awaiting finish of 7 more threads\n",
            "2019-11-02 15:55:25,145 : INFO : worker thread finished; awaiting finish of 6 more threads\n",
            "2019-11-02 15:55:25,156 : INFO : worker thread finished; awaiting finish of 5 more threads\n",
            "2019-11-02 15:55:25,209 : INFO : worker thread finished; awaiting finish of 4 more threads\n",
            "2019-11-02 15:55:25,217 : INFO : worker thread finished; awaiting finish of 3 more threads\n",
            "2019-11-02 15:55:25,225 : INFO : worker thread finished; awaiting finish of 2 more threads\n",
            "2019-11-02 15:55:25,230 : INFO : worker thread finished; awaiting finish of 1 more threads\n",
            "2019-11-02 15:55:25,237 : INFO : worker thread finished; awaiting finish of 0 more threads\n",
            "2019-11-02 15:55:25,238 : INFO : EPOCH - 11 : training on 9227204 raw words (8221892 effective words) took 22.9s, 358964 effective words/s\n",
            "2019-11-02 15:55:26,263 : INFO : EPOCH 12 - PROGRESS: at 3.80% examples, 308387 words/s, in_qsize 15, out_qsize 0\n",
            "2019-11-02 15:55:27,296 : INFO : EPOCH 12 - PROGRESS: at 8.15% examples, 326829 words/s, in_qsize 14, out_qsize 1\n",
            "2019-11-02 15:55:28,304 : INFO : EPOCH 12 - PROGRESS: at 12.93% examples, 347496 words/s, in_qsize 15, out_qsize 0\n",
            "2019-11-02 15:55:29,366 : INFO : EPOCH 12 - PROGRESS: at 17.46% examples, 351163 words/s, in_qsize 15, out_qsize 0\n",
            "2019-11-02 15:55:30,343 : INFO : EPOCH 12 - PROGRESS: at 21.68% examples, 349965 words/s, in_qsize 16, out_qsize 0\n",
            "2019-11-02 15:55:31,351 : INFO : EPOCH 12 - PROGRESS: at 26.02% examples, 350557 words/s, in_qsize 15, out_qsize 0\n",
            "2019-11-02 15:55:32,373 : INFO : EPOCH 12 - PROGRESS: at 30.67% examples, 354084 words/s, in_qsize 14, out_qsize 1\n",
            "2019-11-02 15:55:33,402 : INFO : EPOCH 12 - PROGRESS: at 35.00% examples, 353072 words/s, in_qsize 15, out_qsize 0\n",
            "2019-11-02 15:55:34,447 : INFO : EPOCH 12 - PROGRESS: at 39.54% examples, 353656 words/s, in_qsize 15, out_qsize 0\n",
            "2019-11-02 15:55:35,459 : INFO : EPOCH 12 - PROGRESS: at 44.40% examples, 357842 words/s, in_qsize 15, out_qsize 0\n",
            "2019-11-02 15:55:36,459 : INFO : EPOCH 12 - PROGRESS: at 48.51% examples, 356085 words/s, in_qsize 16, out_qsize 0\n",
            "2019-11-02 15:55:37,467 : INFO : EPOCH 12 - PROGRESS: at 52.73% examples, 355169 words/s, in_qsize 15, out_qsize 1\n",
            "2019-11-02 15:55:38,504 : INFO : EPOCH 12 - PROGRESS: at 57.60% examples, 357643 words/s, in_qsize 15, out_qsize 0\n",
            "2019-11-02 15:55:39,513 : INFO : EPOCH 12 - PROGRESS: at 62.03% examples, 357947 words/s, in_qsize 16, out_qsize 0\n",
            "2019-11-02 15:55:40,541 : INFO : EPOCH 12 - PROGRESS: at 65.82% examples, 354752 words/s, in_qsize 16, out_qsize 5\n",
            "2019-11-02 15:55:41,634 : INFO : EPOCH 12 - PROGRESS: at 70.91% examples, 356179 words/s, in_qsize 15, out_qsize 0\n",
            "2019-11-02 15:55:42,677 : INFO : EPOCH 12 - PROGRESS: at 75.35% examples, 355800 words/s, in_qsize 13, out_qsize 5\n",
            "2019-11-02 15:55:43,679 : INFO : EPOCH 12 - PROGRESS: at 80.25% examples, 358188 words/s, in_qsize 14, out_qsize 1\n",
            "2019-11-02 15:55:44,740 : INFO : EPOCH 12 - PROGRESS: at 84.48% examples, 356512 words/s, in_qsize 15, out_qsize 3\n",
            "2019-11-02 15:55:45,842 : INFO : EPOCH 12 - PROGRESS: at 89.45% examples, 357319 words/s, in_qsize 16, out_qsize 1\n",
            "2019-11-02 15:55:46,872 : INFO : EPOCH 12 - PROGRESS: at 94.25% examples, 358397 words/s, in_qsize 15, out_qsize 0\n",
            "2019-11-02 15:55:47,873 : INFO : EPOCH 12 - PROGRESS: at 98.80% examples, 359082 words/s, in_qsize 12, out_qsize 0\n",
            "2019-11-02 15:55:48,018 : INFO : worker thread finished; awaiting finish of 7 more threads\n",
            "2019-11-02 15:55:48,028 : INFO : worker thread finished; awaiting finish of 6 more threads\n",
            "2019-11-02 15:55:48,048 : INFO : worker thread finished; awaiting finish of 5 more threads\n",
            "2019-11-02 15:55:48,052 : INFO : worker thread finished; awaiting finish of 4 more threads\n",
            "2019-11-02 15:55:48,062 : INFO : worker thread finished; awaiting finish of 3 more threads\n",
            "2019-11-02 15:55:48,064 : INFO : worker thread finished; awaiting finish of 2 more threads\n",
            "2019-11-02 15:55:48,070 : INFO : worker thread finished; awaiting finish of 1 more threads\n",
            "2019-11-02 15:55:48,092 : INFO : worker thread finished; awaiting finish of 0 more threads\n",
            "2019-11-02 15:55:48,093 : INFO : EPOCH - 12 : training on 9227204 raw words (8221856 effective words) took 22.8s, 359960 effective words/s\n",
            "2019-11-02 15:55:49,136 : INFO : EPOCH 13 - PROGRESS: at 3.91% examples, 311542 words/s, in_qsize 15, out_qsize 0\n",
            "2019-11-02 15:55:50,150 : INFO : EPOCH 13 - PROGRESS: at 8.36% examples, 335727 words/s, in_qsize 13, out_qsize 4\n",
            "2019-11-02 15:55:51,193 : INFO : EPOCH 13 - PROGRESS: at 13.14% examples, 349279 words/s, in_qsize 15, out_qsize 0\n",
            "2019-11-02 15:55:52,228 : INFO : EPOCH 13 - PROGRESS: at 17.57% examples, 350111 words/s, in_qsize 14, out_qsize 1\n",
            "2019-11-02 15:55:53,231 : INFO : EPOCH 13 - PROGRESS: at 21.79% examples, 349428 words/s, in_qsize 15, out_qsize 0\n",
            "2019-11-02 15:55:54,273 : INFO : EPOCH 13 - PROGRESS: at 26.23% examples, 349591 words/s, in_qsize 12, out_qsize 3\n",
            "2019-11-02 15:55:55,290 : INFO : EPOCH 13 - PROGRESS: at 30.56% examples, 349752 words/s, in_qsize 15, out_qsize 1\n",
            "2019-11-02 15:55:56,304 : INFO : EPOCH 13 - PROGRESS: at 35.22% examples, 353204 words/s, in_qsize 15, out_qsize 0\n",
            "2019-11-02 15:55:57,308 : INFO : EPOCH 13 - PROGRESS: at 39.86% examples, 356315 words/s, in_qsize 14, out_qsize 1\n",
            "2019-11-02 15:55:58,354 : INFO : EPOCH 13 - PROGRESS: at 44.07% examples, 353844 words/s, in_qsize 15, out_qsize 0\n",
            "2019-11-02 15:55:59,428 : INFO : EPOCH 13 - PROGRESS: at 48.84% examples, 354890 words/s, in_qsize 14, out_qsize 1\n",
            "2019-11-02 15:56:00,440 : INFO : EPOCH 13 - PROGRESS: at 53.38% examples, 356143 words/s, in_qsize 15, out_qsize 0\n",
            "2019-11-02 15:56:01,457 : INFO : EPOCH 13 - PROGRESS: at 58.03% examples, 357718 words/s, in_qsize 15, out_qsize 0\n",
            "2019-11-02 15:56:02,460 : INFO : EPOCH 13 - PROGRESS: at 61.82% examples, 354457 words/s, in_qsize 12, out_qsize 3\n",
            "2019-11-02 15:56:03,487 : INFO : EPOCH 13 - PROGRESS: at 66.47% examples, 355676 words/s, in_qsize 15, out_qsize 0\n",
            "2019-11-02 15:56:04,541 : INFO : EPOCH 13 - PROGRESS: at 71.02% examples, 355858 words/s, in_qsize 14, out_qsize 2\n",
            "2019-11-02 15:56:05,558 : INFO : EPOCH 13 - PROGRESS: at 75.78% examples, 357372 words/s, in_qsize 15, out_qsize 0\n",
            "2019-11-02 15:56:06,589 : INFO : EPOCH 13 - PROGRESS: at 80.25% examples, 357192 words/s, in_qsize 16, out_qsize 1\n",
            "2019-11-02 15:56:07,598 : INFO : EPOCH 13 - PROGRESS: at 84.26% examples, 355597 words/s, in_qsize 15, out_qsize 0\n",
            "2019-11-02 15:56:08,604 : INFO : EPOCH 13 - PROGRESS: at 89.02% examples, 357269 words/s, in_qsize 15, out_qsize 0\n",
            "2019-11-02 15:56:09,696 : INFO : EPOCH 13 - PROGRESS: at 93.16% examples, 354861 words/s, in_qsize 15, out_qsize 1\n",
            "2019-11-02 15:56:10,697 : INFO : EPOCH 13 - PROGRESS: at 97.61% examples, 355297 words/s, in_qsize 15, out_qsize 0\n",
            "2019-11-02 15:56:11,021 : INFO : worker thread finished; awaiting finish of 7 more threads\n",
            "2019-11-02 15:56:11,044 : INFO : worker thread finished; awaiting finish of 6 more threads\n",
            "2019-11-02 15:56:11,066 : INFO : worker thread finished; awaiting finish of 5 more threads\n",
            "2019-11-02 15:56:11,079 : INFO : worker thread finished; awaiting finish of 4 more threads\n",
            "2019-11-02 15:56:11,094 : INFO : worker thread finished; awaiting finish of 3 more threads\n",
            "2019-11-02 15:56:11,116 : INFO : worker thread finished; awaiting finish of 2 more threads\n",
            "2019-11-02 15:56:11,127 : INFO : worker thread finished; awaiting finish of 1 more threads\n",
            "2019-11-02 15:56:11,136 : INFO : worker thread finished; awaiting finish of 0 more threads\n",
            "2019-11-02 15:56:11,137 : INFO : EPOCH - 13 : training on 9227204 raw words (8223372 effective words) took 23.0s, 357059 effective words/s\n",
            "2019-11-02 15:56:12,219 : INFO : EPOCH 14 - PROGRESS: at 4.02% examples, 307831 words/s, in_qsize 14, out_qsize 1\n",
            "2019-11-02 15:56:13,303 : INFO : EPOCH 14 - PROGRESS: at 8.80% examples, 334896 words/s, in_qsize 15, out_qsize 0\n",
            "2019-11-02 15:56:14,370 : INFO : EPOCH 14 - PROGRESS: at 13.25% examples, 337385 words/s, in_qsize 15, out_qsize 0\n",
            "2019-11-02 15:56:15,407 : INFO : EPOCH 14 - PROGRESS: at 17.68% examples, 340857 words/s, in_qsize 14, out_qsize 1\n",
            "2019-11-02 15:56:16,512 : INFO : EPOCH 14 - PROGRESS: at 22.55% examples, 345384 words/s, in_qsize 14, out_qsize 1\n",
            "2019-11-02 15:56:17,530 : INFO : EPOCH 14 - PROGRESS: at 26.99% examples, 347576 words/s, in_qsize 15, out_qsize 0\n",
            "2019-11-02 15:56:18,564 : INFO : EPOCH 14 - PROGRESS: at 31.54% examples, 349605 words/s, in_qsize 15, out_qsize 0\n",
            "2019-11-02 15:56:19,573 : INFO : EPOCH 14 - PROGRESS: at 35.75% examples, 348963 words/s, in_qsize 15, out_qsize 0\n",
            "2019-11-02 15:56:20,578 : INFO : EPOCH 14 - PROGRESS: at 40.08% examples, 349527 words/s, in_qsize 15, out_qsize 0\n",
            "2019-11-02 15:56:21,658 : INFO : EPOCH 14 - PROGRESS: at 44.94% examples, 351738 words/s, in_qsize 16, out_qsize 0\n",
            "2019-11-02 15:56:22,684 : INFO : EPOCH 14 - PROGRESS: at 49.38% examples, 352140 words/s, in_qsize 14, out_qsize 1\n",
            "2019-11-02 15:56:23,742 : INFO : EPOCH 14 - PROGRESS: at 53.70% examples, 350882 words/s, in_qsize 16, out_qsize 2\n",
            "2019-11-02 15:56:24,835 : INFO : EPOCH 14 - PROGRESS: at 58.69% examples, 352796 words/s, in_qsize 15, out_qsize 0\n",
            "2019-11-02 15:56:25,858 : INFO : EPOCH 14 - PROGRESS: at 63.11% examples, 353093 words/s, in_qsize 14, out_qsize 0\n",
            "2019-11-02 15:56:26,881 : INFO : EPOCH 14 - PROGRESS: at 67.77% examples, 354459 words/s, in_qsize 15, out_qsize 0\n",
            "2019-11-02 15:56:27,911 : INFO : EPOCH 14 - PROGRESS: at 71.99% examples, 353405 words/s, in_qsize 15, out_qsize 0\n",
            "2019-11-02 15:56:28,922 : INFO : EPOCH 14 - PROGRESS: at 76.22% examples, 352840 words/s, in_qsize 14, out_qsize 1\n",
            "2019-11-02 15:56:29,999 : INFO : EPOCH 14 - PROGRESS: at 81.12% examples, 353939 words/s, in_qsize 16, out_qsize 0\n",
            "2019-11-02 15:56:31,034 : INFO : EPOCH 14 - PROGRESS: at 85.45% examples, 353423 words/s, in_qsize 14, out_qsize 1\n",
            "2019-11-02 15:56:32,035 : INFO : EPOCH 14 - PROGRESS: at 90.22% examples, 355237 words/s, in_qsize 15, out_qsize 0\n",
            "2019-11-02 15:56:33,052 : INFO : EPOCH 14 - PROGRESS: at 94.36% examples, 354186 words/s, in_qsize 15, out_qsize 0\n",
            "2019-11-02 15:56:34,060 : INFO : EPOCH 14 - PROGRESS: at 98.58% examples, 353774 words/s, in_qsize 10, out_qsize 4\n",
            "2019-11-02 15:56:34,116 : INFO : worker thread finished; awaiting finish of 7 more threads\n",
            "2019-11-02 15:56:34,147 : INFO : worker thread finished; awaiting finish of 6 more threads\n",
            "2019-11-02 15:56:34,211 : INFO : worker thread finished; awaiting finish of 5 more threads\n",
            "2019-11-02 15:56:34,223 : INFO : worker thread finished; awaiting finish of 4 more threads\n",
            "2019-11-02 15:56:34,228 : INFO : worker thread finished; awaiting finish of 3 more threads\n",
            "2019-11-02 15:56:34,230 : INFO : worker thread finished; awaiting finish of 2 more threads\n",
            "2019-11-02 15:56:34,231 : INFO : worker thread finished; awaiting finish of 1 more threads\n",
            "2019-11-02 15:56:34,238 : INFO : worker thread finished; awaiting finish of 0 more threads\n",
            "2019-11-02 15:56:34,239 : INFO : EPOCH - 14 : training on 9227204 raw words (8222406 effective words) took 23.1s, 356084 effective words/s\n",
            "2019-11-02 15:56:35,254 : INFO : EPOCH 15 - PROGRESS: at 3.80% examples, 311729 words/s, in_qsize 12, out_qsize 3\n",
            "2019-11-02 15:56:36,308 : INFO : EPOCH 15 - PROGRESS: at 8.47% examples, 340237 words/s, in_qsize 15, out_qsize 1\n",
            "2019-11-02 15:56:37,309 : INFO : EPOCH 15 - PROGRESS: at 12.82% examples, 344078 words/s, in_qsize 15, out_qsize 0\n",
            "2019-11-02 15:56:38,315 : INFO : EPOCH 15 - PROGRESS: at 17.24% examples, 348636 words/s, in_qsize 16, out_qsize 0\n",
            "2019-11-02 15:56:39,398 : INFO : EPOCH 15 - PROGRESS: at 21.79% examples, 347992 words/s, in_qsize 15, out_qsize 0\n",
            "2019-11-02 15:56:40,398 : INFO : EPOCH 15 - PROGRESS: at 26.34% examples, 352251 words/s, in_qsize 15, out_qsize 0\n",
            "2019-11-02 15:56:41,399 : INFO : EPOCH 15 - PROGRESS: at 30.78% examples, 354076 words/s, in_qsize 14, out_qsize 1\n",
            "2019-11-02 15:56:42,400 : INFO : EPOCH 15 - PROGRESS: at 34.89% examples, 352117 words/s, in_qsize 13, out_qsize 2\n",
            "2019-11-02 15:56:43,427 : INFO : EPOCH 15 - PROGRESS: at 39.54% examples, 354426 words/s, in_qsize 15, out_qsize 0\n",
            "2019-11-02 15:56:44,512 : INFO : EPOCH 15 - PROGRESS: at 43.75% examples, 350818 words/s, in_qsize 15, out_qsize 0\n",
            "2019-11-02 15:56:45,522 : INFO : EPOCH 15 - PROGRESS: at 48.29% examples, 352605 words/s, in_qsize 14, out_qsize 1\n",
            "2019-11-02 15:56:46,534 : INFO : EPOCH 15 - PROGRESS: at 52.84% examples, 354041 words/s, in_qsize 15, out_qsize 0\n",
            "2019-11-02 15:56:47,581 : INFO : EPOCH 15 - PROGRESS: at 57.16% examples, 352981 words/s, in_qsize 14, out_qsize 1\n",
            "2019-11-02 15:56:48,649 : INFO : EPOCH 15 - PROGRESS: at 61.93% examples, 354042 words/s, in_qsize 15, out_qsize 0\n",
            "2019-11-02 15:56:49,683 : INFO : EPOCH 15 - PROGRESS: at 66.47% examples, 354531 words/s, in_qsize 15, out_qsize 0\n",
            "2019-11-02 15:56:50,805 : INFO : EPOCH 15 - PROGRESS: at 71.02% examples, 353119 words/s, in_qsize 13, out_qsize 2\n",
            "2019-11-02 15:56:51,850 : INFO : EPOCH 15 - PROGRESS: at 75.78% examples, 354400 words/s, in_qsize 15, out_qsize 0\n",
            "2019-11-02 15:56:52,871 : INFO : EPOCH 15 - PROGRESS: at 80.25% examples, 354570 words/s, in_qsize 16, out_qsize 1\n",
            "2019-11-02 15:56:53,887 : INFO : EPOCH 15 - PROGRESS: at 84.47% examples, 353911 words/s, in_qsize 15, out_qsize 1\n",
            "2019-11-02 15:56:54,945 : INFO : EPOCH 15 - PROGRESS: at 89.34% examples, 355175 words/s, in_qsize 15, out_qsize 0\n",
            "2019-11-02 15:56:55,962 : INFO : EPOCH 15 - PROGRESS: at 93.92% examples, 355746 words/s, in_qsize 13, out_qsize 2\n",
            "2019-11-02 15:56:56,973 : INFO : EPOCH 15 - PROGRESS: at 98.36% examples, 355999 words/s, in_qsize 15, out_qsize 0\n",
            "2019-11-02 15:56:57,167 : INFO : worker thread finished; awaiting finish of 7 more threads\n",
            "2019-11-02 15:56:57,169 : INFO : worker thread finished; awaiting finish of 6 more threads\n",
            "2019-11-02 15:56:57,182 : INFO : worker thread finished; awaiting finish of 5 more threads\n",
            "2019-11-02 15:56:57,194 : INFO : worker thread finished; awaiting finish of 4 more threads\n",
            "2019-11-02 15:56:57,196 : INFO : worker thread finished; awaiting finish of 3 more threads\n",
            "2019-11-02 15:56:57,200 : INFO : worker thread finished; awaiting finish of 2 more threads\n",
            "2019-11-02 15:56:57,212 : INFO : worker thread finished; awaiting finish of 1 more threads\n",
            "2019-11-02 15:56:57,230 : INFO : worker thread finished; awaiting finish of 0 more threads\n",
            "2019-11-02 15:56:57,231 : INFO : EPOCH - 15 : training on 9227204 raw words (8222821 effective words) took 23.0s, 357859 effective words/s\n",
            "2019-11-02 15:56:58,274 : INFO : EPOCH 16 - PROGRESS: at 4.23% examples, 337749 words/s, in_qsize 16, out_qsize 0\n",
            "2019-11-02 15:56:59,395 : INFO : EPOCH 16 - PROGRESS: at 8.69% examples, 331707 words/s, in_qsize 14, out_qsize 4\n",
            "2019-11-02 15:57:00,536 : INFO : EPOCH 16 - PROGRESS: at 13.90% examples, 346551 words/s, in_qsize 15, out_qsize 0\n",
            "2019-11-02 15:57:01,681 : INFO : EPOCH 16 - PROGRESS: at 18.65% examples, 345403 words/s, in_qsize 15, out_qsize 0\n",
            "2019-11-02 15:57:02,757 : INFO : EPOCH 16 - PROGRESS: at 23.52% examples, 350748 words/s, in_qsize 16, out_qsize 0\n",
            "2019-11-02 15:57:03,760 : INFO : EPOCH 16 - PROGRESS: at 27.75% examples, 350056 words/s, in_qsize 14, out_qsize 1\n",
            "2019-11-02 15:57:04,770 : INFO : EPOCH 16 - PROGRESS: at 32.19% examples, 351641 words/s, in_qsize 15, out_qsize 0\n",
            "2019-11-02 15:57:05,820 : INFO : EPOCH 16 - PROGRESS: at 36.72% examples, 352165 words/s, in_qsize 15, out_qsize 0\n",
            "2019-11-02 15:57:06,906 : INFO : EPOCH 16 - PROGRESS: at 41.37% examples, 352940 words/s, in_qsize 15, out_qsize 2\n",
            "2019-11-02 15:57:07,899 : INFO : EPOCH 16 - PROGRESS: at 45.92% examples, 354489 words/s, in_qsize 13, out_qsize 1\n",
            "2019-11-02 15:57:08,949 : INFO : EPOCH 16 - PROGRESS: at 50.46% examples, 354696 words/s, in_qsize 14, out_qsize 1\n",
            "2019-11-02 15:57:09,968 : INFO : EPOCH 16 - PROGRESS: at 54.89% examples, 354985 words/s, in_qsize 15, out_qsize 0\n",
            "2019-11-02 15:57:10,969 : INFO : EPOCH 16 - PROGRESS: at 59.22% examples, 355062 words/s, in_qsize 14, out_qsize 1\n",
            "2019-11-02 15:57:12,029 : INFO : EPOCH 16 - PROGRESS: at 63.54% examples, 353704 words/s, in_qsize 16, out_qsize 2\n",
            "2019-11-02 15:57:13,059 : INFO : EPOCH 16 - PROGRESS: at 68.21% examples, 354889 words/s, in_qsize 15, out_qsize 0\n",
            "2019-11-02 15:57:14,065 : INFO : EPOCH 16 - PROGRESS: at 72.97% examples, 356951 words/s, in_qsize 15, out_qsize 0\n",
            "2019-11-02 15:57:15,092 : INFO : EPOCH 16 - PROGRESS: at 76.66% examples, 353360 words/s, in_qsize 11, out_qsize 4\n",
            "2019-11-02 15:57:16,093 : INFO : EPOCH 16 - PROGRESS: at 81.34% examples, 354933 words/s, in_qsize 14, out_qsize 1\n",
            "2019-11-02 15:57:17,110 : INFO : EPOCH 16 - PROGRESS: at 85.56% examples, 354246 words/s, in_qsize 13, out_qsize 2\n",
            "2019-11-02 15:57:18,122 : INFO : EPOCH 16 - PROGRESS: at 90.00% examples, 354577 words/s, in_qsize 15, out_qsize 0\n",
            "2019-11-02 15:57:19,140 : INFO : EPOCH 16 - PROGRESS: at 94.46% examples, 354723 words/s, in_qsize 15, out_qsize 0\n",
            "2019-11-02 15:57:20,165 : INFO : EPOCH 16 - PROGRESS: at 99.23% examples, 355958 words/s, in_qsize 7, out_qsize 2\n",
            "2019-11-02 15:57:20,169 : INFO : worker thread finished; awaiting finish of 7 more threads\n",
            "2019-11-02 15:57:20,184 : INFO : worker thread finished; awaiting finish of 6 more threads\n",
            "2019-11-02 15:57:20,208 : INFO : worker thread finished; awaiting finish of 5 more threads\n",
            "2019-11-02 15:57:20,230 : INFO : worker thread finished; awaiting finish of 4 more threads\n",
            "2019-11-02 15:57:20,235 : INFO : worker thread finished; awaiting finish of 3 more threads\n",
            "2019-11-02 15:57:20,259 : INFO : worker thread finished; awaiting finish of 2 more threads\n",
            "2019-11-02 15:57:20,266 : INFO : worker thread finished; awaiting finish of 1 more threads\n",
            "2019-11-02 15:57:20,269 : INFO : worker thread finished; awaiting finish of 0 more threads\n",
            "2019-11-02 15:57:20,270 : INFO : EPOCH - 16 : training on 9227204 raw words (8221527 effective words) took 23.0s, 357081 effective words/s\n",
            "2019-11-02 15:57:21,325 : INFO : EPOCH 17 - PROGRESS: at 3.80% examples, 305506 words/s, in_qsize 14, out_qsize 5\n",
            "2019-11-02 15:57:22,370 : INFO : EPOCH 17 - PROGRESS: at 8.47% examples, 333021 words/s, in_qsize 15, out_qsize 0\n",
            "2019-11-02 15:57:23,372 : INFO : EPOCH 17 - PROGRESS: at 13.14% examples, 349010 words/s, in_qsize 12, out_qsize 0\n",
            "2019-11-02 15:57:24,429 : INFO : EPOCH 17 - PROGRESS: at 17.57% examples, 348015 words/s, in_qsize 16, out_qsize 0\n",
            "2019-11-02 15:57:25,431 : INFO : EPOCH 17 - PROGRESS: at 21.79% examples, 347809 words/s, in_qsize 15, out_qsize 0\n",
            "2019-11-02 15:57:26,432 : INFO : EPOCH 17 - PROGRESS: at 26.23% examples, 350598 words/s, in_qsize 14, out_qsize 1\n",
            "2019-11-02 15:57:27,476 : INFO : EPOCH 17 - PROGRESS: at 30.56% examples, 349270 words/s, in_qsize 15, out_qsize 2\n",
            "2019-11-02 15:57:28,486 : INFO : EPOCH 17 - PROGRESS: at 35.54% examples, 356227 words/s, in_qsize 16, out_qsize 0\n",
            "2019-11-02 15:57:29,630 : INFO : EPOCH 17 - PROGRESS: at 40.08% examples, 352638 words/s, in_qsize 12, out_qsize 3\n",
            "2019-11-02 15:57:30,646 : INFO : EPOCH 17 - PROGRESS: at 44.51% examples, 353315 words/s, in_qsize 16, out_qsize 1\n",
            "2019-11-02 15:57:31,666 : INFO : EPOCH 17 - PROGRESS: at 48.95% examples, 353750 words/s, in_qsize 15, out_qsize 0\n",
            "2019-11-02 15:57:32,726 : INFO : EPOCH 17 - PROGRESS: at 53.70% examples, 355137 words/s, in_qsize 16, out_qsize 0\n",
            "2019-11-02 15:57:33,835 : INFO : EPOCH 17 - PROGRESS: at 58.25% examples, 353715 words/s, in_qsize 15, out_qsize 0\n",
            "2019-11-02 15:57:34,857 : INFO : EPOCH 17 - PROGRESS: at 62.57% examples, 353361 words/s, in_qsize 16, out_qsize 1\n",
            "2019-11-02 15:57:35,964 : INFO : EPOCH 17 - PROGRESS: at 67.45% examples, 353964 words/s, in_qsize 16, out_qsize 1\n",
            "2019-11-02 15:57:37,017 : INFO : EPOCH 17 - PROGRESS: at 72.21% examples, 355137 words/s, in_qsize 15, out_qsize 0\n",
            "2019-11-02 15:57:38,089 : INFO : EPOCH 17 - PROGRESS: at 76.66% examples, 354242 words/s, in_qsize 16, out_qsize 1\n",
            "2019-11-02 15:57:39,123 : INFO : EPOCH 17 - PROGRESS: at 81.55% examples, 356080 words/s, in_qsize 14, out_qsize 0\n",
            "2019-11-02 15:57:40,164 : INFO : EPOCH 17 - PROGRESS: at 85.77% examples, 354909 words/s, in_qsize 14, out_qsize 1\n",
            "2019-11-02 15:57:41,174 : INFO : EPOCH 17 - PROGRESS: at 90.22% examples, 355223 words/s, in_qsize 16, out_qsize 0\n",
            "2019-11-02 15:57:42,186 : INFO : EPOCH 17 - PROGRESS: at 94.79% examples, 355884 words/s, in_qsize 15, out_qsize 0\n",
            "2019-11-02 15:57:43,194 : INFO : EPOCH 17 - PROGRESS: at 99.23% examples, 356158 words/s, in_qsize 5, out_qsize 6\n",
            "2019-11-02 15:57:43,198 : INFO : worker thread finished; awaiting finish of 7 more threads\n",
            "2019-11-02 15:57:43,200 : INFO : worker thread finished; awaiting finish of 6 more threads\n",
            "2019-11-02 15:57:43,202 : INFO : worker thread finished; awaiting finish of 5 more threads\n",
            "2019-11-02 15:57:43,213 : INFO : worker thread finished; awaiting finish of 4 more threads\n",
            "2019-11-02 15:57:43,228 : INFO : worker thread finished; awaiting finish of 3 more threads\n",
            "2019-11-02 15:57:43,252 : INFO : worker thread finished; awaiting finish of 2 more threads\n",
            "2019-11-02 15:57:43,262 : INFO : worker thread finished; awaiting finish of 1 more threads\n",
            "2019-11-02 15:57:43,270 : INFO : worker thread finished; awaiting finish of 0 more threads\n",
            "2019-11-02 15:57:43,271 : INFO : EPOCH - 17 : training on 9227204 raw words (8223164 effective words) took 23.0s, 357729 effective words/s\n",
            "2019-11-02 15:57:44,287 : INFO : EPOCH 18 - PROGRESS: at 3.80% examples, 310754 words/s, in_qsize 13, out_qsize 3\n",
            "2019-11-02 15:57:45,303 : INFO : EPOCH 18 - PROGRESS: at 8.26% examples, 335185 words/s, in_qsize 15, out_qsize 0\n",
            "2019-11-02 15:57:46,354 : INFO : EPOCH 18 - PROGRESS: at 12.60% examples, 336536 words/s, in_qsize 14, out_qsize 1\n",
            "2019-11-02 15:57:47,429 : INFO : EPOCH 18 - PROGRESS: at 17.46% examples, 345871 words/s, in_qsize 16, out_qsize 0\n",
            "2019-11-02 15:57:48,438 : INFO : EPOCH 18 - PROGRESS: at 22.01% examples, 350702 words/s, in_qsize 16, out_qsize 0\n",
            "2019-11-02 15:57:49,489 : INFO : EPOCH 18 - PROGRESS: at 26.34% examples, 348752 words/s, in_qsize 15, out_qsize 1\n",
            "2019-11-02 15:57:50,503 : INFO : EPOCH 18 - PROGRESS: at 30.89% examples, 351621 words/s, in_qsize 15, out_qsize 0\n",
            "2019-11-02 15:57:51,520 : INFO : EPOCH 18 - PROGRESS: at 35.32% examples, 352518 words/s, in_qsize 15, out_qsize 0\n",
            "2019-11-02 15:57:52,528 : INFO : EPOCH 18 - PROGRESS: at 39.86% examples, 354533 words/s, in_qsize 15, out_qsize 1\n",
            "2019-11-02 15:57:53,581 : INFO : EPOCH 18 - PROGRESS: at 44.51% examples, 355440 words/s, in_qsize 16, out_qsize 0\n",
            "2019-11-02 15:57:54,658 : INFO : EPOCH 18 - PROGRESS: at 48.84% examples, 353116 words/s, in_qsize 15, out_qsize 0\n",
            "2019-11-02 15:57:55,663 : INFO : EPOCH 18 - PROGRESS: at 53.16% examples, 353263 words/s, in_qsize 16, out_qsize 0\n",
            "2019-11-02 15:57:56,755 : INFO : EPOCH 18 - PROGRESS: at 57.92% examples, 353733 words/s, in_qsize 15, out_qsize 0\n",
            "2019-11-02 15:57:57,768 : INFO : EPOCH 18 - PROGRESS: at 62.47% examples, 354829 words/s, in_qsize 15, out_qsize 0\n",
            "2019-11-02 15:57:58,837 : INFO : EPOCH 18 - PROGRESS: at 66.91% examples, 354658 words/s, in_qsize 15, out_qsize 2\n",
            "2019-11-02 15:57:59,895 : INFO : EPOCH 18 - PROGRESS: at 71.78% examples, 355521 words/s, in_qsize 15, out_qsize 0\n",
            "2019-11-02 15:58:00,914 : INFO : EPOCH 18 - PROGRESS: at 76.22% examples, 355679 words/s, in_qsize 12, out_qsize 3\n",
            "2019-11-02 15:58:01,944 : INFO : EPOCH 18 - PROGRESS: at 81.01% examples, 357044 words/s, in_qsize 15, out_qsize 0\n",
            "2019-11-02 15:58:02,959 : INFO : EPOCH 18 - PROGRESS: at 85.34% examples, 356724 words/s, in_qsize 15, out_qsize 0\n",
            "2019-11-02 15:58:03,981 : INFO : EPOCH 18 - PROGRESS: at 89.78% examples, 356752 words/s, in_qsize 14, out_qsize 1\n",
            "2019-11-02 15:58:05,022 : INFO : EPOCH 18 - PROGRESS: at 94.47% examples, 357266 words/s, in_qsize 15, out_qsize 0\n",
            "2019-11-02 15:58:06,026 : INFO : EPOCH 18 - PROGRESS: at 98.69% examples, 356770 words/s, in_qsize 13, out_qsize 0\n",
            "2019-11-02 15:58:06,068 : INFO : worker thread finished; awaiting finish of 7 more threads\n",
            "2019-11-02 15:58:06,072 : INFO : worker thread finished; awaiting finish of 6 more threads\n",
            "2019-11-02 15:58:06,104 : INFO : worker thread finished; awaiting finish of 5 more threads\n",
            "2019-11-02 15:58:06,150 : INFO : worker thread finished; awaiting finish of 4 more threads\n",
            "2019-11-02 15:58:06,174 : INFO : worker thread finished; awaiting finish of 3 more threads\n",
            "2019-11-02 15:58:06,188 : INFO : worker thread finished; awaiting finish of 2 more threads\n",
            "2019-11-02 15:58:06,193 : INFO : worker thread finished; awaiting finish of 1 more threads\n",
            "2019-11-02 15:58:06,195 : INFO : worker thread finished; awaiting finish of 0 more threads\n",
            "2019-11-02 15:58:06,196 : INFO : EPOCH - 18 : training on 9227204 raw words (8221609 effective words) took 22.9s, 358815 effective words/s\n",
            "2019-11-02 15:58:07,212 : INFO : EPOCH 19 - PROGRESS: at 3.69% examples, 302416 words/s, in_qsize 15, out_qsize 0\n",
            "2019-11-02 15:58:08,213 : INFO : EPOCH 19 - PROGRESS: at 8.25% examples, 338002 words/s, in_qsize 15, out_qsize 0\n",
            "2019-11-02 15:58:09,250 : INFO : EPOCH 19 - PROGRESS: at 12.71% examples, 342944 words/s, in_qsize 15, out_qsize 0\n",
            "2019-11-02 15:58:10,385 : INFO : EPOCH 19 - PROGRESS: at 17.57% examples, 345668 words/s, in_qsize 14, out_qsize 1\n",
            "2019-11-02 15:58:11,500 : INFO : EPOCH 19 - PROGRESS: at 22.54% examples, 350273 words/s, in_qsize 15, out_qsize 0\n",
            "2019-11-02 15:58:12,501 : INFO : EPOCH 19 - PROGRESS: at 27.32% examples, 356817 words/s, in_qsize 16, out_qsize 0\n",
            "2019-11-02 15:58:13,578 : INFO : EPOCH 19 - PROGRESS: at 31.75% examples, 354279 words/s, in_qsize 13, out_qsize 2\n",
            "2019-11-02 15:58:14,619 : INFO : EPOCH 19 - PROGRESS: at 36.18% examples, 354757 words/s, in_qsize 15, out_qsize 4\n",
            "2019-11-02 15:58:15,649 : INFO : EPOCH 19 - PROGRESS: at 40.83% examples, 355772 words/s, in_qsize 15, out_qsize 0\n",
            "2019-11-02 15:58:16,727 : INFO : EPOCH 19 - PROGRESS: at 45.16% examples, 353159 words/s, in_qsize 12, out_qsize 3\n",
            "2019-11-02 15:58:17,800 : INFO : EPOCH 19 - PROGRESS: at 50.02% examples, 355066 words/s, in_qsize 14, out_qsize 1\n",
            "2019-11-02 15:58:18,851 : INFO : EPOCH 19 - PROGRESS: at 54.46% examples, 354467 words/s, in_qsize 14, out_qsize 1\n",
            "2019-11-02 15:58:19,859 : INFO : EPOCH 19 - PROGRESS: at 59.01% examples, 355708 words/s, in_qsize 15, out_qsize 0\n",
            "2019-11-02 15:58:20,880 : INFO : EPOCH 19 - PROGRESS: at 63.22% examples, 354633 words/s, in_qsize 14, out_qsize 1\n",
            "2019-11-02 15:58:22,002 : INFO : EPOCH 19 - PROGRESS: at 68.31% examples, 355947 words/s, in_qsize 15, out_qsize 0\n",
            "2019-11-02 15:58:23,033 : INFO : EPOCH 19 - PROGRESS: at 73.08% examples, 357424 words/s, in_qsize 15, out_qsize 0\n",
            "2019-11-02 15:58:24,078 : INFO : EPOCH 19 - PROGRESS: at 77.31% examples, 355957 words/s, in_qsize 14, out_qsize 1\n",
            "2019-11-02 15:58:25,090 : INFO : EPOCH 19 - PROGRESS: at 81.56% examples, 355304 words/s, in_qsize 15, out_qsize 4\n",
            "2019-11-02 15:58:26,250 : INFO : EPOCH 19 - PROGRESS: at 86.64% examples, 355607 words/s, in_qsize 13, out_qsize 2\n",
            "2019-11-02 15:58:27,253 : INFO : EPOCH 19 - PROGRESS: at 91.09% examples, 356010 words/s, in_qsize 13, out_qsize 2\n",
            "2019-11-02 15:58:28,272 : INFO : EPOCH 19 - PROGRESS: at 95.55% examples, 356125 words/s, in_qsize 15, out_qsize 1\n",
            "2019-11-02 15:58:29,054 : INFO : worker thread finished; awaiting finish of 7 more threads\n",
            "2019-11-02 15:58:29,061 : INFO : worker thread finished; awaiting finish of 6 more threads\n",
            "2019-11-02 15:58:29,070 : INFO : worker thread finished; awaiting finish of 5 more threads\n",
            "2019-11-02 15:58:29,093 : INFO : worker thread finished; awaiting finish of 4 more threads\n",
            "2019-11-02 15:58:29,108 : INFO : worker thread finished; awaiting finish of 3 more threads\n",
            "2019-11-02 15:58:29,124 : INFO : worker thread finished; awaiting finish of 2 more threads\n",
            "2019-11-02 15:58:29,133 : INFO : worker thread finished; awaiting finish of 1 more threads\n",
            "2019-11-02 15:58:29,146 : INFO : worker thread finished; awaiting finish of 0 more threads\n",
            "2019-11-02 15:58:29,147 : INFO : EPOCH - 19 : training on 9227204 raw words (8222911 effective words) took 22.9s, 358513 effective words/s\n",
            "2019-11-02 15:58:30,249 : INFO : EPOCH 20 - PROGRESS: at 4.02% examples, 303752 words/s, in_qsize 13, out_qsize 2\n",
            "2019-11-02 15:58:31,264 : INFO : EPOCH 20 - PROGRESS: at 8.90% examples, 347795 words/s, in_qsize 16, out_qsize 0\n",
            "2019-11-02 15:58:32,316 : INFO : EPOCH 20 - PROGRESS: at 13.04% examples, 339179 words/s, in_qsize 16, out_qsize 1\n",
            "2019-11-02 15:58:33,320 : INFO : EPOCH 20 - PROGRESS: at 17.89% examples, 353623 words/s, in_qsize 15, out_qsize 0\n",
            "2019-11-02 15:58:34,330 : INFO : EPOCH 20 - PROGRESS: at 22.43% examples, 356901 words/s, in_qsize 15, out_qsize 0\n",
            "2019-11-02 15:58:35,339 : INFO : EPOCH 20 - PROGRESS: at 26.78% examples, 356361 words/s, in_qsize 13, out_qsize 0\n",
            "2019-11-02 15:58:36,398 : INFO : EPOCH 20 - PROGRESS: at 30.99% examples, 352229 words/s, in_qsize 15, out_qsize 0\n",
            "2019-11-02 15:58:37,426 : INFO : EPOCH 20 - PROGRESS: at 35.43% examples, 352571 words/s, in_qsize 14, out_qsize 1\n",
            "2019-11-02 15:58:38,470 : INFO : EPOCH 20 - PROGRESS: at 40.08% examples, 354171 words/s, in_qsize 16, out_qsize 0\n",
            "2019-11-02 15:58:39,620 : INFO : EPOCH 20 - PROGRESS: at 44.83% examples, 352671 words/s, in_qsize 12, out_qsize 4\n",
            "2019-11-02 15:58:40,625 : INFO : EPOCH 20 - PROGRESS: at 49.27% examples, 353651 words/s, in_qsize 15, out_qsize 3\n",
            "2019-11-02 15:58:41,665 : INFO : EPOCH 20 - PROGRESS: at 54.35% examples, 357753 words/s, in_qsize 15, out_qsize 0\n",
            "2019-11-02 15:58:42,668 : INFO : EPOCH 20 - PROGRESS: at 58.47% examples, 356248 words/s, in_qsize 15, out_qsize 0\n",
            "2019-11-02 15:58:43,676 : INFO : EPOCH 20 - PROGRESS: at 62.79% examples, 356063 words/s, in_qsize 15, out_qsize 1\n",
            "2019-11-02 15:58:44,735 : INFO : EPOCH 20 - PROGRESS: at 67.34% examples, 355880 words/s, in_qsize 15, out_qsize 1\n",
            "2019-11-02 15:58:45,823 : INFO : EPOCH 20 - PROGRESS: at 71.88% examples, 355072 words/s, in_qsize 13, out_qsize 2\n",
            "2019-11-02 15:58:46,878 : INFO : EPOCH 20 - PROGRESS: at 76.55% examples, 355533 words/s, in_qsize 14, out_qsize 2\n",
            "2019-11-02 15:58:47,915 : INFO : EPOCH 20 - PROGRESS: at 81.34% examples, 356772 words/s, in_qsize 15, out_qsize 0\n",
            "2019-11-02 15:58:48,950 : INFO : EPOCH 20 - PROGRESS: at 85.88% examples, 356999 words/s, in_qsize 15, out_qsize 0\n",
            "2019-11-02 15:58:50,012 : INFO : EPOCH 20 - PROGRESS: at 90.22% examples, 355898 words/s, in_qsize 15, out_qsize 0\n",
            "2019-11-02 15:58:51,013 : INFO : EPOCH 20 - PROGRESS: at 94.79% examples, 356690 words/s, in_qsize 15, out_qsize 0\n",
            "2019-11-02 15:58:52,013 : INFO : worker thread finished; awaiting finish of 7 more threads\n",
            "2019-11-02 15:58:52,020 : INFO : EPOCH 20 - PROGRESS: at 99.44% examples, 357756 words/s, in_qsize 5, out_qsize 2\n",
            "2019-11-02 15:58:52,021 : INFO : worker thread finished; awaiting finish of 6 more threads\n",
            "2019-11-02 15:58:52,023 : INFO : worker thread finished; awaiting finish of 5 more threads\n",
            "2019-11-02 15:58:52,059 : INFO : worker thread finished; awaiting finish of 4 more threads\n",
            "2019-11-02 15:58:52,073 : INFO : worker thread finished; awaiting finish of 3 more threads\n",
            "2019-11-02 15:58:52,085 : INFO : worker thread finished; awaiting finish of 2 more threads\n",
            "2019-11-02 15:58:52,087 : INFO : worker thread finished; awaiting finish of 1 more threads\n",
            "2019-11-02 15:58:52,094 : INFO : worker thread finished; awaiting finish of 0 more threads\n",
            "2019-11-02 15:58:52,095 : INFO : EPOCH - 20 : training on 9227204 raw words (8222447 effective words) took 22.9s, 358568 effective words/s\n",
            "2019-11-02 15:58:53,134 : INFO : EPOCH 21 - PROGRESS: at 4.13% examples, 329775 words/s, in_qsize 15, out_qsize 0\n",
            "2019-11-02 15:58:54,167 : INFO : EPOCH 21 - PROGRESS: at 8.69% examples, 346146 words/s, in_qsize 15, out_qsize 0\n",
            "2019-11-02 15:58:55,230 : INFO : EPOCH 21 - PROGRESS: at 13.36% examples, 351071 words/s, in_qsize 13, out_qsize 2\n",
            "2019-11-02 15:58:56,287 : INFO : EPOCH 21 - PROGRESS: at 18.00% examples, 353829 words/s, in_qsize 15, out_qsize 0\n",
            "2019-11-02 15:58:57,298 : INFO : EPOCH 21 - PROGRESS: at 22.54% examples, 357030 words/s, in_qsize 14, out_qsize 1\n",
            "2019-11-02 15:58:58,315 : INFO : EPOCH 21 - PROGRESS: at 27.20% examples, 360286 words/s, in_qsize 16, out_qsize 1\n",
            "2019-11-02 15:58:59,360 : INFO : EPOCH 21 - PROGRESS: at 31.42% examples, 356303 words/s, in_qsize 11, out_qsize 4\n",
            "2019-11-02 15:59:00,382 : INFO : EPOCH 21 - PROGRESS: at 36.18% examples, 360236 words/s, in_qsize 16, out_qsize 0\n",
            "2019-11-02 15:59:01,378 : INFO : EPOCH 21 - PROGRESS: at 40.19% examples, 356604 words/s, in_qsize 13, out_qsize 2\n",
            "2019-11-02 15:59:02,390 : INFO : EPOCH 21 - PROGRESS: at 44.73% examples, 357866 words/s, in_qsize 15, out_qsize 4\n",
            "2019-11-02 15:59:03,432 : INFO : EPOCH 21 - PROGRESS: at 49.17% examples, 357251 words/s, in_qsize 12, out_qsize 3\n",
            "2019-11-02 15:59:04,469 : INFO : EPOCH 21 - PROGRESS: at 53.81% examples, 358262 words/s, in_qsize 14, out_qsize 1\n",
            "2019-11-02 15:59:05,480 : INFO : EPOCH 21 - PROGRESS: at 58.47% examples, 359831 words/s, in_qsize 15, out_qsize 0\n",
            "2019-11-02 15:59:06,505 : INFO : EPOCH 21 - PROGRESS: at 63.00% examples, 360201 words/s, in_qsize 15, out_qsize 0\n",
            "2019-11-02 15:59:07,546 : INFO : EPOCH 21 - PROGRESS: at 67.56% examples, 360140 words/s, in_qsize 16, out_qsize 0\n",
            "2019-11-02 15:59:08,548 : INFO : EPOCH 21 - PROGRESS: at 71.99% examples, 360419 words/s, in_qsize 16, out_qsize 0\n",
            "2019-11-02 15:59:09,556 : INFO : EPOCH 21 - PROGRESS: at 76.11% examples, 358984 words/s, in_qsize 14, out_qsize 1\n",
            "2019-11-02 15:59:10,587 : INFO : EPOCH 21 - PROGRESS: at 80.47% examples, 358561 words/s, in_qsize 15, out_qsize 1\n",
            "2019-11-02 15:59:11,612 : INFO : EPOCH 21 - PROGRESS: at 84.91% examples, 358144 words/s, in_qsize 10, out_qsize 5\n",
            "2019-11-02 15:59:12,669 : INFO : EPOCH 21 - PROGRESS: at 89.89% examples, 359646 words/s, in_qsize 15, out_qsize 0\n",
            "2019-11-02 15:59:13,750 : INFO : EPOCH 21 - PROGRESS: at 94.46% examples, 358939 words/s, in_qsize 16, out_qsize 0\n",
            "2019-11-02 15:59:14,756 : INFO : EPOCH 21 - PROGRESS: at 99.22% examples, 360307 words/s, in_qsize 8, out_qsize 0\n",
            "2019-11-02 15:59:14,773 : INFO : worker thread finished; awaiting finish of 7 more threads\n",
            "2019-11-02 15:59:14,814 : INFO : worker thread finished; awaiting finish of 6 more threads\n",
            "2019-11-02 15:59:14,820 : INFO : worker thread finished; awaiting finish of 5 more threads\n",
            "2019-11-02 15:59:14,831 : INFO : worker thread finished; awaiting finish of 4 more threads\n",
            "2019-11-02 15:59:14,834 : INFO : worker thread finished; awaiting finish of 3 more threads\n",
            "2019-11-02 15:59:14,851 : INFO : worker thread finished; awaiting finish of 2 more threads\n",
            "2019-11-02 15:59:14,863 : INFO : worker thread finished; awaiting finish of 1 more threads\n",
            "2019-11-02 15:59:14,864 : INFO : worker thread finished; awaiting finish of 0 more threads\n",
            "2019-11-02 15:59:14,866 : INFO : EPOCH - 21 : training on 9227204 raw words (8223550 effective words) took 22.8s, 361358 effective words/s\n",
            "2019-11-02 15:59:15,927 : INFO : EPOCH 22 - PROGRESS: at 3.80% examples, 297817 words/s, in_qsize 14, out_qsize 1\n",
            "2019-11-02 15:59:16,981 : INFO : EPOCH 22 - PROGRESS: at 8.47% examples, 330820 words/s, in_qsize 12, out_qsize 3\n",
            "2019-11-02 15:59:17,982 : INFO : EPOCH 22 - PROGRESS: at 13.25% examples, 350526 words/s, in_qsize 13, out_qsize 1\n",
            "2019-11-02 15:59:19,087 : INFO : EPOCH 22 - PROGRESS: at 17.68% examples, 345132 words/s, in_qsize 16, out_qsize 2\n",
            "2019-11-02 15:59:20,107 : INFO : EPOCH 22 - PROGRESS: at 22.22% examples, 350316 words/s, in_qsize 15, out_qsize 1\n",
            "2019-11-02 15:59:21,219 : INFO : EPOCH 22 - PROGRESS: at 27.10% examples, 351365 words/s, in_qsize 15, out_qsize 0\n",
            "2019-11-02 15:59:22,228 : INFO : EPOCH 22 - PROGRESS: at 31.54% examples, 352845 words/s, in_qsize 15, out_qsize 0\n",
            "2019-11-02 15:59:23,272 : INFO : EPOCH 22 - PROGRESS: at 36.19% examples, 354595 words/s, in_qsize 16, out_qsize 1\n",
            "2019-11-02 15:59:24,332 : INFO : EPOCH 22 - PROGRESS: at 40.62% examples, 353485 words/s, in_qsize 15, out_qsize 0\n",
            "2019-11-02 15:59:25,408 : INFO : EPOCH 22 - PROGRESS: at 45.05% examples, 352025 words/s, in_qsize 9, out_qsize 6\n",
            "2019-11-02 15:59:26,452 : INFO : EPOCH 22 - PROGRESS: at 49.92% examples, 354932 words/s, in_qsize 15, out_qsize 0\n",
            "2019-11-02 15:59:27,463 : INFO : EPOCH 22 - PROGRESS: at 54.24% examples, 354743 words/s, in_qsize 15, out_qsize 0\n",
            "2019-11-02 15:59:28,479 : INFO : EPOCH 22 - PROGRESS: at 58.69% examples, 355108 words/s, in_qsize 15, out_qsize 0\n",
            "2019-11-02 15:59:29,489 : INFO : EPOCH 22 - PROGRESS: at 63.11% examples, 355582 words/s, in_qsize 15, out_qsize 1\n",
            "2019-11-02 15:59:30,526 : INFO : EPOCH 22 - PROGRESS: at 67.66% examples, 355903 words/s, in_qsize 16, out_qsize 1\n",
            "2019-11-02 15:59:31,549 : INFO : EPOCH 22 - PROGRESS: at 71.88% examples, 354893 words/s, in_qsize 16, out_qsize 1\n",
            "2019-11-02 15:59:32,584 : INFO : EPOCH 22 - PROGRESS: at 76.55% examples, 355767 words/s, in_qsize 14, out_qsize 1\n",
            "2019-11-02 15:59:33,585 : INFO : EPOCH 22 - PROGRESS: at 81.12% examples, 356735 words/s, in_qsize 16, out_qsize 0\n",
            "2019-11-02 15:59:34,610 : INFO : EPOCH 22 - PROGRESS: at 85.55% examples, 356705 words/s, in_qsize 16, out_qsize 1\n",
            "2019-11-02 15:59:35,616 : INFO : EPOCH 22 - PROGRESS: at 90.00% examples, 357020 words/s, in_qsize 15, out_qsize 0\n",
            "2019-11-02 15:59:36,632 : INFO : EPOCH 22 - PROGRESS: at 94.47% examples, 357101 words/s, in_qsize 16, out_qsize 0\n",
            "2019-11-02 15:59:37,643 : INFO : EPOCH 22 - PROGRESS: at 99.33% examples, 358849 words/s, in_qsize 7, out_qsize 1\n",
            "2019-11-02 15:59:37,655 : INFO : worker thread finished; awaiting finish of 7 more threads\n",
            "2019-11-02 15:59:37,691 : INFO : worker thread finished; awaiting finish of 6 more threads\n",
            "2019-11-02 15:59:37,760 : INFO : worker thread finished; awaiting finish of 5 more threads\n",
            "2019-11-02 15:59:37,769 : INFO : worker thread finished; awaiting finish of 4 more threads\n",
            "2019-11-02 15:59:37,780 : INFO : worker thread finished; awaiting finish of 3 more threads\n",
            "2019-11-02 15:59:37,789 : INFO : worker thread finished; awaiting finish of 2 more threads\n",
            "2019-11-02 15:59:37,790 : INFO : worker thread finished; awaiting finish of 1 more threads\n",
            "2019-11-02 15:59:37,794 : INFO : worker thread finished; awaiting finish of 0 more threads\n",
            "2019-11-02 15:59:37,796 : INFO : EPOCH - 22 : training on 9227204 raw words (8222912 effective words) took 22.9s, 358833 effective words/s\n",
            "2019-11-02 15:59:38,889 : INFO : EPOCH 23 - PROGRESS: at 4.13% examples, 313618 words/s, in_qsize 15, out_qsize 0\n",
            "2019-11-02 15:59:39,902 : INFO : EPOCH 23 - PROGRESS: at 8.58% examples, 336432 words/s, in_qsize 16, out_qsize 0\n",
            "2019-11-02 15:59:40,919 : INFO : EPOCH 23 - PROGRESS: at 13.04% examples, 343940 words/s, in_qsize 15, out_qsize 0\n",
            "2019-11-02 15:59:41,965 : INFO : EPOCH 23 - PROGRESS: at 17.46% examples, 345245 words/s, in_qsize 15, out_qsize 0\n",
            "2019-11-02 15:59:43,011 : INFO : EPOCH 23 - PROGRESS: at 21.90% examples, 346064 words/s, in_qsize 15, out_qsize 0\n",
            "2019-11-02 15:59:44,051 : INFO : EPOCH 23 - PROGRESS: at 26.34% examples, 346883 words/s, in_qsize 14, out_qsize 1\n",
            "2019-11-02 15:59:45,081 : INFO : EPOCH 23 - PROGRESS: at 31.32% examples, 354148 words/s, in_qsize 15, out_qsize 0\n",
            "2019-11-02 15:59:46,085 : INFO : EPOCH 23 - PROGRESS: at 35.32% examples, 351008 words/s, in_qsize 15, out_qsize 0\n",
            "2019-11-02 15:59:47,136 : INFO : EPOCH 23 - PROGRESS: at 39.65% examples, 349634 words/s, in_qsize 13, out_qsize 4\n",
            "2019-11-02 15:59:48,191 : INFO : EPOCH 23 - PROGRESS: at 44.40% examples, 351854 words/s, in_qsize 15, out_qsize 0\n",
            "2019-11-02 15:59:49,239 : INFO : EPOCH 23 - PROGRESS: at 48.73% examples, 350769 words/s, in_qsize 16, out_qsize 1\n",
            "2019-11-02 15:59:50,375 : INFO : EPOCH 23 - PROGRESS: at 53.81% examples, 352383 words/s, in_qsize 16, out_qsize 2\n",
            "2019-11-02 15:59:51,457 : INFO : EPOCH 23 - PROGRESS: at 58.47% examples, 352558 words/s, in_qsize 14, out_qsize 1\n",
            "2019-11-02 15:59:52,458 : INFO : EPOCH 23 - PROGRESS: at 62.79% examples, 352784 words/s, in_qsize 15, out_qsize 0\n",
            "2019-11-02 15:59:53,584 : INFO : EPOCH 23 - PROGRESS: at 67.45% examples, 351963 words/s, in_qsize 15, out_qsize 2\n",
            "2019-11-02 15:59:54,626 : INFO : EPOCH 23 - PROGRESS: at 72.53% examples, 354977 words/s, in_qsize 15, out_qsize 0\n",
            "2019-11-02 15:59:55,640 : INFO : EPOCH 23 - PROGRESS: at 76.77% examples, 354264 words/s, in_qsize 15, out_qsize 0\n",
            "2019-11-02 15:59:56,694 : INFO : EPOCH 23 - PROGRESS: at 81.01% examples, 352872 words/s, in_qsize 16, out_qsize 1\n",
            "2019-11-02 15:59:57,737 : INFO : EPOCH 23 - PROGRESS: at 85.56% examples, 353174 words/s, in_qsize 15, out_qsize 0\n",
            "2019-11-02 15:59:58,798 : INFO : EPOCH 23 - PROGRESS: at 90.33% examples, 354005 words/s, in_qsize 15, out_qsize 0\n",
            "2019-11-02 15:59:59,849 : INFO : EPOCH 23 - PROGRESS: at 95.34% examples, 355684 words/s, in_qsize 15, out_qsize 1\n",
            "2019-11-02 16:00:00,772 : INFO : worker thread finished; awaiting finish of 7 more threads\n",
            "2019-11-02 16:00:00,802 : INFO : worker thread finished; awaiting finish of 6 more threads\n",
            "2019-11-02 16:00:00,817 : INFO : worker thread finished; awaiting finish of 5 more threads\n",
            "2019-11-02 16:00:00,822 : INFO : worker thread finished; awaiting finish of 4 more threads\n",
            "2019-11-02 16:00:00,837 : INFO : worker thread finished; awaiting finish of 3 more threads\n",
            "2019-11-02 16:00:00,862 : INFO : EPOCH 23 - PROGRESS: at 99.78% examples, 355955 words/s, in_qsize 2, out_qsize 1\n",
            "2019-11-02 16:00:00,866 : INFO : worker thread finished; awaiting finish of 2 more threads\n",
            "2019-11-02 16:00:00,874 : INFO : worker thread finished; awaiting finish of 1 more threads\n",
            "2019-11-02 16:00:00,877 : INFO : worker thread finished; awaiting finish of 0 more threads\n",
            "2019-11-02 16:00:00,879 : INFO : EPOCH - 23 : training on 9227204 raw words (8223095 effective words) took 23.1s, 356451 effective words/s\n",
            "2019-11-02 16:00:01,943 : INFO : EPOCH 24 - PROGRESS: at 3.80% examples, 296487 words/s, in_qsize 15, out_qsize 0\n",
            "2019-11-02 16:00:02,949 : INFO : EPOCH 24 - PROGRESS: at 8.58% examples, 342137 words/s, in_qsize 15, out_qsize 0\n",
            "2019-11-02 16:00:04,009 : INFO : EPOCH 24 - PROGRESS: at 12.71% examples, 334426 words/s, in_qsize 13, out_qsize 2\n",
            "2019-11-02 16:00:05,012 : INFO : EPOCH 24 - PROGRESS: at 17.46% examples, 348016 words/s, in_qsize 15, out_qsize 0\n",
            "2019-11-02 16:00:06,073 : INFO : EPOCH 24 - PROGRESS: at 21.57% examples, 342094 words/s, in_qsize 13, out_qsize 2\n",
            "2019-11-02 16:00:07,104 : INFO : EPOCH 24 - PROGRESS: at 26.34% examples, 348466 words/s, in_qsize 15, out_qsize 0\n",
            "2019-11-02 16:00:08,107 : INFO : EPOCH 24 - PROGRESS: at 30.56% examples, 348235 words/s, in_qsize 15, out_qsize 0\n",
            "2019-11-02 16:00:09,144 : INFO : EPOCH 24 - PROGRESS: at 34.89% examples, 347642 words/s, in_qsize 13, out_qsize 2\n",
            "2019-11-02 16:00:10,167 : INFO : EPOCH 24 - PROGRESS: at 39.54% examples, 351426 words/s, in_qsize 15, out_qsize 0\n",
            "2019-11-02 16:00:11,255 : INFO : EPOCH 24 - PROGRESS: at 43.86% examples, 348177 words/s, in_qsize 16, out_qsize 1\n",
            "2019-11-02 16:00:12,266 : INFO : EPOCH 24 - PROGRESS: at 48.84% examples, 353287 words/s, in_qsize 14, out_qsize 0\n",
            "2019-11-02 16:00:13,289 : INFO : EPOCH 24 - PROGRESS: at 52.84% examples, 350719 words/s, in_qsize 15, out_qsize 0\n",
            "2019-11-02 16:00:14,303 : INFO : EPOCH 24 - PROGRESS: at 57.49% examples, 352771 words/s, in_qsize 15, out_qsize 0\n",
            "2019-11-02 16:00:15,339 : INFO : EPOCH 24 - PROGRESS: at 61.71% examples, 352122 words/s, in_qsize 15, out_qsize 1\n",
            "2019-11-02 16:00:16,323 : INFO : EPOCH 24 - PROGRESS: at 66.04% examples, 352198 words/s, in_qsize 14, out_qsize 1\n",
            "2019-11-02 16:00:17,391 : INFO : EPOCH 24 - PROGRESS: at 70.70% examples, 352613 words/s, in_qsize 14, out_qsize 1\n",
            "2019-11-02 16:00:18,427 : INFO : EPOCH 24 - PROGRESS: at 75.24% examples, 353111 words/s, in_qsize 15, out_qsize 0\n",
            "2019-11-02 16:00:19,457 : INFO : EPOCH 24 - PROGRESS: at 79.71% examples, 353321 words/s, in_qsize 15, out_qsize 2\n",
            "2019-11-02 16:00:20,451 : INFO : EPOCH 24 - PROGRESS: at 84.58% examples, 355727 words/s, in_qsize 15, out_qsize 0\n",
            "2019-11-02 16:00:21,507 : INFO : EPOCH 24 - PROGRESS: at 89.02% examples, 355224 words/s, in_qsize 15, out_qsize 0\n",
            "2019-11-02 16:00:22,517 : INFO : EPOCH 24 - PROGRESS: at 93.59% examples, 355921 words/s, in_qsize 15, out_qsize 0\n",
            "2019-11-02 16:00:23,524 : INFO : EPOCH 24 - PROGRESS: at 97.93% examples, 355802 words/s, in_qsize 16, out_qsize 0\n",
            "2019-11-02 16:00:23,803 : INFO : worker thread finished; awaiting finish of 7 more threads\n",
            "2019-11-02 16:00:23,815 : INFO : worker thread finished; awaiting finish of 6 more threads\n",
            "2019-11-02 16:00:23,824 : INFO : worker thread finished; awaiting finish of 5 more threads\n",
            "2019-11-02 16:00:23,842 : INFO : worker thread finished; awaiting finish of 4 more threads\n",
            "2019-11-02 16:00:23,861 : INFO : worker thread finished; awaiting finish of 3 more threads\n",
            "2019-11-02 16:00:23,881 : INFO : worker thread finished; awaiting finish of 2 more threads\n",
            "2019-11-02 16:00:23,897 : INFO : worker thread finished; awaiting finish of 1 more threads\n",
            "2019-11-02 16:00:23,899 : INFO : worker thread finished; awaiting finish of 0 more threads\n",
            "2019-11-02 16:00:23,900 : INFO : EPOCH - 24 : training on 9227204 raw words (8223089 effective words) took 23.0s, 357400 effective words/s\n",
            "2019-11-02 16:00:24,924 : INFO : EPOCH 25 - PROGRESS: at 3.91% examples, 317705 words/s, in_qsize 13, out_qsize 1\n",
            "2019-11-02 16:00:25,935 : INFO : EPOCH 25 - PROGRESS: at 8.36% examples, 339576 words/s, in_qsize 15, out_qsize 0\n",
            "2019-11-02 16:00:26,963 : INFO : EPOCH 25 - PROGRESS: at 12.71% examples, 342026 words/s, in_qsize 16, out_qsize 0\n",
            "2019-11-02 16:00:27,996 : INFO : EPOCH 25 - PROGRESS: at 17.24% examples, 347061 words/s, in_qsize 15, out_qsize 1\n",
            "2019-11-02 16:00:29,026 : INFO : EPOCH 25 - PROGRESS: at 21.68% examples, 348581 words/s, in_qsize 14, out_qsize 1\n",
            "2019-11-02 16:00:30,028 : INFO : EPOCH 25 - PROGRESS: at 26.34% examples, 354181 words/s, in_qsize 15, out_qsize 0\n",
            "2019-11-02 16:00:31,031 : INFO : EPOCH 25 - PROGRESS: at 30.78% examples, 355633 words/s, in_qsize 14, out_qsize 1\n",
            "2019-11-02 16:00:32,033 : INFO : EPOCH 25 - PROGRESS: at 34.78% examples, 352328 words/s, in_qsize 14, out_qsize 4\n",
            "2019-11-02 16:00:33,037 : INFO : EPOCH 25 - PROGRESS: at 39.43% examples, 355567 words/s, in_qsize 13, out_qsize 2\n",
            "2019-11-02 16:00:34,071 : INFO : EPOCH 25 - PROGRESS: at 44.07% examples, 357061 words/s, in_qsize 16, out_qsize 0\n",
            "2019-11-02 16:00:35,086 : INFO : EPOCH 25 - PROGRESS: at 48.30% examples, 355719 words/s, in_qsize 14, out_qsize 1\n",
            "2019-11-02 16:00:36,112 : INFO : EPOCH 25 - PROGRESS: at 52.51% examples, 354307 words/s, in_qsize 15, out_qsize 2\n",
            "2019-11-02 16:00:37,132 : INFO : EPOCH 25 - PROGRESS: at 56.95% examples, 354605 words/s, in_qsize 15, out_qsize 0\n",
            "2019-11-02 16:00:38,152 : INFO : EPOCH 25 - PROGRESS: at 61.71% examples, 356737 words/s, in_qsize 16, out_qsize 0\n",
            "2019-11-02 16:00:39,263 : INFO : EPOCH 25 - PROGRESS: at 66.48% examples, 356428 words/s, in_qsize 15, out_qsize 0\n",
            "2019-11-02 16:00:40,331 : INFO : EPOCH 25 - PROGRESS: at 71.02% examples, 356043 words/s, in_qsize 15, out_qsize 3\n",
            "2019-11-02 16:00:41,353 : INFO : EPOCH 25 - PROGRESS: at 75.57% examples, 356619 words/s, in_qsize 14, out_qsize 1\n",
            "2019-11-02 16:00:42,355 : INFO : EPOCH 25 - PROGRESS: at 80.14% examples, 357513 words/s, in_qsize 15, out_qsize 0\n",
            "2019-11-02 16:00:43,384 : INFO : EPOCH 25 - PROGRESS: at 84.69% examples, 357836 words/s, in_qsize 15, out_qsize 0\n",
            "2019-11-02 16:00:44,420 : INFO : EPOCH 25 - PROGRESS: at 89.13% examples, 357557 words/s, in_qsize 15, out_qsize 0\n",
            "2019-11-02 16:00:45,478 : INFO : EPOCH 25 - PROGRESS: at 93.92% examples, 358167 words/s, in_qsize 15, out_qsize 0\n",
            "2019-11-02 16:00:46,509 : INFO : EPOCH 25 - PROGRESS: at 98.26% examples, 357592 words/s, in_qsize 14, out_qsize 1\n",
            "2019-11-02 16:00:46,694 : INFO : worker thread finished; awaiting finish of 7 more threads\n",
            "2019-11-02 16:00:46,701 : INFO : worker thread finished; awaiting finish of 6 more threads\n",
            "2019-11-02 16:00:46,706 : INFO : worker thread finished; awaiting finish of 5 more threads\n",
            "2019-11-02 16:00:46,730 : INFO : worker thread finished; awaiting finish of 4 more threads\n",
            "2019-11-02 16:00:46,748 : INFO : worker thread finished; awaiting finish of 3 more threads\n",
            "2019-11-02 16:00:46,752 : INFO : worker thread finished; awaiting finish of 2 more threads\n",
            "2019-11-02 16:00:46,756 : INFO : worker thread finished; awaiting finish of 1 more threads\n",
            "2019-11-02 16:00:46,772 : INFO : worker thread finished; awaiting finish of 0 more threads\n",
            "2019-11-02 16:00:46,773 : INFO : EPOCH - 25 : training on 9227204 raw words (8222961 effective words) took 22.9s, 359743 effective words/s\n",
            "2019-11-02 16:00:47,807 : INFO : EPOCH 26 - PROGRESS: at 4.23% examples, 341090 words/s, in_qsize 15, out_qsize 0\n",
            "2019-11-02 16:00:48,814 : INFO : EPOCH 26 - PROGRESS: at 8.47% examples, 343086 words/s, in_qsize 15, out_qsize 0\n",
            "2019-11-02 16:00:49,815 : INFO : EPOCH 26 - PROGRESS: at 12.93% examples, 350300 words/s, in_qsize 15, out_qsize 0\n",
            "2019-11-02 16:00:50,855 : INFO : EPOCH 26 - PROGRESS: at 17.46% examples, 352585 words/s, in_qsize 14, out_qsize 1\n",
            "2019-11-02 16:00:51,886 : INFO : EPOCH 26 - PROGRESS: at 21.90% examples, 352999 words/s, in_qsize 16, out_qsize 1\n",
            "2019-11-02 16:00:52,903 : INFO : EPOCH 26 - PROGRESS: at 26.23% examples, 352599 words/s, in_qsize 16, out_qsize 2\n",
            "2019-11-02 16:00:53,953 : INFO : EPOCH 26 - PROGRESS: at 30.99% examples, 355659 words/s, in_qsize 16, out_qsize 1\n",
            "2019-11-02 16:00:54,963 : INFO : EPOCH 26 - PROGRESS: at 35.54% examples, 357435 words/s, in_qsize 15, out_qsize 0\n",
            "2019-11-02 16:00:55,986 : INFO : EPOCH 26 - PROGRESS: at 39.76% examples, 355475 words/s, in_qsize 14, out_qsize 1\n",
            "2019-11-02 16:00:57,044 : INFO : EPOCH 26 - PROGRESS: at 44.08% examples, 353538 words/s, in_qsize 11, out_qsize 7\n",
            "2019-11-02 16:00:58,058 : INFO : EPOCH 26 - PROGRESS: at 48.84% examples, 356528 words/s, in_qsize 15, out_qsize 0\n",
            "2019-11-02 16:00:59,151 : INFO : EPOCH 26 - PROGRESS: at 53.81% examples, 358540 words/s, in_qsize 15, out_qsize 1\n",
            "2019-11-02 16:01:00,147 : INFO : EPOCH 26 - PROGRESS: at 58.25% examples, 358840 words/s, in_qsize 15, out_qsize 0\n",
            "2019-11-02 16:01:01,162 : INFO : EPOCH 26 - PROGRESS: at 62.79% examples, 359509 words/s, in_qsize 15, out_qsize 0\n",
            "2019-11-02 16:01:02,238 : INFO : EPOCH 26 - PROGRESS: at 67.34% examples, 358692 words/s, in_qsize 14, out_qsize 1\n",
            "2019-11-02 16:01:03,302 : INFO : EPOCH 26 - PROGRESS: at 72.10% examples, 359299 words/s, in_qsize 15, out_qsize 0\n",
            "2019-11-02 16:01:04,308 : INFO : EPOCH 26 - PROGRESS: at 76.44% examples, 358982 words/s, in_qsize 15, out_qsize 0\n",
            "2019-11-02 16:01:05,394 : INFO : EPOCH 26 - PROGRESS: at 81.34% examples, 359582 words/s, in_qsize 16, out_qsize 0\n",
            "2019-11-02 16:01:06,407 : INFO : EPOCH 26 - PROGRESS: at 85.66% examples, 359176 words/s, in_qsize 15, out_qsize 0\n",
            "2019-11-02 16:01:07,417 : INFO : EPOCH 26 - PROGRESS: at 90.11% examples, 359302 words/s, in_qsize 15, out_qsize 0\n",
            "2019-11-02 16:01:08,439 : INFO : EPOCH 26 - PROGRESS: at 94.58% examples, 359186 words/s, in_qsize 15, out_qsize 0\n",
            "2019-11-02 16:01:09,509 : INFO : EPOCH 26 - PROGRESS: at 99.12% examples, 358746 words/s, in_qsize 8, out_qsize 1\n",
            "2019-11-02 16:01:09,523 : INFO : worker thread finished; awaiting finish of 7 more threads\n",
            "2019-11-02 16:01:09,525 : INFO : worker thread finished; awaiting finish of 6 more threads\n",
            "2019-11-02 16:01:09,563 : INFO : worker thread finished; awaiting finish of 5 more threads\n",
            "2019-11-02 16:01:09,590 : INFO : worker thread finished; awaiting finish of 4 more threads\n",
            "2019-11-02 16:01:09,593 : INFO : worker thread finished; awaiting finish of 3 more threads\n",
            "2019-11-02 16:01:09,595 : INFO : worker thread finished; awaiting finish of 2 more threads\n",
            "2019-11-02 16:01:09,598 : INFO : worker thread finished; awaiting finish of 1 more threads\n",
            "2019-11-02 16:01:09,600 : INFO : worker thread finished; awaiting finish of 0 more threads\n",
            "2019-11-02 16:01:09,602 : INFO : EPOCH - 26 : training on 9227204 raw words (8223097 effective words) took 22.8s, 360452 effective words/s\n",
            "2019-11-02 16:01:10,629 : INFO : EPOCH 27 - PROGRESS: at 4.12% examples, 335119 words/s, in_qsize 15, out_qsize 0\n",
            "2019-11-02 16:01:11,690 : INFO : EPOCH 27 - PROGRESS: at 8.69% examples, 344206 words/s, in_qsize 15, out_qsize 0\n",
            "2019-11-02 16:01:12,693 : INFO : EPOCH 27 - PROGRESS: at 13.14% examples, 350628 words/s, in_qsize 14, out_qsize 1\n",
            "2019-11-02 16:01:13,721 : INFO : EPOCH 27 - PROGRESS: at 17.68% examples, 353922 words/s, in_qsize 14, out_qsize 1\n",
            "2019-11-02 16:01:14,765 : INFO : EPOCH 27 - PROGRESS: at 22.11% examples, 353128 words/s, in_qsize 15, out_qsize 0\n",
            "2019-11-02 16:01:15,784 : INFO : EPOCH 27 - PROGRESS: at 26.45% examples, 352572 words/s, in_qsize 16, out_qsize 0\n",
            "2019-11-02 16:01:16,794 : INFO : EPOCH 27 - PROGRESS: at 30.78% examples, 352625 words/s, in_qsize 15, out_qsize 0\n",
            "2019-11-02 16:01:17,829 : INFO : EPOCH 27 - PROGRESS: at 35.32% examples, 353710 words/s, in_qsize 15, out_qsize 0\n",
            "2019-11-02 16:01:18,865 : INFO : EPOCH 27 - PROGRESS: at 39.76% examples, 353581 words/s, in_qsize 16, out_qsize 0\n",
            "2019-11-02 16:01:19,867 : INFO : EPOCH 27 - PROGRESS: at 44.29% examples, 355514 words/s, in_qsize 15, out_qsize 0\n",
            "2019-11-02 16:01:20,890 : INFO : EPOCH 27 - PROGRESS: at 48.73% examples, 355688 words/s, in_qsize 14, out_qsize 1\n",
            "2019-11-02 16:01:21,930 : INFO : EPOCH 27 - PROGRESS: at 53.27% examples, 356039 words/s, in_qsize 15, out_qsize 0\n",
            "2019-11-02 16:01:22,971 : INFO : EPOCH 27 - PROGRESS: at 58.25% examples, 358975 words/s, in_qsize 15, out_qsize 0\n",
            "2019-11-02 16:01:23,992 : INFO : EPOCH 27 - PROGRESS: at 62.68% examples, 358906 words/s, in_qsize 15, out_qsize 0\n",
            "2019-11-02 16:01:25,050 : INFO : EPOCH 27 - PROGRESS: at 67.12% examples, 357962 words/s, in_qsize 15, out_qsize 0\n",
            "2019-11-02 16:01:26,054 : INFO : EPOCH 27 - PROGRESS: at 71.99% examples, 360491 words/s, in_qsize 15, out_qsize 0\n",
            "2019-11-02 16:01:27,120 : INFO : EPOCH 27 - PROGRESS: at 76.44% examples, 359370 words/s, in_qsize 15, out_qsize 0\n",
            "2019-11-02 16:01:28,137 : INFO : EPOCH 27 - PROGRESS: at 80.79% examples, 358897 words/s, in_qsize 15, out_qsize 1\n",
            "2019-11-02 16:01:29,240 : INFO : EPOCH 27 - PROGRESS: at 85.34% examples, 357778 words/s, in_qsize 14, out_qsize 1\n",
            "2019-11-02 16:01:30,253 : INFO : EPOCH 27 - PROGRESS: at 89.67% examples, 357474 words/s, in_qsize 11, out_qsize 4\n",
            "2019-11-02 16:01:31,339 : INFO : EPOCH 27 - PROGRESS: at 94.58% examples, 358051 words/s, in_qsize 15, out_qsize 0\n",
            "2019-11-02 16:01:32,279 : INFO : worker thread finished; awaiting finish of 7 more threads\n",
            "2019-11-02 16:01:32,295 : INFO : worker thread finished; awaiting finish of 6 more threads\n",
            "2019-11-02 16:01:32,371 : INFO : EPOCH 27 - PROGRESS: at 99.45% examples, 359465 words/s, in_qsize 4, out_qsize 3\n",
            "2019-11-02 16:01:32,373 : INFO : worker thread finished; awaiting finish of 5 more threads\n",
            "2019-11-02 16:01:32,383 : INFO : worker thread finished; awaiting finish of 4 more threads\n",
            "2019-11-02 16:01:32,385 : INFO : worker thread finished; awaiting finish of 3 more threads\n",
            "2019-11-02 16:01:32,387 : INFO : worker thread finished; awaiting finish of 2 more threads\n",
            "2019-11-02 16:01:32,388 : INFO : worker thread finished; awaiting finish of 1 more threads\n",
            "2019-11-02 16:01:32,391 : INFO : worker thread finished; awaiting finish of 0 more threads\n",
            "2019-11-02 16:01:32,395 : INFO : EPOCH - 27 : training on 9227204 raw words (8223291 effective words) took 22.8s, 361051 effective words/s\n",
            "2019-11-02 16:01:33,462 : INFO : EPOCH 28 - PROGRESS: at 4.13% examples, 321268 words/s, in_qsize 15, out_qsize 0\n",
            "2019-11-02 16:01:34,466 : INFO : EPOCH 28 - PROGRESS: at 8.47% examples, 337845 words/s, in_qsize 14, out_qsize 1\n",
            "2019-11-02 16:01:35,482 : INFO : EPOCH 28 - PROGRESS: at 13.36% examples, 356470 words/s, in_qsize 16, out_qsize 0\n",
            "2019-11-02 16:01:36,488 : INFO : EPOCH 28 - PROGRESS: at 17.79% examples, 358037 words/s, in_qsize 15, out_qsize 0\n",
            "2019-11-02 16:01:37,590 : INFO : EPOCH 28 - PROGRESS: at 22.11% examples, 350703 words/s, in_qsize 16, out_qsize 1\n",
            "2019-11-02 16:01:38,627 : INFO : EPOCH 28 - PROGRESS: at 26.77% examples, 353822 words/s, in_qsize 15, out_qsize 0\n",
            "2019-11-02 16:01:39,642 : INFO : EPOCH 28 - PROGRESS: at 30.99% examples, 352212 words/s, in_qsize 14, out_qsize 1\n",
            "2019-11-02 16:01:40,669 : INFO : EPOCH 28 - PROGRESS: at 35.64% examples, 354827 words/s, in_qsize 15, out_qsize 0\n",
            "2019-11-02 16:01:41,675 : INFO : EPOCH 28 - PROGRESS: at 40.08% examples, 355698 words/s, in_qsize 16, out_qsize 0\n",
            "2019-11-02 16:01:42,713 : INFO : EPOCH 28 - PROGRESS: at 44.51% examples, 355285 words/s, in_qsize 15, out_qsize 0\n",
            "2019-11-02 16:01:43,754 : INFO : EPOCH 28 - PROGRESS: at 49.05% examples, 355701 words/s, in_qsize 15, out_qsize 1\n",
            "2019-11-02 16:01:44,770 : INFO : EPOCH 28 - PROGRESS: at 53.49% examples, 356029 words/s, in_qsize 15, out_qsize 0\n",
            "2019-11-02 16:01:45,773 : INFO : EPOCH 28 - PROGRESS: at 58.04% examples, 357304 words/s, in_qsize 16, out_qsize 1\n",
            "2019-11-02 16:01:46,925 : INFO : EPOCH 28 - PROGRESS: at 62.90% examples, 357245 words/s, in_qsize 13, out_qsize 3\n",
            "2019-11-02 16:01:47,989 : INFO : EPOCH 28 - PROGRESS: at 67.55% examples, 356778 words/s, in_qsize 10, out_qsize 5\n",
            "2019-11-02 16:01:49,013 : INFO : EPOCH 28 - PROGRESS: at 72.21% examples, 357871 words/s, in_qsize 11, out_qsize 4\n",
            "2019-11-02 16:01:50,016 : INFO : EPOCH 28 - PROGRESS: at 76.88% examples, 359208 words/s, in_qsize 16, out_qsize 0\n",
            "2019-11-02 16:01:51,070 : INFO : EPOCH 28 - PROGRESS: at 81.34% examples, 358512 words/s, in_qsize 15, out_qsize 0\n",
            "2019-11-02 16:01:52,172 : INFO : EPOCH 28 - PROGRESS: at 86.21% examples, 358785 words/s, in_qsize 15, out_qsize 0\n",
            "2019-11-02 16:01:53,204 : INFO : EPOCH 28 - PROGRESS: at 90.87% examples, 359389 words/s, in_qsize 15, out_qsize 0\n",
            "2019-11-02 16:01:54,236 : INFO : EPOCH 28 - PROGRESS: at 95.45% examples, 359528 words/s, in_qsize 15, out_qsize 0\n",
            "2019-11-02 16:01:55,076 : INFO : worker thread finished; awaiting finish of 7 more threads\n",
            "2019-11-02 16:01:55,085 : INFO : worker thread finished; awaiting finish of 6 more threads\n",
            "2019-11-02 16:01:55,114 : INFO : worker thread finished; awaiting finish of 5 more threads\n",
            "2019-11-02 16:01:55,129 : INFO : worker thread finished; awaiting finish of 4 more threads\n",
            "2019-11-02 16:01:55,141 : INFO : worker thread finished; awaiting finish of 3 more threads\n",
            "2019-11-02 16:01:55,151 : INFO : worker thread finished; awaiting finish of 2 more threads\n",
            "2019-11-02 16:01:55,163 : INFO : worker thread finished; awaiting finish of 1 more threads\n",
            "2019-11-02 16:01:55,169 : INFO : worker thread finished; awaiting finish of 0 more threads\n",
            "2019-11-02 16:01:55,169 : INFO : EPOCH - 28 : training on 9227204 raw words (8222874 effective words) took 22.8s, 361272 effective words/s\n",
            "2019-11-02 16:01:56,189 : INFO : EPOCH 29 - PROGRESS: at 4.13% examples, 336311 words/s, in_qsize 16, out_qsize 0\n",
            "2019-11-02 16:01:57,273 : INFO : EPOCH 29 - PROGRESS: at 8.80% examples, 345242 words/s, in_qsize 16, out_qsize 0\n",
            "2019-11-02 16:01:58,295 : INFO : EPOCH 29 - PROGRESS: at 13.14% examples, 346490 words/s, in_qsize 15, out_qsize 0\n",
            "2019-11-02 16:01:59,315 : INFO : EPOCH 29 - PROGRESS: at 17.89% examples, 355624 words/s, in_qsize 14, out_qsize 0\n",
            "2019-11-02 16:02:00,315 : INFO : EPOCH 29 - PROGRESS: at 21.68% examples, 347110 words/s, in_qsize 15, out_qsize 0\n",
            "2019-11-02 16:02:01,394 : INFO : EPOCH 29 - PROGRESS: at 26.45% examples, 349955 words/s, in_qsize 15, out_qsize 0\n",
            "2019-11-02 16:02:02,420 : INFO : EPOCH 29 - PROGRESS: at 30.78% examples, 349604 words/s, in_qsize 11, out_qsize 4\n",
            "2019-11-02 16:02:03,423 : INFO : EPOCH 29 - PROGRESS: at 35.42% examples, 353558 words/s, in_qsize 15, out_qsize 0\n",
            "2019-11-02 16:02:04,523 : INFO : EPOCH 29 - PROGRESS: at 39.97% examples, 351912 words/s, in_qsize 15, out_qsize 0\n",
            "2019-11-02 16:02:05,597 : INFO : EPOCH 29 - PROGRESS: at 44.51% examples, 351498 words/s, in_qsize 16, out_qsize 1\n",
            "2019-11-02 16:02:06,617 : INFO : EPOCH 29 - PROGRESS: at 49.06% examples, 353171 words/s, in_qsize 15, out_qsize 0\n",
            "2019-11-02 16:02:07,618 : INFO : EPOCH 29 - PROGRESS: at 53.38% examples, 353143 words/s, in_qsize 16, out_qsize 0\n",
            "2019-11-02 16:02:08,631 : INFO : EPOCH 29 - PROGRESS: at 57.59% examples, 352397 words/s, in_qsize 14, out_qsize 1\n",
            "2019-11-02 16:02:09,632 : INFO : EPOCH 29 - PROGRESS: at 61.93% examples, 352614 words/s, in_qsize 14, out_qsize 1\n",
            "2019-11-02 16:02:10,638 : INFO : EPOCH 29 - PROGRESS: at 66.25% examples, 352742 words/s, in_qsize 16, out_qsize 0\n",
            "2019-11-02 16:02:11,665 : INFO : EPOCH 29 - PROGRESS: at 70.69% examples, 352906 words/s, in_qsize 15, out_qsize 0\n",
            "2019-11-02 16:02:12,700 : INFO : EPOCH 29 - PROGRESS: at 75.46% examples, 354431 words/s, in_qsize 15, out_qsize 0\n",
            "2019-11-02 16:02:13,724 : INFO : EPOCH 29 - PROGRESS: at 79.49% examples, 352619 words/s, in_qsize 15, out_qsize 4\n",
            "2019-11-02 16:02:14,760 : INFO : EPOCH 29 - PROGRESS: at 84.37% examples, 354436 words/s, in_qsize 14, out_qsize 1\n",
            "2019-11-02 16:02:15,892 : INFO : EPOCH 29 - PROGRESS: at 89.02% examples, 353539 words/s, in_qsize 15, out_qsize 0\n",
            "2019-11-02 16:02:16,960 : INFO : EPOCH 29 - PROGRESS: at 93.70% examples, 353775 words/s, in_qsize 15, out_qsize 0\n",
            "2019-11-02 16:02:17,987 : INFO : EPOCH 29 - PROGRESS: at 98.14% examples, 353850 words/s, in_qsize 15, out_qsize 0\n",
            "2019-11-02 16:02:18,199 : INFO : worker thread finished; awaiting finish of 7 more threads\n",
            "2019-11-02 16:02:18,203 : INFO : worker thread finished; awaiting finish of 6 more threads\n",
            "2019-11-02 16:02:18,208 : INFO : worker thread finished; awaiting finish of 5 more threads\n",
            "2019-11-02 16:02:18,228 : INFO : worker thread finished; awaiting finish of 4 more threads\n",
            "2019-11-02 16:02:18,232 : INFO : worker thread finished; awaiting finish of 3 more threads\n",
            "2019-11-02 16:02:18,233 : INFO : worker thread finished; awaiting finish of 2 more threads\n",
            "2019-11-02 16:02:18,236 : INFO : worker thread finished; awaiting finish of 1 more threads\n",
            "2019-11-02 16:02:18,259 : INFO : worker thread finished; awaiting finish of 0 more threads\n",
            "2019-11-02 16:02:18,260 : INFO : EPOCH - 29 : training on 9227204 raw words (8221424 effective words) took 23.1s, 356273 effective words/s\n",
            "2019-11-02 16:02:19,312 : INFO : EPOCH 30 - PROGRESS: at 3.69% examples, 290913 words/s, in_qsize 16, out_qsize 1\n",
            "2019-11-02 16:02:20,322 : INFO : EPOCH 30 - PROGRESS: at 8.69% examples, 347387 words/s, in_qsize 16, out_qsize 0\n",
            "2019-11-02 16:02:21,394 : INFO : EPOCH 30 - PROGRESS: at 13.04% examples, 342314 words/s, in_qsize 16, out_qsize 0\n",
            "2019-11-02 16:02:22,440 : INFO : EPOCH 30 - PROGRESS: at 17.46% examples, 343827 words/s, in_qsize 15, out_qsize 0\n",
            "2019-11-02 16:02:23,470 : INFO : EPOCH 30 - PROGRESS: at 22.01% examples, 347761 words/s, in_qsize 15, out_qsize 0\n",
            "2019-11-02 16:02:24,537 : INFO : EPOCH 30 - PROGRESS: at 26.56% examples, 348217 words/s, in_qsize 15, out_qsize 0\n",
            "2019-11-02 16:02:25,545 : INFO : EPOCH 30 - PROGRESS: at 31.10% examples, 351419 words/s, in_qsize 14, out_qsize 1\n",
            "2019-11-02 16:02:26,572 : INFO : EPOCH 30 - PROGRESS: at 35.75% examples, 354609 words/s, in_qsize 12, out_qsize 0\n",
            "2019-11-02 16:02:27,611 : INFO : EPOCH 30 - PROGRESS: at 40.08% examples, 352814 words/s, in_qsize 15, out_qsize 0\n",
            "2019-11-02 16:02:28,620 : INFO : EPOCH 30 - PROGRESS: at 44.73% examples, 355409 words/s, in_qsize 12, out_qsize 1\n",
            "2019-11-02 16:02:29,640 : INFO : EPOCH 30 - PROGRESS: at 48.95% examples, 354110 words/s, in_qsize 15, out_qsize 0\n",
            "2019-11-02 16:02:30,662 : INFO : EPOCH 30 - PROGRESS: at 53.48% examples, 355119 words/s, in_qsize 15, out_qsize 1\n",
            "2019-11-02 16:02:31,670 : INFO : EPOCH 30 - PROGRESS: at 57.81% examples, 354982 words/s, in_qsize 16, out_qsize 0\n",
            "2019-11-02 16:02:32,707 : INFO : EPOCH 30 - PROGRESS: at 62.03% examples, 353553 words/s, in_qsize 15, out_qsize 0\n",
            "2019-11-02 16:02:33,723 : INFO : EPOCH 30 - PROGRESS: at 66.91% examples, 356256 words/s, in_qsize 15, out_qsize 0\n",
            "2019-11-02 16:02:34,743 : INFO : EPOCH 30 - PROGRESS: at 71.13% examples, 355296 words/s, in_qsize 16, out_qsize 1\n",
            "2019-11-02 16:02:35,770 : INFO : EPOCH 30 - PROGRESS: at 75.78% examples, 356308 words/s, in_qsize 15, out_qsize 0\n",
            "2019-11-02 16:02:36,856 : INFO : EPOCH 30 - PROGRESS: at 80.25% examples, 355130 words/s, in_qsize 14, out_qsize 1\n",
            "2019-11-02 16:02:37,884 : INFO : EPOCH 30 - PROGRESS: at 84.69% examples, 355154 words/s, in_qsize 15, out_qsize 0\n",
            "2019-11-02 16:02:38,897 : INFO : EPOCH 30 - PROGRESS: at 89.45% examples, 356689 words/s, in_qsize 15, out_qsize 0\n",
            "2019-11-02 16:02:40,002 : INFO : EPOCH 30 - PROGRESS: at 94.03% examples, 355795 words/s, in_qsize 15, out_qsize 1\n",
            "2019-11-02 16:02:41,028 : INFO : EPOCH 30 - PROGRESS: at 98.36% examples, 355354 words/s, in_qsize 15, out_qsize 0\n",
            "2019-11-02 16:02:41,147 : INFO : worker thread finished; awaiting finish of 7 more threads\n",
            "2019-11-02 16:02:41,232 : INFO : worker thread finished; awaiting finish of 6 more threads\n",
            "2019-11-02 16:02:41,239 : INFO : worker thread finished; awaiting finish of 5 more threads\n",
            "2019-11-02 16:02:41,243 : INFO : worker thread finished; awaiting finish of 4 more threads\n",
            "2019-11-02 16:02:41,252 : INFO : worker thread finished; awaiting finish of 3 more threads\n",
            "2019-11-02 16:02:41,259 : INFO : worker thread finished; awaiting finish of 2 more threads\n",
            "2019-11-02 16:02:41,268 : INFO : worker thread finished; awaiting finish of 1 more threads\n",
            "2019-11-02 16:02:41,275 : INFO : worker thread finished; awaiting finish of 0 more threads\n",
            "2019-11-02 16:02:41,276 : INFO : EPOCH - 30 : training on 9227204 raw words (8221785 effective words) took 23.0s, 357383 effective words/s\n",
            "2019-11-02 16:02:42,320 : INFO : EPOCH 31 - PROGRESS: at 3.80% examples, 303066 words/s, in_qsize 15, out_qsize 3\n",
            "2019-11-02 16:02:43,363 : INFO : EPOCH 31 - PROGRESS: at 8.26% examples, 326487 words/s, in_qsize 14, out_qsize 1\n",
            "2019-11-02 16:02:44,476 : INFO : EPOCH 31 - PROGRESS: at 13.15% examples, 338189 words/s, in_qsize 14, out_qsize 2\n",
            "2019-11-02 16:02:45,490 : INFO : EPOCH 31 - PROGRESS: at 17.68% examples, 345584 words/s, in_qsize 16, out_qsize 0\n",
            "2019-11-02 16:02:46,526 : INFO : EPOCH 31 - PROGRESS: at 22.22% examples, 348709 words/s, in_qsize 15, out_qsize 1\n",
            "2019-11-02 16:02:47,541 : INFO : EPOCH 31 - PROGRESS: at 26.78% examples, 351956 words/s, in_qsize 16, out_qsize 0\n",
            "2019-11-02 16:02:48,568 : INFO : EPOCH 31 - PROGRESS: at 31.10% examples, 351226 words/s, in_qsize 15, out_qsize 1\n",
            "2019-11-02 16:02:49,604 : INFO : EPOCH 31 - PROGRESS: at 35.86% examples, 354623 words/s, in_qsize 15, out_qsize 0\n",
            "2019-11-02 16:02:50,618 : INFO : EPOCH 31 - PROGRESS: at 40.40% examples, 356174 words/s, in_qsize 15, out_qsize 0\n",
            "2019-11-02 16:02:51,670 : INFO : EPOCH 31 - PROGRESS: at 44.51% examples, 352670 words/s, in_qsize 15, out_qsize 0\n",
            "2019-11-02 16:02:52,688 : INFO : EPOCH 31 - PROGRESS: at 48.84% examples, 352454 words/s, in_qsize 12, out_qsize 3\n",
            "2019-11-02 16:02:53,721 : INFO : EPOCH 31 - PROGRESS: at 53.59% examples, 354748 words/s, in_qsize 14, out_qsize 0\n",
            "2019-11-02 16:02:54,736 : INFO : EPOCH 31 - PROGRESS: at 57.81% examples, 353803 words/s, in_qsize 15, out_qsize 0\n",
            "2019-11-02 16:02:55,749 : INFO : EPOCH 31 - PROGRESS: at 62.14% examples, 353640 words/s, in_qsize 14, out_qsize 1\n",
            "2019-11-02 16:02:56,858 : INFO : EPOCH 31 - PROGRESS: at 67.13% examples, 354787 words/s, in_qsize 15, out_qsize 0\n",
            "2019-11-02 16:02:57,882 : INFO : EPOCH 31 - PROGRESS: at 71.78% examples, 355973 words/s, in_qsize 15, out_qsize 0\n",
            "2019-11-02 16:02:58,899 : INFO : EPOCH 31 - PROGRESS: at 76.11% examples, 355626 words/s, in_qsize 15, out_qsize 0\n",
            "2019-11-02 16:02:59,950 : INFO : EPOCH 31 - PROGRESS: at 81.01% examples, 357325 words/s, in_qsize 15, out_qsize 0\n",
            "2019-11-02 16:03:00,974 : INFO : EPOCH 31 - PROGRESS: at 85.55% examples, 357908 words/s, in_qsize 15, out_qsize 1\n",
            "2019-11-02 16:03:01,973 : INFO : EPOCH 31 - PROGRESS: at 89.89% examples, 357472 words/s, in_qsize 15, out_qsize 0\n",
            "2019-11-02 16:03:03,000 : INFO : EPOCH 31 - PROGRESS: at 94.36% examples, 357356 words/s, in_qsize 15, out_qsize 0\n",
            "2019-11-02 16:03:04,016 : INFO : EPOCH 31 - PROGRESS: at 99.01% examples, 358236 words/s, in_qsize 10, out_qsize 0\n",
            "2019-11-02 16:03:04,106 : INFO : worker thread finished; awaiting finish of 7 more threads\n",
            "2019-11-02 16:03:04,111 : INFO : worker thread finished; awaiting finish of 6 more threads\n",
            "2019-11-02 16:03:04,112 : INFO : worker thread finished; awaiting finish of 5 more threads\n",
            "2019-11-02 16:03:04,126 : INFO : worker thread finished; awaiting finish of 4 more threads\n",
            "2019-11-02 16:03:04,131 : INFO : worker thread finished; awaiting finish of 3 more threads\n",
            "2019-11-02 16:03:04,150 : INFO : worker thread finished; awaiting finish of 2 more threads\n",
            "2019-11-02 16:03:04,158 : INFO : worker thread finished; awaiting finish of 1 more threads\n",
            "2019-11-02 16:03:04,175 : INFO : worker thread finished; awaiting finish of 0 more threads\n",
            "2019-11-02 16:03:04,176 : INFO : EPOCH - 31 : training on 9227204 raw words (8222880 effective words) took 22.9s, 359289 effective words/s\n",
            "2019-11-02 16:03:05,214 : INFO : EPOCH 32 - PROGRESS: at 3.80% examples, 304816 words/s, in_qsize 16, out_qsize 2\n",
            "2019-11-02 16:03:06,282 : INFO : EPOCH 32 - PROGRESS: at 8.58% examples, 336737 words/s, in_qsize 15, out_qsize 0\n",
            "2019-11-02 16:03:07,332 : INFO : EPOCH 32 - PROGRESS: at 13.04% examples, 340529 words/s, in_qsize 15, out_qsize 0\n",
            "2019-11-02 16:03:08,373 : INFO : EPOCH 32 - PROGRESS: at 17.35% examples, 340840 words/s, in_qsize 16, out_qsize 4\n",
            "2019-11-02 16:03:09,430 : INFO : EPOCH 32 - PROGRESS: at 21.90% examples, 343579 words/s, in_qsize 15, out_qsize 5\n",
            "2019-11-02 16:03:10,471 : INFO : EPOCH 32 - PROGRESS: at 26.56% examples, 347616 words/s, in_qsize 15, out_qsize 0\n",
            "2019-11-02 16:03:11,519 : INFO : EPOCH 32 - PROGRESS: at 31.21% examples, 350197 words/s, in_qsize 13, out_qsize 2\n",
            "2019-11-02 16:03:12,582 : INFO : EPOCH 32 - PROGRESS: at 35.86% examples, 351505 words/s, in_qsize 16, out_qsize 0\n",
            "2019-11-02 16:03:13,588 : INFO : EPOCH 32 - PROGRESS: at 40.40% examples, 353701 words/s, in_qsize 14, out_qsize 1\n",
            "2019-11-02 16:03:14,728 : INFO : EPOCH 32 - PROGRESS: at 45.16% examples, 352608 words/s, in_qsize 15, out_qsize 0\n",
            "2019-11-02 16:03:15,747 : INFO : EPOCH 32 - PROGRESS: at 49.59% examples, 353162 words/s, in_qsize 16, out_qsize 1\n",
            "2019-11-02 16:03:16,771 : INFO : EPOCH 32 - PROGRESS: at 54.03% examples, 353456 words/s, in_qsize 15, out_qsize 0\n",
            "2019-11-02 16:03:17,775 : INFO : EPOCH 32 - PROGRESS: at 58.58% examples, 354910 words/s, in_qsize 15, out_qsize 1\n",
            "2019-11-02 16:03:18,800 : INFO : EPOCH 32 - PROGRESS: at 62.68% examples, 353181 words/s, in_qsize 15, out_qsize 0\n",
            "2019-11-02 16:03:19,815 : INFO : EPOCH 32 - PROGRESS: at 67.02% examples, 353019 words/s, in_qsize 14, out_qsize 1\n",
            "2019-11-02 16:03:20,855 : INFO : EPOCH 32 - PROGRESS: at 71.99% examples, 355579 words/s, in_qsize 16, out_qsize 0\n",
            "2019-11-02 16:03:21,884 : INFO : EPOCH 32 - PROGRESS: at 76.22% examples, 354521 words/s, in_qsize 16, out_qsize 0\n",
            "2019-11-02 16:03:22,895 : INFO : EPOCH 32 - PROGRESS: at 80.57% examples, 354409 words/s, in_qsize 15, out_qsize 0\n",
            "2019-11-02 16:03:23,959 : INFO : EPOCH 32 - PROGRESS: at 85.13% examples, 354516 words/s, in_qsize 15, out_qsize 0\n",
            "2019-11-02 16:03:24,950 : INFO : EPOCH 32 - PROGRESS: at 89.67% examples, 355347 words/s, in_qsize 15, out_qsize 0\n",
            "2019-11-02 16:03:25,960 : INFO : EPOCH 32 - PROGRESS: at 93.92% examples, 354802 words/s, in_qsize 14, out_qsize 1\n",
            "2019-11-02 16:03:27,003 : INFO : EPOCH 32 - PROGRESS: at 98.36% examples, 354579 words/s, in_qsize 14, out_qsize 1\n",
            "2019-11-02 16:03:27,151 : INFO : worker thread finished; awaiting finish of 7 more threads\n",
            "2019-11-02 16:03:27,156 : INFO : worker thread finished; awaiting finish of 6 more threads\n",
            "2019-11-02 16:03:27,201 : INFO : worker thread finished; awaiting finish of 5 more threads\n",
            "2019-11-02 16:03:27,216 : INFO : worker thread finished; awaiting finish of 4 more threads\n",
            "2019-11-02 16:03:27,219 : INFO : worker thread finished; awaiting finish of 3 more threads\n",
            "2019-11-02 16:03:27,222 : INFO : worker thread finished; awaiting finish of 2 more threads\n",
            "2019-11-02 16:03:27,226 : INFO : worker thread finished; awaiting finish of 1 more threads\n",
            "2019-11-02 16:03:27,235 : INFO : worker thread finished; awaiting finish of 0 more threads\n",
            "2019-11-02 16:03:27,236 : INFO : EPOCH - 32 : training on 9227204 raw words (8222982 effective words) took 23.0s, 356832 effective words/s\n",
            "2019-11-02 16:03:27,238 : INFO : training on a 295270528 raw words (263126189 effective words) took 734.9s, 358032 effective words/s\n"
          ],
          "name": "stderr"
        },
        {
          "output_type": "stream",
          "text": [
            "CPU times: user 23min 48s, sys: 5.4 s, total: 23min 54s\n",
            "Wall time: 12min 14s\n"
          ],
          "name": "stdout"
        },
        {
          "output_type": "execute_result",
          "data": {
            "text/plain": [
              "(263126189, 295270528)"
            ]
          },
          "metadata": {
            "tags": []
          },
          "execution_count": 20
        }
      ]
    },
    {
      "cell_type": "code",
      "metadata": {
        "id": "dVye7n1e53Ug",
        "colab_type": "code",
        "colab": {
          "base_uri": "https://localhost:8080/",
          "height": 275
        },
        "outputId": "afb722e7-fa6d-417f-e269-b16f959af202"
      },
      "source": [
        "w2v_model.most_similar(\"hate\")"
      ],
      "execution_count": 22,
      "outputs": [
        {
          "output_type": "stream",
          "text": [
            "/usr/local/lib/python3.6/dist-packages/ipykernel_launcher.py:1: DeprecationWarning: Call to deprecated `most_similar` (Method will be removed in 4.0.0, use self.wv.most_similar() instead).\n",
            "  \"\"\"Entry point for launching an IPython kernel.\n",
            "/usr/local/lib/python3.6/dist-packages/gensim/matutils.py:737: FutureWarning: Conversion of the second argument of issubdtype from `int` to `np.signedinteger` is deprecated. In future, it will be treated as `np.int64 == np.dtype(int).type`.\n",
            "  if np.issubdtype(vec.dtype, np.int):\n"
          ],
          "name": "stderr"
        },
        {
          "output_type": "execute_result",
          "data": {
            "text/plain": [
              "[('hates', 0.5698878169059753),\n",
              " ('sucks', 0.48134538531303406),\n",
              " ('stupid', 0.4725331664085388),\n",
              " ('dislike', 0.46621668338775635),\n",
              " ('suck', 0.45810794830322266),\n",
              " ('hating', 0.4370972812175751),\n",
              " ('despise', 0.43403005599975586),\n",
              " ('h8', 0.41227012872695923),\n",
              " ('ugh', 0.40906578302383423),\n",
              " ('annoying', 0.4016253352165222)]"
            ]
          },
          "metadata": {
            "tags": []
          },
          "execution_count": 22
        }
      ]
    },
    {
      "cell_type": "code",
      "metadata": {
        "id": "OAMGMwtn6C68",
        "colab_type": "code",
        "colab": {
          "base_uri": "https://localhost:8080/",
          "height": 275
        },
        "outputId": "932f4d05-ab5f-4765-e9e1-c2fe97e23c4f"
      },
      "source": [
        "w2v_model.most_similar(\"love\")"
      ],
      "execution_count": 23,
      "outputs": [
        {
          "output_type": "stream",
          "text": [
            "/usr/local/lib/python3.6/dist-packages/ipykernel_launcher.py:1: DeprecationWarning: Call to deprecated `most_similar` (Method will be removed in 4.0.0, use self.wv.most_similar() instead).\n",
            "  \"\"\"Entry point for launching an IPython kernel.\n",
            "/usr/local/lib/python3.6/dist-packages/gensim/matutils.py:737: FutureWarning: Conversion of the second argument of issubdtype from `int` to `np.signedinteger` is deprecated. In future, it will be treated as `np.int64 == np.dtype(int).type`.\n",
            "  if np.issubdtype(vec.dtype, np.int):\n"
          ],
          "name": "stderr"
        },
        {
          "output_type": "execute_result",
          "data": {
            "text/plain": [
              "[('luv', 0.5781408548355103),\n",
              " ('loved', 0.5501092672348022),\n",
              " ('loves', 0.5437631607055664),\n",
              " ('adore', 0.5200071930885315),\n",
              " ('looove', 0.5072627663612366),\n",
              " ('amazing', 0.5015450716018677),\n",
              " ('loveee', 0.47942495346069336),\n",
              " ('awesome', 0.4718255400657654),\n",
              " ('lovee', 0.44959086179733276),\n",
              " ('loooove', 0.44744646549224854)]"
            ]
          },
          "metadata": {
            "tags": []
          },
          "execution_count": 23
        }
      ]
    },
    {
      "cell_type": "code",
      "metadata": {
        "id": "Hxhfrq6v6Hf3",
        "colab_type": "code",
        "colab": {
          "base_uri": "https://localhost:8080/",
          "height": 68
        },
        "outputId": "f29e2546-bf36-4288-f3b9-522363f20355"
      },
      "source": [
        "#tokenizing the text\n",
        "%%time\n",
        "tokenizer = Tokenizer()\n",
        "tokenizer.fit_on_texts(df_train.text)\n",
        "\n",
        "vocab_size = len(tokenizer.word_index) + 1\n",
        "print(\"total words: \", vocab_size)"
      ],
      "execution_count": 25,
      "outputs": [
        {
          "output_type": "stream",
          "text": [
            "total words:  290419\n",
            "CPU times: user 21.5 s, sys: 95.1 ms, total: 21.6 s\n",
            "Wall time: 21.6 s\n"
          ],
          "name": "stdout"
        }
      ]
    },
    {
      "cell_type": "code",
      "metadata": {
        "id": "ARTOfCm-6bcX",
        "colab_type": "code",
        "colab": {
          "base_uri": "https://localhost:8080/",
          "height": 51
        },
        "outputId": "8d11c86e-96f2-479a-9a86-abf558e34c0f"
      },
      "source": [
        "%%time\n",
        "x_train = pad_sequences(tokenizer.texts_to_sequences(df_train.text), maxlen=sequence_length)\n",
        "x_test = pad_sequences(tokenizer.texts_to_sequences(df_test.text), maxlen=sequence_length)"
      ],
      "execution_count": 26,
      "outputs": [
        {
          "output_type": "stream",
          "text": [
            "CPU times: user 30.5 s, sys: 584 ms, total: 31.1 s\n",
            "Wall time: 31.1 s\n"
          ],
          "name": "stdout"
        }
      ]
    },
    {
      "cell_type": "code",
      "metadata": {
        "id": "KaSb5iaU69y4",
        "colab_type": "code",
        "colab": {
          "base_uri": "https://localhost:8080/",
          "height": 34
        },
        "outputId": "f19d8a43-724a-4f8e-b1d1-1bc1b2102a82"
      },
      "source": [
        "#label encoding\n",
        "labels = df_train.target.unique().tolist()\n",
        "labels.append(neutral)\n",
        "labels"
      ],
      "execution_count": 27,
      "outputs": [
        {
          "output_type": "execute_result",
          "data": {
            "text/plain": [
              "['positive', 'negative', 'neutral']"
            ]
          },
          "metadata": {
            "tags": []
          },
          "execution_count": 27
        }
      ]
    },
    {
      "cell_type": "code",
      "metadata": {
        "id": "wYG0mG0l7Grt",
        "colab_type": "code",
        "colab": {
          "base_uri": "https://localhost:8080/",
          "height": 51
        },
        "outputId": "9c2632fb-e082-4076-b313-8464de9fb7cf"
      },
      "source": [
        "encoder = LabelEncoder()\n",
        "encoder.fit(df_train.target.tolist())\n",
        "\n",
        "y_train = encoder.transform(df_train.target.tolist())\n",
        "y_test = encoder.transform(df_test.target.tolist())\n",
        "\n",
        "y_train = y_train.reshape(-1,1)\n",
        "y_test = y_test.reshape(-1,1)\n",
        "\n",
        "print(\"y_train\",y_train.shape)\n",
        "print(\"y_test\",y_test.shape)"
      ],
      "execution_count": 28,
      "outputs": [
        {
          "output_type": "stream",
          "text": [
            "y_train (1280000, 1)\n",
            "y_test (320000, 1)\n"
          ],
          "name": "stdout"
        }
      ]
    },
    {
      "cell_type": "code",
      "metadata": {
        "id": "P7DSL7WI7OuL",
        "colab_type": "code",
        "colab": {
          "base_uri": "https://localhost:8080/",
          "height": 34
        },
        "outputId": "cb435544-72a5-4e09-e49e-099ea018e350"
      },
      "source": [
        "#text embedding layer\n",
        "embedding_matrix = np.zeros((vocab_size, w2v_size))\n",
        "for word, i in tokenizer.word_index.items():\n",
        "  if word in w2v_model.wv:\n",
        "    embedding_matrix[i] = w2v_model.wv[word]\n",
        "print(embedding_matrix.shape)"
      ],
      "execution_count": 29,
      "outputs": [
        {
          "output_type": "stream",
          "text": [
            "(290419, 300)\n"
          ],
          "name": "stdout"
        }
      ]
    },
    {
      "cell_type": "code",
      "metadata": {
        "id": "7Ocr7KCT7bBX",
        "colab_type": "code",
        "colab": {}
      },
      "source": [
        "embedding_layer = Embedding(vocab_size, w2v_size, weights=[embedding_matrix], input_length=sequence_length, trainable=False)"
      ],
      "execution_count": 0,
      "outputs": []
    },
    {
      "cell_type": "code",
      "metadata": {
        "id": "CXsayLNO7j28",
        "colab_type": "code",
        "colab": {}
      },
      "source": [
        "#building model\n",
        "model = Sequential()\n",
        "model.add(embedding_layer)\n",
        "model.add(Dropout(0.5))\n",
        "model.add(LSTM(100, dropout=0.2, recurrent_dropout=0.2))\n",
        "model.add(Dense(1, activation='sigmoid'))"
      ],
      "execution_count": 0,
      "outputs": []
    },
    {
      "cell_type": "code",
      "metadata": {
        "id": "9JswuFTh74jV",
        "colab_type": "code",
        "colab": {}
      },
      "source": [
        "model.compile(loss='binary_crossentropy',\n",
        "              optimizer=\"adam\",\n",
        "              metrics=['accuracy'])"
      ],
      "execution_count": 0,
      "outputs": []
    },
    {
      "cell_type": "code",
      "metadata": {
        "id": "BZWhhUL18xLX",
        "colab_type": "code",
        "colab": {}
      },
      "source": [
        "#callback functions\n",
        "callbacks = [ ReduceLROnPlateau(monitor='val_loss', patience=5, cooldown=0),\n",
        "              EarlyStopping(monitor='val_acc', min_delta=1e-4, patience=5)]"
      ],
      "execution_count": 0,
      "outputs": []
    },
    {
      "cell_type": "code",
      "metadata": {
        "id": "mTr6X-RY-yUD",
        "colab_type": "code",
        "colab": {
          "base_uri": "https://localhost:8080/",
          "height": 340
        },
        "outputId": "2e6cbc7e-065b-44fb-c549-b683ee62f055"
      },
      "source": [
        "#training\n",
        "%%time\n",
        "history = model.fit(x_train, y_train,\n",
        "                    batch_size=batch_size,\n",
        "                    epochs=epochs,\n",
        "                    validation_split=0.1,\n",
        "                    verbose=1,\n",
        "                    callbacks=callbacks)"
      ],
      "execution_count": 44,
      "outputs": [
        {
          "output_type": "stream",
          "text": [
            "Train on 1152000 samples, validate on 128000 samples\n",
            "Epoch 1/8\n",
            "1152000/1152000 [==============================] - 1022s 887us/step - loss: 0.5033 - acc: 0.7517 - val_loss: 0.4654 - val_acc: 0.7788\n",
            "Epoch 2/8\n",
            "1152000/1152000 [==============================] - 1021s 886us/step - loss: 0.4812 - acc: 0.7657 - val_loss: 0.4574 - val_acc: 0.7840\n",
            "Epoch 3/8\n",
            "1152000/1152000 [==============================] - 1020s 885us/step - loss: 0.4740 - acc: 0.7709 - val_loss: 0.4561 - val_acc: 0.7859\n",
            "Epoch 4/8\n",
            "1152000/1152000 [==============================] - 1020s 885us/step - loss: 0.4698 - acc: 0.7730 - val_loss: 0.4515 - val_acc: 0.7877\n",
            "Epoch 5/8\n",
            "1152000/1152000 [==============================] - 1020s 886us/step - loss: 0.4677 - acc: 0.7744 - val_loss: 0.4523 - val_acc: 0.7883\n",
            "Epoch 6/8\n",
            "1152000/1152000 [==============================] - 1019s 885us/step - loss: 0.4656 - acc: 0.7760 - val_loss: 0.4494 - val_acc: 0.7899\n",
            "Epoch 7/8\n",
            "1152000/1152000 [==============================] - 1023s 888us/step - loss: 0.4644 - acc: 0.7768 - val_loss: 0.4488 - val_acc: 0.7899\n",
            "Epoch 8/8\n",
            "1152000/1152000 [==============================] - 1018s 883us/step - loss: 0.4634 - acc: 0.7769 - val_loss: 0.4489 - val_acc: 0.7898\n",
            "CPU times: user 2h 23min 3s, sys: 19min 34s, total: 2h 42min 37s\n",
            "Wall time: 2h 16min 2s\n"
          ],
          "name": "stdout"
        }
      ]
    },
    {
      "cell_type": "code",
      "metadata": {
        "id": "UisM58kbePe7",
        "colab_type": "code",
        "colab": {
          "base_uri": "https://localhost:8080/",
          "height": 119
        },
        "outputId": "a42c9f87-16d0-4c63-b5be-b9b0a25b1e78"
      },
      "source": [
        "#testing\n",
        "%%time\n",
        "score = model.evaluate(x_test, y_test, batch_size=batch_size)\n",
        "print()\n",
        "print(\"accuracy:\",score[1])\n",
        "print(\"loss:\",score[0])"
      ],
      "execution_count": 46,
      "outputs": [
        {
          "output_type": "stream",
          "text": [
            "320000/320000 [==============================] - 111s 347us/step\n",
            "\n",
            "accuracy: 0.790565625\n",
            "loss: 0.44745776104927065\n",
            "CPU times: user 1min 44s, sys: 10.2 s, total: 1min 54s\n",
            "Wall time: 1min 50s\n"
          ],
          "name": "stdout"
        }
      ]
    },
    {
      "cell_type": "code",
      "metadata": {
        "id": "SZJQynXngXvC",
        "colab_type": "code",
        "colab": {}
      },
      "source": [
        "#predicting\n",
        "def decode_sentiment(score, include_neutral=True):\n",
        "    if include_neutral:        \n",
        "        label = neutral\n",
        "        if score <= thresholds[0]:\n",
        "            label = negative\n",
        "        elif score >= thresholds[1]:\n",
        "            label = positive\n",
        "\n",
        "        return label\n",
        "    else:\n",
        "        return negative if score < 0.5 else positive"
      ],
      "execution_count": 0,
      "outputs": []
    },
    {
      "cell_type": "code",
      "metadata": {
        "id": "9Q9uy9P9jxsl",
        "colab_type": "code",
        "colab": {}
      },
      "source": [
        "def predict(text, include_neutral=True):\n",
        "    start_at = time.time()\n",
        "    x_test = pad_sequences(tokenizer.texts_to_sequences([text]), maxlen=sequence_length)\n",
        "    score = model.predict([x_test])[0]\n",
        "    label = decode_sentiment(score, include_neutral=include_neutral)\n",
        "\n",
        "    return {\"label\": label, \"score\": float(score),\n",
        "       \"elapsed_time\": time.time()-start_at}"
      ],
      "execution_count": 0,
      "outputs": []
    },
    {
      "cell_type": "code",
      "metadata": {
        "id": "BUd1KyHhl1uV",
        "colab_type": "code",
        "colab": {
          "base_uri": "https://localhost:8080/",
          "height": 68
        },
        "outputId": "fac42fa8-1438-4821-9b92-04cbe6e99631"
      },
      "source": [
        "predict(\"I love the food\")"
      ],
      "execution_count": 60,
      "outputs": [
        {
          "output_type": "execute_result",
          "data": {
            "text/plain": [
              "{'elapsed_time': 0.22563552856445312,\n",
              " 'label': 'positive',\n",
              " 'score': 0.9170794486999512}"
            ]
          },
          "metadata": {
            "tags": []
          },
          "execution_count": 60
        }
      ]
    },
    {
      "cell_type": "code",
      "metadata": {
        "id": "5R3bwr0-nG39",
        "colab_type": "code",
        "colab": {
          "base_uri": "https://localhost:8080/",
          "height": 68
        },
        "outputId": "7c7b91a2-a061-428e-aa7a-d90a0f90aff5"
      },
      "source": [
        "predict(\"never again\")"
      ],
      "execution_count": 66,
      "outputs": [
        {
          "output_type": "execute_result",
          "data": {
            "text/plain": [
              "{'elapsed_time': 0.2417464256286621,\n",
              " 'label': 'negative',\n",
              " 'score': 0.25881290435791016}"
            ]
          },
          "metadata": {
            "tags": []
          },
          "execution_count": 66
        }
      ]
    },
    {
      "cell_type": "code",
      "metadata": {
        "id": "_Nsk6s0Po1qR",
        "colab_type": "code",
        "colab": {
          "base_uri": "https://localhost:8080/",
          "height": 34
        },
        "outputId": "85b17dfb-588e-45a4-d64f-e05384847830"
      },
      "source": [
        "#confusion matrix\n",
        "y_pred_1d = []\n",
        "y_test_1d = list(df_test.target)\n",
        "scores = model.predict(x_test, verbose=1, batch_size=8000)\n",
        "y_pred_1d = [decode_sentiment(score, include_neutral=False) for score in scores]"
      ],
      "execution_count": 68,
      "outputs": [
        {
          "output_type": "stream",
          "text": [
            "320000/320000 [==============================] - 67s 211us/step\n"
          ],
          "name": "stdout"
        }
      ]
    },
    {
      "cell_type": "code",
      "metadata": {
        "id": "FAkAiREopwWm",
        "colab_type": "code",
        "colab": {
          "base_uri": "https://localhost:8080/",
          "height": 170
        },
        "outputId": "91a731d2-9399-4283-ccaa-17e99cc8dbed"
      },
      "source": [
        "print(classification_report(y_test_1d, y_pred_1d))"
      ],
      "execution_count": 69,
      "outputs": [
        {
          "output_type": "stream",
          "text": [
            "              precision    recall  f1-score   support\n",
            "\n",
            "    negative       0.79      0.79      0.79    159494\n",
            "    positive       0.79      0.79      0.79    160506\n",
            "\n",
            "    accuracy                           0.79    320000\n",
            "   macro avg       0.79      0.79      0.79    320000\n",
            "weighted avg       0.79      0.79      0.79    320000\n",
            "\n"
          ],
          "name": "stdout"
        }
      ]
    },
    {
      "cell_type": "code",
      "metadata": {
        "id": "q8_o_oVGp7MU",
        "colab_type": "code",
        "colab": {
          "base_uri": "https://localhost:8080/",
          "height": 139
        },
        "outputId": "d43e66a0-11d9-4283-ade5-5bbc2333338c"
      },
      "source": [
        "model.save(keras_model)\n",
        "w2v_model.save(\"model.w2v\")\n",
        "pickle.dump(tokenizer, open(tokenizer_model, \"wb\"), protocol=0)\n",
        "pickle.dump(encoder, open(\"encoder.pkl\", \"wb\"), protocol=0)"
      ],
      "execution_count": 70,
      "outputs": [
        {
          "output_type": "stream",
          "text": [
            "2019-11-02 19:49:56,174 : INFO : saving Word2Vec object under model.w2v, separately None\n",
            "2019-11-02 19:49:56,175 : INFO : not storing attribute vectors_norm\n",
            "2019-11-02 19:49:56,180 : INFO : not storing attribute cum_table\n",
            "/usr/local/lib/python3.6/dist-packages/smart_open/smart_open_lib.py:398: UserWarning: This function is deprecated, use smart_open.open instead. See the migration notes for details: https://github.com/RaRe-Technologies/smart_open/blob/master/README.rst#migrating-to-the-new-open-function\n",
            "  'See the migration notes for details: %s' % _MIGRATION_NOTES_URL\n",
            "2019-11-02 19:49:57,096 : INFO : saved model.w2v\n"
          ],
          "name": "stderr"
        }
      ]
    },
    {
      "cell_type": "code",
      "metadata": {
        "id": "sKb1cUcArHpU",
        "colab_type": "code",
        "colab": {
          "base_uri": "https://localhost:8080/",
          "height": 34
        },
        "outputId": "e4dfccbe-3353-4a63-d001-f23389b14663"
      },
      "source": [
        "!ls"
      ],
      "execution_count": 71,
      "outputs": [
        {
          "output_type": "stream",
          "text": [
            "encoder.pkl  model.w2v\treviews.csv  sample_data  sentiment.h5\ttokenizer.pkl\n"
          ],
          "name": "stdout"
        }
      ]
    }
  ]
}